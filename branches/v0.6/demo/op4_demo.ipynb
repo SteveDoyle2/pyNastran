{
 "metadata": {
  "name": "op4_demo"
 },
 "nbformat": 3,
 "nbformat_minor": 0,
 "worksheets": [
  {
   "cells": [
    {
     "cell_type": "code",
     "collapsed": false,
     "input": "import os\nfrom pyNastran.utils import print_bad_path\nfrom pyNastran.op4.op4 import OP4\nfrom numpy import float32, float64, int32, int64, product",
     "language": "python",
     "metadata": {},
     "outputs": [],
     "prompt_number": 1
    },
    {
     "cell_type": "code",
     "collapsed": false,
     "input": "op4 = OP4()\nmatrices = op4.read_op4()",
     "language": "python",
     "metadata": {},
     "outputs": [],
     "prompt_number": "*"
    },
    {
     "cell_type": "code",
     "collapsed": false,
     "input": "",
     "language": "python",
     "metadata": {},
     "outputs": []
    },
    {
     "cell_type": "code",
     "collapsed": false,
     "input": "op4 = OP4()\n\ndirname = r'D:\\work\\pynastran_0.7.0_py27\\models\\iSat'\nos.listdir(dirname)\n#op4_filename = r'D:\\work\\pynastran_0.7.0_py27\\models\\iSat\\ISat_Launch_Sm_Rgd.op4'\nop4_filename = r'D:\\work\\pynastran_0.7.0_py27\\models\\iSat\\ISat_Launch_Sm_4pt.op4'\nassert os.path.exists(op4_filename), print_bad_path(op4_filename)\nmatricesA = op4.read_op4(op4_filename)",
     "language": "python",
     "metadata": {},
     "outputs": [],
     "prompt_number": "*"
    },
    {
     "cell_type": "code",
     "collapsed": false,
     "input": "from pyNastran.utils import object_methods\nprint \"keys = \", matrices.keys()\n#matrices2a = op4.read_op4(op4_filename, matrix_names=['FLAMA'])\n#matrices2b = op4.read_op4(op4_filename, matrix_names='FLAMA')\n\nprint \"object_methods\", object_methods(op4)\nprint op4.getTypeNWV(float32(1.0))\n#op4.getTypeNWV?\n#op4?",
     "language": "python",
     "metadata": {},
     "outputs": [],
     "prompt_number": "*"
    },
    {
     "cell_type": "code",
     "collapsed": false,
     "input": "print matrices.keys()\n#print matrices2a.keys()\n#print matrices2b.keys()\nform_flama, flama = matrices['FLAMA']\nprint \"shape = \", flama.shape\n#print len(flama)\n#print len(flama[0])\nprint \"type \", type(flama[0][0])\nprint \"flamat nvals =\", product(flama.shape)\n\nform_ugext, ugext = matrices['UGEXT']\nprint \"form_ugext=%s type=%s\" % (form_ugext, type(ugext[0,0]))\n#print \"ugext\", ugext\nprint \"ugext.shape =\", ugext.shape\nprint \"ugext nvals =\", product(ugext.shape)",
     "language": "python",
     "metadata": {},
     "outputs": [],
     "prompt_number": "*"
    },
    {
     "cell_type": "code",
     "collapsed": false,
     "input": "print ugext[:,:]\n#print flama",
     "language": "python",
     "metadata": {},
     "outputs": [],
     "prompt_number": "*"
    },
    {
     "cell_type": "code",
     "collapsed": false,
     "input": "#del matrices, op4",
     "language": "python",
     "metadata": {},
     "outputs": [],
     "prompt_number": "*"
    }
   ],
   "metadata": {}
  }
 ]
}