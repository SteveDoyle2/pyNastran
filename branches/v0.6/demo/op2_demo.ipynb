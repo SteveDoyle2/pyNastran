{
 "metadata": {
  "name": "op2_demo"
 },
 "nbformat": 3,
 "nbformat_minor": 0,
 "worksheets": [
  {
   "cells": [
    {
     "cell_type": "code",
     "collapsed": false,
     "input": "import os\nfrom pyNastran.utils import print_bad_path\nfrom pyNastran.op2.op2 import OP2\n\n#op2_filename = r'D:\\work\\pynastran_0.7.0_py27\\models\\iSat\\ISat_Launch_Sm_Rgd.op2'\nop2_filename = r'D:\\work\\pynastran_0.7.0_py27\\models\\iSat\\ISat_Launch_Sm_4pt.op2'\nop2 = OP2(op2_filename)\n\n#assert os.path.exists(op2_filename), print_bad_path(op2_filename)\nop2.read_op2()\n",
     "language": "python",
     "metadata": {},
     "outputs": [
      {
       "output_type": "stream",
       "stream": "stdout",
       "text": "DEBUG:     fname=op2.pyc                   lineNo=98     set_subcases - subcases = []\n"
      },
      {
       "output_type": "stream",
       "stream": "stdout",
       "text": "DEBUG:     fname=op2.pyc                   lineNo=137    op2FileName = D:\\work\\pynastran_0.7.0_py27\\models\\iSat\\ISat_Launch_Sm_4pt.op2\n"
      },
      {
       "output_type": "stream",
       "stream": "stdout",
       "text": "DEBUG:     fname=op2.pyc                   lineNo=769    --------------------------------------------------------------------------------\n"
      },
      {
       "output_type": "stream",
       "stream": "stdout",
       "text": "table_name = GEOM1\nDEBUG:     fname=op2.pyc                   lineNo=785    table_name = |u'GEOM1'|\n"
      },
      {
       "output_type": "stream",
       "stream": "stdout",
       "text": "DEBUG:     fname=op2.pyc                   lineNo=957    *** finished table_name = |u'GEOM1'|\n"
      },
      {
       "output_type": "stream",
       "stream": "stdout",
       "text": "DEBUG:     fname=op2.pyc                   lineNo=769    --------------------------------------------------------------------------------\n"
      },
      {
       "output_type": "stream",
       "stream": "stdout",
       "text": "table_name = GEOM2\nDEBUG:     fname=op2.pyc                   lineNo=785    table_name = |u'GEOM2'|\n"
      },
      {
       "output_type": "stream",
       "stream": "stdout",
       "text": "DEBUG:     fname=op2.pyc                   lineNo=957    *** finished table_name = |u'GEOM2'|\n"
      },
      {
       "output_type": "stream",
       "stream": "stdout",
       "text": "DEBUG:     fname=op2.pyc                   lineNo=769    --------------------------------------------------------------------------------\n"
      },
      {
       "output_type": "stream",
       "stream": "stdout",
       "text": "table_name = GEOM4\nDEBUG:     fname=op2.pyc                   lineNo=785    table_name = |u'GEOM4'|\n"
      },
      {
       "output_type": "stream",
       "stream": "stdout",
       "text": "DEBUG:     fname=op2.pyc                   lineNo=957    *** finished table_name = |u'GEOM4'|\n"
      },
      {
       "output_type": "stream",
       "stream": "stdout",
       "text": "DEBUG:     fname=op2.pyc                   lineNo=769    --------------------------------------------------------------------------------\n"
      },
      {
       "output_type": "stream",
       "stream": "stdout",
       "text": "table_name = EPT\nDEBUG:     fname=op2.pyc                   lineNo=785    table_name = |u'EPT'|\n"
      },
      {
       "output_type": "stream",
       "stream": "stdout",
       "text": "DEBUG:     fname=op2.pyc                   lineNo=957    *** finished table_name = |u'EPT'|\n"
      },
      {
       "output_type": "stream",
       "stream": "stdout",
       "text": "DEBUG:     fname=op2.pyc                   lineNo=769    --------------------------------------------------------------------------------\n"
      },
      {
       "output_type": "stream",
       "stream": "stdout",
       "text": "table_name = MPTS\nDEBUG:     fname=op2.pyc                   lineNo=785    table_name = |u'MPTS'|\n"
      },
      {
       "output_type": "stream",
       "stream": "stdout",
       "text": "DEBUG:     fname=op2.pyc                   lineNo=957    *** finished table_name = |u'MPTS'|\n"
      },
      {
       "output_type": "stream",
       "stream": "stdout",
       "text": "DEBUG:     fname=op2.pyc                   lineNo=769    --------------------------------------------------------------------------------\n"
      },
      {
       "output_type": "stream",
       "stream": "stdout",
       "text": "table_name = DYNAMICS\nDEBUG:     fname=op2.pyc                   lineNo=785    table_name = |u'DYNAMICS'|\n"
      },
      {
       "output_type": "stream",
       "stream": "stdout",
       "text": "DEBUG:     fname=op2.pyc                   lineNo=957    *** finished table_name = |u'DYNAMICS'|\n"
      },
      {
       "output_type": "stream",
       "stream": "stdout",
       "text": "DEBUG:     fname=op2.pyc                   lineNo=769    --------------------------------------------------------------------------------\n"
      },
      {
       "output_type": "stream",
       "stream": "stdout",
       "text": "table_name = OUGV1\nDEBUG:     fname=op2.pyc                   lineNo=785    table_name = |u'OUGV1'|\n"
      },
      {
       "output_type": "stream",
       "stream": "stdout",
       "text": "DEBUG:     fname=op2.pyc                   lineNo=957    *** finished table_name = |u'OUGV1'|\n"
      },
      {
       "output_type": "stream",
       "stream": "stdout",
       "text": "DEBUG:     fname=op2.pyc                   lineNo=769    --------------------------------------------------------------------------------\n"
      },
      {
       "output_type": "stream",
       "stream": "stdout",
       "text": "table_name = OEF1X\nDEBUG:     fname=op2.pyc                   lineNo=785    table_name = |u'OEF1X'|\n"
      },
      {
       "output_type": "stream",
       "stream": "stdout",
       "text": "DEBUG:     fname=op2.pyc                   lineNo=957    *** finished table_name = |u'OEF1X'|\n"
      },
      {
       "output_type": "stream",
       "stream": "stdout",
       "text": "DEBUG:     fname=op2.pyc                   lineNo=769    --------------------------------------------------------------------------------\n"
      },
      {
       "output_type": "stream",
       "stream": "stdout",
       "text": "table_name = OES1X1\nDEBUG:     fname=op2.pyc                   lineNo=785    table_name = |u'OES1X1'|\n"
      },
      {
       "output_type": "stream",
       "stream": "stdout",
       "text": "DEBUG:     fname=oes_objects.pyc           lineNo=36     starting OES...element_name=CQUAD4 isubcase=1\n"
      },
      {
       "output_type": "stream",
       "stream": "stdout",
       "text": "DEBUG:     fname=op2.pyc                   lineNo=957    *** finished table_name = |u'OES1X1'|\n"
      },
      {
       "output_type": "stream",
       "stream": "stdout",
       "text": "DEBUG:     fname=op2.pyc                   lineNo=793    ---end of all tables---\n"
      }
     ],
     "prompt_number": "*"
    },
    {
     "cell_type": "code",
     "collapsed": false,
     "input": "from pyNastran.utils import object_methods\nfrom numpy import abs\n\n#print op2.get_op2_stats()\nprint \"loadcases =\", op2.eigenvectors.keys()\neig1 = op2.eigenvectors[1]\nmodes = eig1.translations.keys()\n#print \"modes =\", modes\nmode2 = eig1.translations[2]\n#print \"mode2 =\", mode2.keys()\nmode2_node10 = mode2[10]\nprint \"mode2_node10 =\", mode2_node10\n#m0 = modes[0]\n#print \"n1 = \", case3[m0]\n\nplate_stress = op2.plateStress[1]\nprint \"plate_stress_obj =\", type(plate_stress)\nprint \"plate_stress = \", plate_stress.__dict__.keys()\nplate_stress.ovmShear.keys()  # 1-6\nplate_stress.data_code\n\n#type(plate_stress)\n\ndef abs_max_min(vals):\n    maxval = max(abs(vals))\n    i = vals.index(maxval)\n    return vals[i]\n\nobject_methods(plate_stress)\nplate_stress.isVonMises()  # True\novm = plate_stress.ovmShear\n#ovm.keys()  # modes 1-6\n#ovm[6].keys()  # elements 1-3277\nprint \"vals =\", ovm[6][1000]['C'] \novm_mode6_eid1000 = abs_max_min(ovm[6][1000]['C'])\nprint \"ovm_mode6_eid1000 =\", ovm_mode6_eid1000\n\nimport copy\nps = copy.deepcopy(plate_stress)\n",
     "language": "python",
     "metadata": {},
     "outputs": [
      {
       "output_type": "stream",
       "stream": "stdout",
       "text": "loadcases = [1]\nmode2_node10 = [  1.69552350e-05   7.93729909e-03   1.50962302e-03]"
      },
      {
       "output_type": "stream",
       "stream": "stdout",
       "text": "\nplate_stress_obj = <class 'pyNastran.op2.tables.oes_stressStrain.real.oes_plates.PlateStressObject'>\nplate_stress =  ['code', 'subtitle', 'stress_bits', 'load_set', 'thermal', 's_code', 'txy', 'fiberCurvature', 'isubcase', 'angle', 'element_name', 'add_new_eid', 'nonlinear_factor', 'log', 'oyy', 'minorP', 'isTransient', 'mode_cycles', 'sort_bits', 'label', 'add', 'num_wide', 'mode', 'format_code', 'device_code', 'majorP', 'dataNames', 'eType', 'oxx', 'dt', 'modes', 'mode_cycle', 'name', 'analysis_code', 'table_code', 'element_type', 'table_name', 'data_code', 'sort_code', 'addNewNode', 'ovmShear']\nvals ="
      },
      {
       "output_type": "stream",
       "stream": "stdout",
       "text": " [1146.9427490234375, 1720.633056640625]\novm_mode6_eid1000 ="
      }
     ],
     "prompt_number": "*"
    },
    {
     "cell_type": "code",
     "collapsed": false,
     "input": "import copy\nps = copy.deepcopy(plate_stress)\nprint \"ps.mode_cycles\", ps.mode_cycles\nps.mode_cycles = [0.0]\n#aaa\nps.oxx = {6: ps.oxx[6]}\nps.oyy = {6: ps.oyy[6]}\nps.txy = {6: ps.txy[6]}\nps.fiberCurvature = {1: ps.fiberCurvature[1]}\n#print \"fiberCurv\", ps.fiberCurvature\nps.modes = [6]\nps.majorP = {6: ps.majorP[6]}\nps.minorP = {6: ps.minorP[6]}\nps.ovmShear = {6: ps.ovmShear[6]}\n\n#object_methods(ps)\nfname = os.path.join(r'C:\\f.f06')\nf = open(fname, 'wb')\nps.write_f06(['header1','header2'], 'stamp', f=f)\nf.close()\n#ps.write_f06?\n",
     "language": "python",
     "metadata": {},
     "outputs": [],
     "prompt_number": "*"
    }
   ],
   "metadata": {}
  }
 ]
}