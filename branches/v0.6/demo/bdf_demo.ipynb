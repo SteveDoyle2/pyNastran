{
 "metadata": {
  "name": "bdf_demo"
 },
 "nbformat": 3,
 "nbformat_minor": 0,
 "worksheets": [
  {
   "cells": [
    {
     "cell_type": "code",
     "collapsed": false,
     "input": "#import scipy\n#print scipy.__path__\n\nimport pyNastran\nprint pyNastran.__file__\n\nfrom pyNastran.bdf.bdf import BDF\nbdf = BDF()\n\nbdf_filename = r'D:\\work\\pynastran_0.7.0_py27\\models\\iSat\\ISat_Launch_Sm_Rgd.dat'\nbdf.read_bdf(bdf_filename, xref=False)",
     "language": "python",
     "metadata": {},
     "outputs": [
      {
       "output_type": "stream",
       "stream": "stdout",
       "text": "d:\\work\\pynastran_0.7.0_py27\\pyNastran\\__init__.pyc\nINFO:      fname=bdf.pyc                   lineNo=958    opening 'D:\\\\work\\\\pynastran_0.7.0_py27\\\\models\\\\iSat\\\\ISat_Launch_Sm_Rgd.dat'\n"
      },
      {
       "output_type": "stream",
       "stream": "stdout",
       "text": "DEBUG:     fname=bdf.pyc                   lineNo=705    ---starting BDF.read_bdf of D:\\work\\pynastran_0.7.0_py27\\models\\iSat\\ISat_Launch_Sm_Rgd.dat---\n"
      },
      {
       "output_type": "stream",
       "stream": "stdout",
       "text": "DEBUG:     fname=bdf.pyc                   lineNo=707    ---reading executive and case control decks---\n"
      },
      {
       "output_type": "stream",
       "stream": "stdout",
       "text": "DEBUG:     fname=bdf.pyc                   lineNo=910    found the end of the Case Control Deck!\n"
      },
      {
       "output_type": "stream",
       "stream": "stdout",
       "text": "INFO:      fname=bdf.pyc                   lineNo=912    finished with Case Control Deck..\n"
      },
      {
       "output_type": "stream",
       "stream": "stdout",
       "text": "INFO:      fname=bdf.pyc                   lineNo=1206   reading Bulk Data Deck...\n"
      },
      {
       "output_type": "stream",
       "stream": "stdout",
       "text": "INFO:      fname=bdf.pyc                   lineNo=934    reject card_name = |USET|\n"
      },
      {
       "output_type": "stream",
       "stream": "stdout",
       "text": "INFO:      fname=bdf.pyc                   lineNo=981    closing 'D:\\\\work\\\\pynastran_0.7.0_py27\\\\models\\\\iSat\\\\ISat_Launch_Sm_Rgd.dat'\n"
      },
      {
       "output_type": "stream",
       "stream": "stdout",
       "text": "DEBUG:     fname=bdf.pyc                   lineNo=720    ---finished BDF.read_bdf of D:\\work\\pynastran_0.7.0_py27\\models\\iSat\\ISat_Launch_Sm_Rgd.dat---\n"
      }
     ],
     "prompt_number": 2
    },
    {
     "cell_type": "code",
     "collapsed": false,
     "input": "from pyNastran.utils import object_attributes, object_methods\nbdf = rgd_bdf\n\n#object_attributes(bdf)\n#object_methods(bdf)\nprint bdf.card_stats()\n#print bdf.card_count",
     "language": "python",
     "metadata": {},
     "outputs": [
      {
       "output_type": "stream",
       "stream": "stdout",
       "text": "---BDF Statistics---\nSOL 103\n\nbdf.params\n  PARAM:   8\n\nbdf.nodes\n  GRID:    5380\n\nbdf.elements\n  CBAR:    827\n  CBUSH:   104\n  CHEXA:   25\n  CONM2:   15\n  CQUAD4:  4580\n  CTRIA3:  32\n\nbdf.rigidElements\n  RBE2:    44\n\nbdf.properties\n  PBAR:    1\n  PBARL:   18\n  PBUSH:   2\n  PSHELL:  8\n  PSOLID:  4\n\nbdf.materials\n  MAT1:    14\n  MAT8:    8\n\nbdf.coords\n  CORD2R:  75\n\nbdf.methods\n  EIGRL:   1\n\nRejected Cards\n  USET:    1\n\n"
      }
     ],
     "prompt_number": 3
    },
    {
     "cell_type": "code",
     "collapsed": false,
     "input": "n1 = bdf.nodes[1]\nn1.cp = bdf.coords[0]\nprint \"cp =\", n1.cp\nprint \"attributes =\", object_attributes(n1)\n#print \"methods = \", object_methods(n1)\nprint \"xyz =\", n1.xyz\nprint \"position =\", n1.Position()\n#print n1.comment()\n#print bdf.nodes[1]._comment\n#print bdf.nodes[2].comment()\n\nc = bdf.coords[6]\nprint n1\nn1.cp = bdf.coords[6]\nprint \"new Position\", n1.Position()\nprint \"new xyz\", n1.xyz\n\n#print \"methods = \", object_methods(c4)\n#print c4.reprFields()\nprint c\n\n#print c4.rawFields()",
     "language": "python",
     "metadata": {},
     "outputs": [
      {
       "output_type": "stream",
       "stream": "stdout",
       "text": "cp = CORD2R         0              0.      0.      0.      0.      0.      1.\n              1.      0.      0.\n\nattributes = ['cd', 'cp', 'nid', 'ps', 'seid', 'type', 'xyz']\nxyz = [ -4.5  -7.5 -14. ]\nposition = [ -4.5  -7.5 -14. ]\n$*\n$*  GRID CARDS\n$*\nGRID           1            -4.5    -7.5    -14.       4\n\nnew Position [-15.84917584  -5.98893188   5.90811012]\nnew xyz [ -4.5  -7.5 -14. ]\nCORD2R         6         -2.7677.7285825-1.59189-.4519813.044302-1.59189\n        -.451981-1.58714-1.59189\n\n"
      }
     ],
     "prompt_number": 4
    },
    {
     "cell_type": "code",
     "collapsed": false,
     "input": "\nbdf2 = BDF()\n\n#bdf_filename = r'D:\\work\\pynastran_0.7.0_py27\\models\\iSat\\ISat_Launch_Sm_Rgd.dat'\nbdf2.read_bdf(bdf_filename, xref=True)",
     "language": "python",
     "metadata": {},
     "outputs": [
      {
       "output_type": "stream",
       "stream": "stdout",
       "text": "INFO:      fname=bdf.pyc                   lineNo=958    opening 'D:\\\\work\\\\pynastran_0.7.0_py27\\\\models\\\\iSat\\\\ISat_Launch_Sm_Rgd.dat'\n"
      },
      {
       "output_type": "stream",
       "stream": "stdout",
       "text": "DEBUG:     fname=bdf.pyc                   lineNo=705    ---starting BDF.read_bdf of D:\\work\\pynastran_0.7.0_py27\\models\\iSat\\ISat_Launch_Sm_Rgd.dat---\n"
      },
      {
       "output_type": "stream",
       "stream": "stdout",
       "text": "DEBUG:     fname=bdf.pyc                   lineNo=707    ---reading executive and case control decks---\n"
      },
      {
       "output_type": "stream",
       "stream": "stdout",
       "text": "DEBUG:     fname=bdf.pyc                   lineNo=910    found the end of the Case Control Deck!\n"
      },
      {
       "output_type": "stream",
       "stream": "stdout",
       "text": "INFO:      fname=bdf.pyc                   lineNo=912    finished with Case Control Deck..\n"
      },
      {
       "output_type": "stream",
       "stream": "stdout",
       "text": "INFO:      fname=bdf.pyc                   lineNo=1206   reading Bulk Data Deck...\n"
      },
      {
       "output_type": "stream",
       "stream": "stdout",
       "text": "INFO:      fname=bdf.pyc                   lineNo=934    reject card_name = |USET|\n"
      },
      {
       "output_type": "stream",
       "stream": "stdout",
       "text": "INFO:      fname=bdf.pyc                   lineNo=981    closing 'D:\\\\work\\\\pynastran_0.7.0_py27\\\\models\\\\iSat\\\\ISat_Launch_Sm_Rgd.dat'\n"
      },
      {
       "output_type": "stream",
       "stream": "stdout",
       "text": "DEBUG:     fname=crossReference.pyc        lineNo=67     Cross Referencing...\n"
      },
      {
       "output_type": "stream",
       "stream": "stdout",
       "text": "DEBUG:     fname=bdf.pyc                   lineNo=720    ---finished BDF.read_bdf of D:\\work\\pynastran_0.7.0_py27\\models\\iSat\\ISat_Launch_Sm_Rgd.dat---\n"
      }
     ],
     "prompt_number": 5
    },
    {
     "cell_type": "code",
     "collapsed": false,
     "input": "bdf2.nodes[100].Position()\nbdf2.Mass()",
     "language": "python",
     "metadata": {},
     "outputs": [
      {
       "output_type": "pyout",
       "prompt_number": 6,
       "text": "1.7746011578443164"
      }
     ],
     "prompt_number": 6
    },
    {
     "cell_type": "code",
     "collapsed": false,
     "input": "bdf2.elements[100].nodes\n#print bdf2.elements[100].nodes[0]\n#print bdf2.elements[100].nodes[0].cd\n#print bdf2.elements[100].nodes[0].cd.cid\n\n#print bdf2.elements[100].pid\nprint bdf2.elements[100].pid.mid1\nprint bdf2.elements[100].pid.mid1.type\nprint bdf2.elements[100].pid.mid1.nu12\n",
     "language": "python",
     "metadata": {},
     "outputs": [
      {
       "output_type": "stream",
       "stream": "stdout",
       "text": "$*\n$*  I-DEAS Material: 6  name: BUS_CFRP_PW_ORTHO\n$* M46J PW ETW\nMAT8           6   1.7+7   1.7+7     .98 340000. 180000. 180000..0001712\n                           71.33\n\nMAT8\n0.98\n"
      }
     ],
     "prompt_number": 7
    },
    {
     "cell_type": "code",
     "collapsed": false,
     "input": "rigid = bdf.rigidElements[4359]\n#print(\"\"\"RBE2        4359    4225  123456    4147    4146    4079    4143    4154+ \n#+           4155    4148    4149    4244    4246    4248    4250    4084+ \n#+           4091    4053    4059\"\"\")\nif 200 in rigid.Gmi:\n    rigid.Gmi.pop()\n    #adf\nprint rigid\n#rigid.__dict__\nprint \"old Gmi\", rigid.Gmi\nrigid.Gmi.append(200)\n#rigid.Gmi.append(None)\n#rigid.Gmi.append(0.0)\nprint \"new Gmi\", rigid.Gmi\nprint rigid\n",
     "language": "python",
     "metadata": {},
     "outputs": [
      {
       "output_type": "stream",
       "stream": "stdout",
       "text": "RBE2        4359    4225  123456    4147    4146    4079    4143    4154\n            4155    4148    4149    4244    4246    4248    4250    4084\n            4091    4053    4059\n\nold Gmi [4147, 4146, 4079, 4143, 4154, 4155, 4148, 4149, 4244, 4246, 4248, 4250, 4084, 4091, 4053, 4059]\nnew Gmi [4147, 4146, 4079, 4143, 4154, 4155, 4148, 4149, 4244, 4246, 4248, 4250, 4084, 4091, 4053, 4059, 200]\nRBE2        4359    4225  123456    4147    4146    4079    4143    4154\n            4155    4148    4149    4244    4246    4248    4250    4084\n            4091    4053    4059     200\n\n"
      }
     ],
     "prompt_number": 8
    },
    {
     "cell_type": "code",
     "collapsed": false,
     "input": "",
     "language": "python",
     "metadata": {},
     "outputs": [],
     "prompt_number": 8
    }
   ],
   "metadata": {}
  }
 ]
}