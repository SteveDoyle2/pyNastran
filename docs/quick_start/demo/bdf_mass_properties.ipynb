{
 "cells": [
  {
   "cell_type": "markdown",
   "metadata": {},
   "source": [
    "# BDF Introduction\n",
    "\n",
    "The Jupyter notebook for this demo can be found in:\n",
    "   - docs/quick_start/demo/bdf_mass_properties.ipynb\n",
    "   - https://github.com/SteveDoyle2/pyNastran/tree/master/docs/quick_start/demo/bdf_mass_properties.ipynb\n",
    "   \n",
    "## Import pyNastran"
   ]
  },
  {
   "cell_type": "code",
   "execution_count": 1,
   "metadata": {},
   "outputs": [
    {
     "name": "stdout",
     "output_type": "stream",
     "text": [
      "C:\\work\\pyNastran\\pyNastran\\__init__.py\n",
      "1.5.0+dev.dd87fe6ea\n",
      "pkg_path = C:\\work\\pyNastran\\pyNastran\n"
     ]
    }
   ],
   "source": [
    "import os\n",
    "import pyNastran\n",
    "print (pyNastran.__file__)\n",
    "print (pyNastran.__version__)\n",
    "pkg_path = pyNastran.__path__[0]\n",
    "\n",
    "from pyNastran.bdf.bdf import BDF, read_bdf\n",
    "from pyNastran.utils import object_attributes, object_methods\n",
    "\n",
    "print(\"pkg_path = %s\" % pkg_path)"
   ]
  },
  {
   "cell_type": "markdown",
   "metadata": {},
   "source": [
    "## Let's load the  iSat model into the pyNastranGUI\n",
    "\n",
    "it's a .dat file, so instead of:\n",
    "\n",
    "```\n",
    ">>> pyNastranGUI -i bdf_filename\n",
    "```\n",
    "we need to include the format:\n",
    "\n",
    "```\n",
    ">>> pyNastranGUI -f nastran -i bdf_filename\n",
    "```\n",
    "\n",
    "Alternatively, we could load the model and the results, but in this demo we're just showing off the geometry.  To do that instead:\n",
    "\n",
    "```\n",
    ">>> pyNastranGUI -f nastran -i bdf_filename -o op2_filename\n",
    "```"
   ]
  },
  {
   "cell_type": "markdown",
   "metadata": {},
   "source": [
    "## Loading a BDF\n"
   ]
  },
  {
   "cell_type": "code",
   "execution_count": 2,
   "metadata": {},
   "outputs": [
    {
     "data": {
      "text/html": [
       "<text style=color:orange>WARNING: shell.py:2807                PSHELL pid=1 midsurface: z1=0.4 z2=-0.4 t=0.036 not in range of -1.5t < zi < 1.5t\n",
       "</text>"
      ],
      "text/plain": [
       "<IPython.core.display.HTML object>"
      ]
     },
     "metadata": {},
     "output_type": "display_data"
    },
    {
     "data": {
      "text/html": [
       "<text style=color:orange>WARNING: shell.py:2807                PSHELL pid=2 midsurface: z1=0.4 z2=-0.4 t=0.054 not in range of -1.5t < zi < 1.5t\n",
       "</text>"
      ],
      "text/plain": [
       "<IPython.core.display.HTML object>"
      ]
     },
     "metadata": {},
     "output_type": "display_data"
    },
    {
     "data": {
      "text/html": [
       "<text style=color:orange>WARNING: shell.py:2807                PSHELL pid=3 midsurface: z1=0.4 z2=-0.4 t=0.018 not in range of -1.5t < zi < 1.5t\n",
       "</text>"
      ],
      "text/plain": [
       "<IPython.core.display.HTML object>"
      ]
     },
     "metadata": {},
     "output_type": "display_data"
    },
    {
     "data": {
      "text/html": [
       "<text style=color:orange>WARNING: shell.py:2807                PSHELL pid=7 midsurface: z1=0.418 z2=-0.418 t=0.036 not in range of -1.5t < zi < 1.5t\n",
       "</text>"
      ],
      "text/plain": [
       "<IPython.core.display.HTML object>"
      ]
     },
     "metadata": {},
     "output_type": "display_data"
    },
    {
     "data": {
      "text/html": [
       "<text style=color:orange>WARNING: shell.py:2807                PSHELL pid=34 midsurface: z1=0.194 z2=-0.194 t=0.0186 not in range of -1.5t < zi < 1.5t\n",
       "</text>"
      ],
      "text/plain": [
       "<IPython.core.display.HTML object>"
      ]
     },
     "metadata": {},
     "output_type": "display_data"
    },
    {
     "data": {
      "text/html": [
       "<text style=color:orange>WARNING: shell.py:2807                PSHELL pid=38 midsurface: z1=0.284 z2=-0.284 t=0.0186 not in range of -1.5t < zi < 1.5t\n",
       "</text>"
      ],
      "text/plain": [
       "<IPython.core.display.HTML object>"
      ]
     },
     "metadata": {},
     "output_type": "display_data"
    },
    {
     "data": {
      "text/html": [
       "<text style=color:orange>WARNING: shell.py:2807                PSHELL pid=46 midsurface: z1=0.199 z2=-0.199 t=0.0186 not in range of -1.5t < zi < 1.5t\n",
       "</text>"
      ],
      "text/plain": [
       "<IPython.core.display.HTML object>"
      ]
     },
     "metadata": {},
     "output_type": "display_data"
    },
    {
     "data": {
      "text/html": [
       "<text style=color:orange>WARNING: shell.py:2807                PSHELL pid=37 midsurface: z1=0.309 z2=-0.309 t=0.0186 not in range of -1.5t < zi < 1.5t\n",
       "</text>"
      ],
      "text/plain": [
       "<IPython.core.display.HTML object>"
      ]
     },
     "metadata": {},
     "output_type": "display_data"
    }
   ],
   "source": [
    "bdf_filename = os.path.abspath(os.path.join(pkg_path, '..', 'models', 'iSat', 'ISat_Launch_Sm_Rgd.dat'))\n",
    "bdf = read_bdf(bdf_filename, xref=True, debug=False)"
   ]
  },
  {
   "cell_type": "markdown",
   "metadata": {},
   "source": [
    "For simplicity of using the demo, we'll again use the ```read_bdf``` method"
   ]
  },
  {
   "cell_type": "code",
   "execution_count": 3,
   "metadata": {},
   "outputs": [
    {
     "data": {
      "text/html": [
       "<text style=color:blue>DEBUG:   bdf.py:1417                  ---starting BDF.read_bdf of C:\\work\\pyNastran\\models\\iSat\\ISat_Launch_Sm_Rgd.dat---\n",
       "</text>"
      ],
      "text/plain": [
       "<IPython.core.display.HTML object>"
      ]
     },
     "metadata": {},
     "output_type": "display_data"
    },
    {
     "data": {
      "text/html": [
       "<text style=color:blue>DEBUG:   pybdf.py:790                 opening 'C:\\\\work\\\\pyNastran\\\\models\\\\iSat\\\\ISat_Launch_Sm_Rgd.dat'\n",
       "</text>"
      ],
      "text/plain": [
       "<IPython.core.display.HTML object>"
      ]
     },
     "metadata": {},
     "output_type": "display_data"
    },
    {
     "data": {
      "text/html": [
       "<text style=color:blue>DEBUG:   cross_reference.py:152       Cross Referencing...\n",
       "</text>"
      ],
      "text/plain": [
       "<IPython.core.display.HTML object>"
      ]
     },
     "metadata": {},
     "output_type": "display_data"
    },
    {
     "data": {
      "text/html": [
       "<text style=color:orange>WARNING: shell.py:2807                PSHELL pid=1 midsurface: z1=0.4 z2=-0.4 t=0.036 not in range of -1.5t < zi < 1.5t\n",
       "</text>"
      ],
      "text/plain": [
       "<IPython.core.display.HTML object>"
      ]
     },
     "metadata": {},
     "output_type": "display_data"
    },
    {
     "data": {
      "text/html": [
       "<text style=color:orange>WARNING: shell.py:2807                PSHELL pid=2 midsurface: z1=0.4 z2=-0.4 t=0.054 not in range of -1.5t < zi < 1.5t\n",
       "</text>"
      ],
      "text/plain": [
       "<IPython.core.display.HTML object>"
      ]
     },
     "metadata": {},
     "output_type": "display_data"
    },
    {
     "data": {
      "text/html": [
       "<text style=color:orange>WARNING: shell.py:2807                PSHELL pid=3 midsurface: z1=0.4 z2=-0.4 t=0.018 not in range of -1.5t < zi < 1.5t\n",
       "</text>"
      ],
      "text/plain": [
       "<IPython.core.display.HTML object>"
      ]
     },
     "metadata": {},
     "output_type": "display_data"
    },
    {
     "data": {
      "text/html": [
       "<text style=color:orange>WARNING: shell.py:2807                PSHELL pid=7 midsurface: z1=0.418 z2=-0.418 t=0.036 not in range of -1.5t < zi < 1.5t\n",
       "</text>"
      ],
      "text/plain": [
       "<IPython.core.display.HTML object>"
      ]
     },
     "metadata": {},
     "output_type": "display_data"
    },
    {
     "data": {
      "text/html": [
       "<text style=color:orange>WARNING: shell.py:2807                PSHELL pid=34 midsurface: z1=0.194 z2=-0.194 t=0.0186 not in range of -1.5t < zi < 1.5t\n",
       "</text>"
      ],
      "text/plain": [
       "<IPython.core.display.HTML object>"
      ]
     },
     "metadata": {},
     "output_type": "display_data"
    },
    {
     "data": {
      "text/html": [
       "<text style=color:orange>WARNING: shell.py:2807                PSHELL pid=38 midsurface: z1=0.284 z2=-0.284 t=0.0186 not in range of -1.5t < zi < 1.5t\n",
       "</text>"
      ],
      "text/plain": [
       "<IPython.core.display.HTML object>"
      ]
     },
     "metadata": {},
     "output_type": "display_data"
    },
    {
     "data": {
      "text/html": [
       "<text style=color:orange>WARNING: shell.py:2807                PSHELL pid=46 midsurface: z1=0.199 z2=-0.199 t=0.0186 not in range of -1.5t < zi < 1.5t\n",
       "</text>"
      ],
      "text/plain": [
       "<IPython.core.display.HTML object>"
      ]
     },
     "metadata": {},
     "output_type": "display_data"
    },
    {
     "data": {
      "text/html": [
       "<text style=color:orange>WARNING: shell.py:2807                PSHELL pid=37 midsurface: z1=0.309 z2=-0.309 t=0.0186 not in range of -1.5t < zi < 1.5t\n",
       "</text>"
      ],
      "text/plain": [
       "<IPython.core.display.HTML object>"
      ]
     },
     "metadata": {},
     "output_type": "display_data"
    },
    {
     "data": {
      "text/html": [
       "<text style=color:blue>DEBUG:   bdf.py:1569                  ---finished BDF.read_bdf of C:\\work\\pyNastran\\models\\iSat\\ISat_Launch_Sm_Rgd.dat---\n",
       "</text>"
      ],
      "text/plain": [
       "<IPython.core.display.HTML object>"
      ]
     },
     "metadata": {},
     "output_type": "display_data"
    }
   ],
   "source": [
    "#bdf_filename = r'D:\\work\\pynastran_0.8.0_py27\\models\\iSat\\ISat_Launch_Sm_Rgd.dat'\n",
    "bdf_filename = os.path.abspath(os.path.join(pkg_path, '..', 'models', 'iSat', 'ISat_Launch_Sm_Rgd.dat'))\n",
    "\n",
    "# read the file as a path\n",
    "bdf_xref = read_bdf(bdf_filename, xref=True)"
   ]
  },
  {
   "cell_type": "markdown",
   "metadata": {},
   "source": [
    "We can use the generic object attributes/methods functions"
   ]
  },
  {
   "cell_type": "markdown",
   "metadata": {},
   "source": [
    "## Calculating the mass of the structure\n",
    "You can also calculate the mass of individual groups"
   ]
  },
  {
   "cell_type": "code",
   "execution_count": 4,
   "metadata": {},
   "outputs": [
    {
     "name": "stdout",
     "output_type": "stream",
     "text": [
      "mass = 1.7746011578443164\n",
      "\n",
      "area_breakdown:\n",
      "1  : 2808\n",
      "2  : 3775.82\n",
      "3  : 3126.7\n",
      "4  : 30.7901\n",
      "7  : 2815.1\n",
      "9  : 14.8283\n",
      "10 : 0.471239\n",
      "12 : 0.536498\n",
      "13 : 0.888521\n",
      "14 : 0.704046\n",
      "15 : 0.582616\n",
      "16 : 0.614818\n",
      "19 : 27.9373\n",
      "21 : 1.88496\n",
      "22 : 0.134124\n",
      "23 : 0.176012\n",
      "33 : 4.52389\n",
      "34 : 726.206\n",
      "35 : 7.48892\n",
      "36 : 8.22838\n",
      "37 : 3528\n",
      "38 : 1270.34\n",
      "39 : 2.63171\n",
      "41 : 1.13138\n",
      "42 : 10.99\n",
      "43 : 18.1152\n",
      "46 : 741.006\n",
      "\n",
      "\n",
      "mass_breakdown properties:\n",
      "1  : 0.0272779\n",
      "2  : 0.0479928\n",
      "3  : 0.0209975\n",
      "4  : 0.0122157\n",
      "5  : 0.330158\n",
      "7  : 0.0278135\n",
      "8  : 0.0815836\n",
      "9  : 0.0776425\n",
      "10 : 0.000235972\n",
      "11 : 0.0416995\n",
      "12 : 0.00045729\n",
      "13 : 0.00388513\n",
      "14 : 0.000352848\n",
      "15 : 0.00362611\n",
      "16 : 0\n",
      "19 : 0.0177488\n",
      "20 : 0.163082\n",
      "21 : 0.00362503\n",
      "22 : 0\n",
      "23 : 0\n",
      "33 : 0.00134627\n",
      "34 : 0.00356109\n",
      "35 : 0\n",
      "36 : 0.00719665\n",
      "37 : 0.0945659\n",
      "38 : 0.00760223\n",
      "39 : 0.00243283\n",
      "41 : 0.000735385\n",
      "42 : 0.00885413\n",
      "43 : 0.0122415\n",
      "46 : 0.00367124\n",
      "\n",
      "\n",
      "mass_breakdown masses:\n",
      "{'CONM2': 0.7720000099999998}\n",
      "\n",
      "volume_breakdown:\n",
      "1  : 101.088\n",
      "2  : 203.894\n",
      "3  : 56.2806\n",
      "4  : 68.3524\n",
      "5  : 2100\n",
      "7  : 101.344\n",
      "8  : 110.25\n",
      "9  : 48.5627\n",
      "10 : 0.911062\n",
      "11 : 466.658\n",
      "12 : 2.55875\n",
      "13 : 1.33278\n",
      "14 : 1.97435\n",
      "15 : 0.582616\n",
      "16 : 1.99833\n",
      "19 : 99.3132\n",
      "20 : 2376\n",
      "21 : 4.71239\n",
      "22 : 0.150847\n",
      "23 : 0.161286\n",
      "33 : 5.19781\n",
      "34 : 13.5074\n",
      "35 : 120.889\n",
      "36 : 40.2686\n",
      "37 : 65.6208\n",
      "38 : 23.6284\n",
      "39 : 13.6128\n",
      "41 : 4.11483\n",
      "42 : 49.543\n",
      "43 : 68.4967\n",
      "46 : 13.7827\n",
      "\n"
     ]
    }
   ],
   "source": [
    "from pyNastran.bdf.mesh_utils.mass_properties import mass_properties\n",
    "from pyNastran.bdf.mesh_utils.breakdowns import get_area_breakdown, get_mass_breakdown, get_volume_breakdown\n",
    "mass, cg, I = mass_properties(bdf_xref)\n",
    "print(\"mass = %s\\n\" % mass)\n",
    "#mass_properties(bdf_xref)\n",
    "\n",
    "area_breakdown = get_area_breakdown(bdf_xref, property_ids=None, sum_bar_area=True)\n",
    "table_lines = ['%-3s: %g\\n' % (k, v) for k, v in sorted(area_breakdown.items())]\n",
    "print('area_breakdown:\\n%s\\n' % ''.join(table_lines))\n",
    "\n",
    "pids_to_mass, mass_type_to_mass = get_mass_breakdown(bdf_xref, property_ids=None, stop_if_no_mass=True)\n",
    "table_lines = ['%-3s: %g\\n' % (k, v) for k, v in sorted(pids_to_mass.items())]\n",
    "print('mass_breakdown properties:\\n%s\\n' % ''.join(table_lines))\n",
    "print('mass_breakdown masses:\\n%s\\n' % mass_type_to_mass)\n",
    "\n",
    "volume_breakdown = get_volume_breakdown(bdf_xref, property_ids=None)\n",
    "table_lines = ['%-3s: %g\\n' % (k, v) for k, v in sorted(volume_breakdown.items())]\n",
    "print('volume_breakdown:\\n%s' % ''.join(table_lines))\n"
   ]
  },
  {
   "cell_type": "markdown",
   "metadata": {},
   "source": [
    "### Examples of xref on elements"
   ]
  },
  {
   "cell_type": "code",
   "execution_count": 5,
   "metadata": {},
   "outputs": [
    {
     "name": "stdout",
     "output_type": "stream",
     "text": [
      "CQUAD4       100       1     149     152     161     160\n",
      "\n",
      "nodes = [149, 152, 161, 160]\n",
      "--node0--\n",
      "GRID         149       4      3.     7.5   -16.5       4\n",
      "\n",
      "--cd--\n",
      "4\n",
      "cd.cid = 4\n",
      "area = 3.75\n",
      "mass = 3.642880307396999e-05\n",
      "--pid--\n",
      "1\n",
      "pid.pid = 1\n",
      "pid.Pid() = 1\n",
      "$*\n",
      "$*  I-DEAS Material: 6  name: BUS_CFRP_PW_ORTHO\n",
      "$* M46J PW ETW\n",
      "MAT8           6   1.7+7   1.7+7     .98 340000. 180000. 180000..0001712\n",
      "                           71.33\n",
      "\n",
      "type = MAT8\n",
      "nu12 = 0.98\n",
      "mass = 3.642880307396999e-05\n"
     ]
    }
   ],
   "source": [
    "eid100 = bdf_xref.elements[100]\n",
    "print(eid100)\n",
    "print(\"nodes = %s\" % eid100.nodes)\n",
    "print(\"--node0--\\n%s\" % eid100.nodes_ref[0])\n",
    "print(\"--cd--\\n%s\" % eid100.nodes_ref[0].cd)\n",
    "print(\"cd.cid = %s\" % eid100.nodes_ref[0].cd_ref.cid)\n",
    "\n",
    "print(\"area = %s\" % eid100.Area())\n",
    "print(\"mass = %s\" % eid100.Mass())\n",
    "print(\"--pid--\\n%s\" % eid100.pid)\n",
    "print(\"pid.pid = %s\" % eid100.pid_ref.pid)\n",
    "print(\"pid.Pid() = %s\" % eid100.Pid())\n",
    "\n",
    "print(eid100.pid_ref.mid1_ref)\n",
    "print(\"type = %s\" % eid100.pid_ref.mid1_ref.type)\n",
    "print(\"nu12 = %s\" % eid100.pid_ref.mid1_ref.nu12)\n",
    "print(\"mass = %s\" % eid100.Mass())"
   ]
  },
  {
   "cell_type": "code",
   "execution_count": null,
   "metadata": {},
   "outputs": [],
   "source": []
  }
 ],
 "metadata": {
  "kernelspec": {
   "display_name": "Python 3 (ipykernel)",
   "language": "python",
   "name": "python3"
  },
  "language_info": {
   "codemirror_mode": {
    "name": "ipython",
    "version": 3
   },
   "file_extension": ".py",
   "mimetype": "text/x-python",
   "name": "python",
   "nbconvert_exporter": "python",
   "pygments_lexer": "ipython3",
   "version": "3.12.3"
  }
 },
 "nbformat": 4,
 "nbformat_minor": 4
}
