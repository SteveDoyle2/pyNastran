{
 "cells": [
  {
   "cell_type": "markdown",
   "metadata": {},
   "source": [
    "# test_bdf demo\n",
    "\n",
    "In this demo, we'll show off test_bdf"
   ]
  },
  {
   "cell_type": "code",
   "execution_count": 1,
   "metadata": {},
   "outputs": [],
   "source": [
    "from IPython.display import HTML as html_print\n",
    "from pyNastran.bdf.bdf import BDF, read_bdf, CaseControlDeck\n"
   ]
  },
  {
   "cell_type": "code",
   "execution_count": 2,
   "metadata": {},
   "outputs": [
    {
     "name": "stdout",
     "output_type": "stream",
     "text": [
      "TRIM          42      .8    100.       Z     2.5\n",
      "\n",
      "{42: TRIM          42      .8    100.       Z     2.5\n",
      "}\n"
     ]
    },
    {
     "data": {
      "text/html": [
       "<text style=color:blue>DEBUG:   write_mesh.py:203            ---starting BDF.write_bdf of junk.bdf---\n",
       "</text>"
      ],
      "text/plain": [
       "<IPython.core.display.HTML object>"
      ]
     },
     "metadata": {},
     "output_type": "display_data"
    },
    {
     "name": "stdout",
     "output_type": "stream",
     "text": [
      "----------------------------------------------------------------------------------------------------\n"
     ]
    }
   ],
   "source": [
    "model = BDF()\n",
    "\n",
    "# add_grid(nid, xyz, cp=0, cd=0, ps='', seid=0)\n",
    "model.add_grid(1, [0., 0., 0.])\n",
    "model.add_grid(2, [1., 0., 0.])\n",
    "model.add_grid(3, [1., 1., 0.])\n",
    "model.add_grid(4, [0., 1., 0.])\n",
    "\n",
    "eid = 10\n",
    "pid = 100\n",
    "mid = 1000\n",
    "# add_cbar(eid, pid, nids, x, g0, offt='GGG', pa=0, pb=0, wa=None, wb=None)\n",
    "model.add_cbar(eid,   pid, [1, 2], [0., 0., 1.], None, offt='GGG')\n",
    "model.add_cbar(eid+1, pid, [2, 3], [0., 0., 1.], None, offt='GGG')\n",
    "model.add_cbar(eid+2, pid, [3, 4], [0., 0., 1.], None, offt='GGG')\n",
    "model.add_cbar(eid+3, pid, [4, 1], [0., 0., 1.], None, offt='GGG')\n",
    "\n",
    "eid_cquad4 = 15\n",
    "pid_pshell = 101\n",
    "# add_pshell(pid, mid1=None, t=None, mid2=None, twelveIt3=1.0,\n",
    "#            mid3=None, tst=0.833333, \n",
    "#            nsm=0.0, z1=None, z2=None, mid4=None)\n",
    "model.add_pshell(pid_pshell, mid1=mid, t=0.1, mid2=mid, mid3=mid)\n",
    "model.add_cquad4(eid_cquad4, pid_pshell, [1, 2, 3, 4])\n",
    "\n",
    "dim = [3., 3., 1., 1.] # TODO: should be [1., 2., 3., 4.]\n",
    "# add_pbarl(pid, mid, Type, dim, group='MSCBML0', nsm=0.0)\n",
    "pbarl = model.add_pbarl(pid, mid, 'BOX', dim, nsm=0.0)\n",
    "pbarl.validate()\n",
    "\n",
    "E = 3.e7\n",
    "G = None\n",
    "nu = 0.3\n",
    "mat = model.add_mat1(mid, E, G, nu)\n",
    "\n",
    "spc_id = 1\n",
    "nids = 1\n",
    "# add_spc1(conid, components, nodes\n",
    "model.add_spc1(spc_id, 123456, nids)\n",
    "\n",
    "\n",
    "dresp_id = 100\n",
    "label = 'resp1'\n",
    "response_type = 'STRESS'\n",
    "property_type = 'PSHELL'\n",
    "pid = 3\n",
    "atta = 9 # von mises upper surface stress\n",
    "region = None\n",
    "attb = None\n",
    "atti = [pid_pshell]\n",
    "# add_dresp1(dresp_id, label, response_type, property_type, region, atta, attb, atti)\n",
    "model.add_dresp1(dresp_id, label, response_type, property_type, region, atta, attb, atti)\n",
    "\n",
    "dresp_id += 1\n",
    "atta = 17 # von mises lower surface stress\n",
    "model.add_dresp1(dresp_id, label, response_type, property_type, region, atta, attb, atti)\n",
    "\n",
    "# add_dconstr(oid, dresp_id, lid=-1e+20, uid=1e+20, lowfq=0.0, highfq=1e+20)\n",
    "dconstr_id = 10000\n",
    "model.add_dconstr(dconstr_id, dresp_id, lid=-35000., uid=35000.)\n",
    "\n",
    "dresp_id += 1\n",
    "dresp = model.add_dresp1(dresp_id, 'WT', 'WEIGHT', None, None, None, None, None)\n",
    "dresp.validate()\n",
    "\n",
    "oid = 1000\n",
    "dvids = 1\n",
    "coeffs = 1.\n",
    "# add_dvprel1(oid, prop_type, pid, pname_fid, dvids, coeffs,\n",
    "#             p_min=None, p_max=1e+20, c0=0.0)\n",
    "model.add_dvprel1(oid, 'PSHELL', pid_pshell, 'T', dvids, coeffs)\n",
    "\n",
    "# add_desvar(desvar_id, label, xinit, xlb=-1e+20, xub=1e+20,\n",
    "#            delx=None, ddval=None)\n",
    "model.add_desvar(1, 'DIM1', 0.1, xlb=1e-5)\n",
    "model.add_desvar(2, 'DIM2', 0.2, xlb=1e-5)\n",
    "model.add_desvar(3, 'DIM3', 0.3, xlb=1e-5)\n",
    "model.add_desvar(4, 'DIM4', 0.4, xlb=1e-5)\n",
    "model.add_desvar(5, 'DV5', 0.1, xlb=1e-5)\n",
    "\n",
    "#model.add_dlink(6)\n",
    "\n",
    "eid = 10 # TODO: remove\n",
    "load_id = 1\n",
    "# add_pload4(sid, eids, pressures, g1=None, g34=None,\n",
    "#            cid=0, nvector=None, surf_or_line='SURF', line_load_dir='NORM')\n",
    "pload4 = model.add_pload4(load_id, [eid_cquad4], [1., None, None, None], \n",
    "                          comment=' load')\n",
    "#print(pload4.get_stats())\n",
    "\n",
    "eid = 10 # TODO: should be 100\n",
    "scale = 'LE' # TODO: should be 100.\n",
    "# add_pload1(sid, eid, load_type, scale, x1, p1, x2=None, p2=None)\n",
    "model.add_pload1(load_id, eid, 'FZ', scale, 0., 1.)  # TODO: change atti to None\n",
    "\n",
    "# add_eigrl(sid, v1=None, v2=None, nd=None, msglvl=0, maxset=None, shfscl=None,\n",
    "#           norm=None, options=None, values=None)\n",
    "eigrl = model.add_eigrl(42, nd=42)\n",
    "\n",
    "model.sol = 103  # start=103\n",
    "cc = CaseControlDeck([\n",
    "    'DESOBJ = 102',  # DRESP1\n",
    "    'DESSUB = %s' % dconstr_id,  # DCONSTR\n",
    "    'SUBCASE 1',\n",
    "    '  METHOD = 42',  # TODO: remove\n",
    "    '  LOAD = %s' % load_id,  # TODO: remove\n",
    "    '  SPC = %s' % spc_id,\n",
    "    '  TRIM = 42',  # TODO: add\n",
    "    'ANALYSIS = SAERO',\n",
    "])\n",
    "#print(cc)\n",
    "model.case_control_deck = cc\n",
    "model.validate()\n",
    "\n",
    "# rerun between each change\n",
    "# 1. change SOL=103 -> SOL=144\n",
    "model.sol = 144\n",
    "# 2. add the trim in the case control deck\n",
    "#help(model.add_trim)\n",
    "mach = 0.8\n",
    "q = 100.\n",
    "labels = ['Z']\n",
    "uxs = [2.5]\n",
    "trim = model.add_trim(42, mach, q, labels, uxs, aeqr=1.0, trim_type=1)\n",
    "print(trim)\n",
    "# 3. add a trim card\n",
    "# x. change to SOL=200\n",
    "print(model.trims)\n",
    "if 0:\n",
    "    cref = bref = sref = 1.0\n",
    "    model.add_aeros(cref, bref, sref)\n",
    "    eid = 1\n",
    "    pid = 1\n",
    "    igroup = 1\n",
    "    x12 = 1.0\n",
    "    x43 = 2.0\n",
    "    p1 = [0., 0., 0.]\n",
    "    p4 = [0., 1., 0.]\n",
    "    model.add_caero1(eid, pid, igroup, p1, x12, p4, x43, nchord=2, nspan=5)\n",
    "    model.add_paero1(pid)\n",
    "    model.add_spline1(eid=10, caero=eid, box1=1, box2=10, setg=50)\n",
    "    model.add_set1(sid=50, ids=[11,12,13,14])\n",
    "    model.add_grid(11, [0., 0., 0.])\n",
    "    model.add_grid(12, [1., 0., 0.])\n",
    "    model.add_grid(13, [1., 1., 0.])\n",
    "    model.add_grid(14, [0., 1., 0.])\n",
    "    del model.trims[42]\n",
    "    labels = ['ANGLEA']\n",
    "    uxs = [2.5]\n",
    "    trim = model.add_trim(42, mach, q, labels, uxs, aeqr=1.0, trim_type=1)\n",
    "    model.add_aestat(100,label='ANGLEA')\n",
    "model.write_bdf('junk.bdf')\n",
    "#!cat junk.bdf\n",
    "print('----------------------------------------------------------------------------------------------------')"
   ]
  },
  {
   "cell_type": "code",
   "execution_count": 3,
   "metadata": {},
   "outputs": [
    {
     "data": {
      "text/html": [
       "<text style=color:blue>DEBUG:   write_mesh.py:203            ---starting BDF.write_bdf of junk.bdf---\n",
       "</text>"
      ],
      "text/plain": [
       "<IPython.core.display.HTML object>"
      ]
     },
     "metadata": {},
     "output_type": "display_data"
    },
    {
     "name": "stdout",
     "output_type": "stream",
     "text": [
      "debug = False\n",
      "bdf_model = junk.bdf\n"
     ]
    },
    {
     "data": {
      "text/html": [
       "<text style=color:green>INFO:    test_bdf.py:494              starting fem1 (read/write)\n",
       "</text>"
      ],
      "text/plain": [
       "<IPython.core.display.HTML object>"
      ]
     },
     "metadata": {},
     "output_type": "display_data"
    },
    {
     "data": {
      "text/html": [
       "<text style=color:green>INFO:    test_bdf.py:503              running fem1 (read/write)\n",
       "</text>"
      ],
      "text/plain": [
       "<IPython.core.display.HTML object>"
      ]
     },
     "metadata": {},
     "output_type": "display_data"
    },
    {
     "data": {
      "text/html": [
       "<text style=color:green>INFO:    test_bdf.py:527              running fem2\n",
       "</text>"
      ],
      "text/plain": [
       "<IPython.core.display.HTML object>"
      ]
     },
     "metadata": {},
     "output_type": "display_data"
    },
    {
     "data": {
      "text/html": [
       "<text style=color:green>INFO:    test_bdf.py:1044             starting fem2\n",
       "</text>"
      ],
      "text/plain": [
       "<IPython.core.display.HTML object>"
      ]
     },
     "metadata": {},
     "output_type": "display_data"
    },
    {
     "data": {
      "text/html": [
       "<text style=color:orange>WARNING: pybdf.py:792                 opening 'C:\\\\work\\\\pyNastran\\\\docs\\\\quick_start\\\\demo\\\\junk.test_bdf.bdf' (not case sensitive)\n",
       "</text>"
      ],
      "text/plain": [
       "<IPython.core.display.HTML object>"
      ]
     },
     "metadata": {},
     "output_type": "display_data"
    },
    {
     "data": {
      "text/html": [
       "<text style=color:orange>WARNING: test_bdf.py:1066             PARAM,POST,0 is not supported by the OP2 reader\n",
       "</text>"
      ],
      "text/plain": [
       "<IPython.core.display.HTML object>"
      ]
     },
     "metadata": {},
     "output_type": "display_data"
    },
    {
     "data": {
      "text/html": [
       "<text style=color:red>ERROR:   test_bdf.py:1491             An AEROS card is required for STATIC AERO - SOL 144; AEROS=None\n",
       "</text>"
      ],
      "text/plain": [
       "<IPython.core.display.HTML object>"
      ]
     },
     "metadata": {},
     "output_type": "display_data"
    },
    {
     "name": "stdout",
     "output_type": "stream",
     "text": [
      "Traceback (most recent call last):\n",
      "  File \"C:\\work\\pyNastran\\pyNastran\\bdf\\test\\test_bdf.py\", line 528, in run_and_compare_fems\n",
      "    fem2 = run_fem2(\n",
      "           ^^^^^^^^^\n",
      "  File \"C:\\work\\pyNastran\\pyNastran\\bdf\\test\\test_bdf.py\", line 1079, in run_fem2\n",
      "    ierror = _validate_case_control(\n",
      "             ^^^^^^^^^^^^^^^^^^^^^^^\n",
      "  File \"C:\\work\\pyNastran\\pyNastran\\bdf\\test\\test_bdf.py\", line 1148, in _validate_case_control\n",
      "    ierror = check_case(\n",
      "             ^^^^^^^^^^^\n",
      "  File \"C:\\work\\pyNastran\\pyNastran\\bdf\\test\\test_bdf.py\", line 1413, in check_case\n",
      "    ierror = _check_static_aero_case(fem2, log, sol, subcase, ierror, nerrors)\n",
      "             ^^^^^^^^^^^^^^^^^^^^^^^^^^^^^^^^^^^^^^^^^^^^^^^^^^^^^^^^^^^^^^^^^\n",
      "  File \"C:\\work\\pyNastran\\pyNastran\\bdf\\test\\test_bdf.py\", line 1492, in _check_static_aero_case\n",
      "    ierror = stop_if_max_error(msg, RuntimeError, ierror, nerrors)\n",
      "             ^^^^^^^^^^^^^^^^^^^^^^^^^^^^^^^^^^^^^^^^^^^^^^^^^^^^^\n",
      "  File \"C:\\work\\pyNastran\\pyNastran\\bdf\\test\\test_bdf.py\", line 1187, in stop_if_max_error\n",
      "    raise error(msg)\n",
      "RuntimeError: An AEROS card is required for STATIC AERO - SOL 144; AEROS=None\n",
      "--------------------------------------------------------------------------------\n"
     ]
    },
    {
     "ename": "RuntimeError",
     "evalue": "An AEROS card is required for STATIC AERO - SOL 144; AEROS=None",
     "output_type": "error",
     "traceback": [
      "\u001B[1;31m---------------------------------------------------------------------------\u001B[0m",
      "\u001B[1;31mRuntimeError\u001B[0m                              Traceback (most recent call last)",
      "Cell \u001B[1;32mIn[3], line 3\u001B[0m\n\u001B[0;32m      1\u001B[0m \u001B[38;5;28;01mfrom\u001B[39;00m \u001B[38;5;21;01mpyNastran\u001B[39;00m\u001B[38;5;21;01m.\u001B[39;00m\u001B[38;5;21;01mbdf\u001B[39;00m\u001B[38;5;21;01m.\u001B[39;00m\u001B[38;5;21;01mtest\u001B[39;00m\u001B[38;5;21;01m.\u001B[39;00m\u001B[38;5;21;01mtest_bdf\u001B[39;00m \u001B[38;5;28;01mimport\u001B[39;00m run_bdf \u001B[38;5;28;01mas\u001B[39;00m test_bdf\n\u001B[0;32m      2\u001B[0m model\u001B[38;5;241m.\u001B[39mwrite_bdf(\u001B[38;5;124m'\u001B[39m\u001B[38;5;124mjunk.bdf\u001B[39m\u001B[38;5;124m'\u001B[39m)\n\u001B[1;32m----> 3\u001B[0m \u001B[43mtest_bdf\u001B[49m\u001B[43m(\u001B[49m\u001B[38;5;124;43m'\u001B[39;49m\u001B[38;5;124;43m.\u001B[39;49m\u001B[38;5;124;43m'\u001B[39;49m\u001B[43m,\u001B[49m\u001B[43m \u001B[49m\u001B[38;5;124;43m'\u001B[39;49m\u001B[38;5;124;43mjunk.bdf\u001B[39;49m\u001B[38;5;124;43m'\u001B[39;49m\u001B[43m)\u001B[49m\n",
      "File \u001B[1;32mC:\\work\\pyNastran\\pyNastran\\bdf\\test\\test_bdf.py:393\u001B[0m, in \u001B[0;36mrun_bdf\u001B[1;34m(folder, bdf_filename, debug, xref, check, punch, mesh_form, is_folder, print_stats, encoding, size, is_double, allow_tabs, hdf5, is_lax_parser, allow_duplicates, stop, nastran, post, dynamic_vars, quiet, dumplines, dictsort, limit_mesh_opt, sum_load, run_mass, run_dependent_checks, run_eid_checks, run_mcid, run_extract_bodies, run_skin_solids, run_export_caero, save_file_structure, nerrors, dev, crash_cards, cards_to_ignore, safe_xref, run_pickle, version, validate_case_control, stop_on_failure, log, name)\u001B[0m\n\u001B[0;32m    390\u001B[0m model, ext \u001B[38;5;241m=\u001B[39m os\u001B[38;5;241m.\u001B[39mpath\u001B[38;5;241m.\u001B[39msplitext(bdf_model)\n\u001B[0;32m    391\u001B[0m out_model \u001B[38;5;241m=\u001B[39m \u001B[38;5;124mf\u001B[39m\u001B[38;5;124m'\u001B[39m\u001B[38;5;132;01m{\u001B[39;00mmodel\u001B[38;5;132;01m}\u001B[39;00m\u001B[38;5;124m.test_bdf\u001B[39m\u001B[38;5;132;01m{\u001B[39;00mext\u001B[38;5;132;01m}\u001B[39;00m\u001B[38;5;124m'\u001B[39m\n\u001B[1;32m--> 393\u001B[0m fem1, fem2, diff_cards \u001B[38;5;241m=\u001B[39m \u001B[43mrun_and_compare_fems\u001B[49m\u001B[43m(\u001B[49m\n\u001B[0;32m    394\u001B[0m \u001B[43m    \u001B[49m\u001B[43mbdf_model\u001B[49m\u001B[43m,\u001B[49m\u001B[43m \u001B[49m\u001B[43mout_model\u001B[49m\u001B[43m,\u001B[49m\u001B[43m \u001B[49m\u001B[43mdebug\u001B[49m\u001B[38;5;241;43m=\u001B[39;49m\u001B[43mdebug\u001B[49m\u001B[43m,\u001B[49m\u001B[43m \u001B[49m\u001B[43mxref\u001B[49m\u001B[38;5;241;43m=\u001B[39;49m\u001B[43mxref\u001B[49m\u001B[43m,\u001B[49m\u001B[43m \u001B[49m\u001B[43mcheck\u001B[49m\u001B[38;5;241;43m=\u001B[39;49m\u001B[43mcheck\u001B[49m\u001B[43m,\u001B[49m\n\u001B[0;32m    395\u001B[0m \u001B[43m    \u001B[49m\u001B[43mpunch\u001B[49m\u001B[38;5;241;43m=\u001B[39;49m\u001B[43mpunch\u001B[49m\u001B[43m,\u001B[49m\u001B[43m \u001B[49m\u001B[43mmesh_form\u001B[49m\u001B[38;5;241;43m=\u001B[39;49m\u001B[43mmesh_form\u001B[49m\u001B[43m,\u001B[49m\n\u001B[0;32m    396\u001B[0m \u001B[43m    \u001B[49m\u001B[43mprint_stats\u001B[49m\u001B[38;5;241;43m=\u001B[39;49m\u001B[43mprint_stats\u001B[49m\u001B[43m,\u001B[49m\u001B[43m \u001B[49m\u001B[43mencoding\u001B[49m\u001B[38;5;241;43m=\u001B[39;49m\u001B[43mencoding\u001B[49m\u001B[43m,\u001B[49m\n\u001B[0;32m    397\u001B[0m \u001B[43m    \u001B[49m\u001B[43msum_load\u001B[49m\u001B[38;5;241;43m=\u001B[39;49m\u001B[43msum_load\u001B[49m\u001B[43m,\u001B[49m\u001B[43m \u001B[49m\u001B[43msize\u001B[49m\u001B[38;5;241;43m=\u001B[39;49m\u001B[43msize\u001B[49m\u001B[43m,\u001B[49m\u001B[43m \u001B[49m\u001B[43mis_double\u001B[49m\u001B[38;5;241;43m=\u001B[39;49m\u001B[43mis_double\u001B[49m\u001B[43m,\u001B[49m\n\u001B[0;32m    398\u001B[0m \u001B[43m    \u001B[49m\u001B[43mis_lax_parser\u001B[49m\u001B[38;5;241;43m=\u001B[39;49m\u001B[43mis_lax_parser\u001B[49m\u001B[43m,\u001B[49m\n\u001B[0;32m    399\u001B[0m \u001B[43m    \u001B[49m\u001B[43mallow_tabs\u001B[49m\u001B[38;5;241;43m=\u001B[39;49m\u001B[43mallow_tabs\u001B[49m\u001B[43m,\u001B[49m\n\u001B[0;32m    400\u001B[0m \u001B[43m    \u001B[49m\u001B[43mallow_duplicates\u001B[49m\u001B[38;5;241;43m=\u001B[39;49m\u001B[43mallow_duplicates\u001B[49m\u001B[43m,\u001B[49m\n\u001B[0;32m    401\u001B[0m \u001B[43m    \u001B[49m\u001B[43mstop\u001B[49m\u001B[38;5;241;43m=\u001B[39;49m\u001B[43mstop\u001B[49m\u001B[43m,\u001B[49m\u001B[43m \u001B[49m\u001B[43mnastran\u001B[49m\u001B[38;5;241;43m=\u001B[39;49m\u001B[43mnastran\u001B[49m\u001B[43m,\u001B[49m\u001B[43m \u001B[49m\u001B[43mpost\u001B[49m\u001B[38;5;241;43m=\u001B[39;49m\u001B[43mpost\u001B[49m\u001B[43m,\u001B[49m\u001B[43m \u001B[49m\u001B[43mhdf5\u001B[49m\u001B[38;5;241;43m=\u001B[39;49m\u001B[43mhdf5\u001B[49m\u001B[43m,\u001B[49m\n\u001B[0;32m    402\u001B[0m \u001B[43m    \u001B[49m\u001B[43mdynamic_vars\u001B[49m\u001B[38;5;241;43m=\u001B[39;49m\u001B[43mdynamic_vars\u001B[49m\u001B[43m,\u001B[49m\n\u001B[0;32m    403\u001B[0m \u001B[43m    \u001B[49m\u001B[43mquiet\u001B[49m\u001B[38;5;241;43m=\u001B[39;49m\u001B[43mquiet\u001B[49m\u001B[43m,\u001B[49m\u001B[43m \u001B[49m\u001B[43mdumplines\u001B[49m\u001B[38;5;241;43m=\u001B[39;49m\u001B[43mdumplines\u001B[49m\u001B[43m,\u001B[49m\u001B[43m \u001B[49m\u001B[43mdictsort\u001B[49m\u001B[38;5;241;43m=\u001B[39;49m\u001B[43mdictsort\u001B[49m\u001B[43m,\u001B[49m\n\u001B[0;32m    404\u001B[0m \u001B[43m    \u001B[49m\u001B[43mnerrors\u001B[49m\u001B[38;5;241;43m=\u001B[39;49m\u001B[43mnerrors\u001B[49m\u001B[43m,\u001B[49m\u001B[43m \u001B[49m\u001B[43mdev\u001B[49m\u001B[38;5;241;43m=\u001B[39;49m\u001B[43mdev\u001B[49m\u001B[43m,\u001B[49m\n\u001B[0;32m    405\u001B[0m \u001B[43m    \u001B[49m\u001B[43mcrash_cards\u001B[49m\u001B[38;5;241;43m=\u001B[39;49m\u001B[43mcrash_cards\u001B[49m\u001B[43m,\u001B[49m\u001B[43m \u001B[49m\u001B[43mcards_to_ignore\u001B[49m\u001B[38;5;241;43m=\u001B[39;49m\u001B[43mcards_to_ignore\u001B[49m\u001B[43m,\u001B[49m\n\u001B[0;32m    406\u001B[0m \u001B[43m    \u001B[49m\u001B[43msafe_xref\u001B[49m\u001B[38;5;241;43m=\u001B[39;49m\u001B[43msafe_xref\u001B[49m\u001B[43m,\u001B[49m\n\u001B[0;32m    407\u001B[0m \u001B[43m    \u001B[49m\u001B[43mversion\u001B[49m\u001B[38;5;241;43m=\u001B[39;49m\u001B[43mversion\u001B[49m\u001B[43m,\u001B[49m\n\u001B[0;32m    408\u001B[0m \u001B[43m    \u001B[49m\u001B[43mlimit_mesh_opt\u001B[49m\u001B[38;5;241;43m=\u001B[39;49m\u001B[43mlimit_mesh_opt\u001B[49m\u001B[43m,\u001B[49m\n\u001B[0;32m    409\u001B[0m \u001B[43m    \u001B[49m\u001B[43mrun_extract_bodies\u001B[49m\u001B[38;5;241;43m=\u001B[39;49m\u001B[43mrun_extract_bodies\u001B[49m\u001B[43m,\u001B[49m\n\u001B[0;32m    410\u001B[0m \u001B[43m    \u001B[49m\u001B[43mrun_skin_solids\u001B[49m\u001B[38;5;241;43m=\u001B[39;49m\u001B[43mrun_skin_solids\u001B[49m\u001B[43m,\u001B[49m\n\u001B[0;32m    411\u001B[0m \u001B[43m    \u001B[49m\u001B[43mrun_export_caero\u001B[49m\u001B[38;5;241;43m=\u001B[39;49m\u001B[43mrun_export_caero\u001B[49m\u001B[43m,\u001B[49m\n\u001B[0;32m    412\u001B[0m \u001B[43m    \u001B[49m\u001B[43mrun_mass\u001B[49m\u001B[38;5;241;43m=\u001B[39;49m\u001B[43mrun_mass\u001B[49m\u001B[43m,\u001B[49m\n\u001B[0;32m    413\u001B[0m \u001B[43m    \u001B[49m\u001B[43mrun_dependent_checks\u001B[49m\u001B[38;5;241;43m=\u001B[39;49m\u001B[43mrun_dependent_checks\u001B[49m\u001B[43m,\u001B[49m\n\u001B[0;32m    414\u001B[0m \u001B[43m    \u001B[49m\u001B[43mrun_eid_checks\u001B[49m\u001B[38;5;241;43m=\u001B[39;49m\u001B[43mrun_eid_checks\u001B[49m\u001B[43m,\u001B[49m\u001B[43m \u001B[49m\u001B[43mrun_mcid\u001B[49m\u001B[38;5;241;43m=\u001B[39;49m\u001B[43mrun_mcid\u001B[49m\u001B[43m,\u001B[49m\n\u001B[0;32m    415\u001B[0m \u001B[43m    \u001B[49m\u001B[43msave_file_structure\u001B[49m\u001B[38;5;241;43m=\u001B[39;49m\u001B[43msave_file_structure\u001B[49m\u001B[43m,\u001B[49m\n\u001B[0;32m    416\u001B[0m \u001B[43m    \u001B[49m\u001B[43mrun_pickle\u001B[49m\u001B[38;5;241;43m=\u001B[39;49m\u001B[43mrun_pickle\u001B[49m\u001B[43m,\u001B[49m\n\u001B[0;32m    417\u001B[0m \u001B[43m    \u001B[49m\u001B[43mvalidate_case_control\u001B[49m\u001B[38;5;241;43m=\u001B[39;49m\u001B[43mvalidate_case_control\u001B[49m\u001B[43m,\u001B[49m\n\u001B[0;32m    418\u001B[0m \u001B[43m    \u001B[49m\u001B[43mstop_on_failure\u001B[49m\u001B[38;5;241;43m=\u001B[39;49m\u001B[43mstop_on_failure\u001B[49m\u001B[43m,\u001B[49m\n\u001B[0;32m    419\u001B[0m \u001B[43m    \u001B[49m\u001B[43mlog\u001B[49m\u001B[38;5;241;43m=\u001B[39;49m\u001B[43mlog\u001B[49m\u001B[43m,\u001B[49m\n\u001B[0;32m    420\u001B[0m \u001B[43m    \u001B[49m\u001B[43mname\u001B[49m\u001B[38;5;241;43m=\u001B[39;49m\u001B[43mname\u001B[49m\u001B[43m,\u001B[49m\n\u001B[0;32m    421\u001B[0m \u001B[43m\u001B[49m\u001B[43m)\u001B[49m\n\u001B[0;32m    422\u001B[0m \u001B[38;5;28;01mreturn\u001B[39;00m fem1, fem2, diff_cards\n",
      "File \u001B[1;32mC:\\work\\pyNastran\\pyNastran\\bdf\\test\\test_bdf.py:528\u001B[0m, in \u001B[0;36mrun_and_compare_fems\u001B[1;34m(bdf_model, out_model, debug, xref, check, punch, mesh_form, print_stats, encoding, sum_load, size, is_double, save_file_structure, is_lax_parser, allow_tabs, allow_duplicates, stop, nastran, post, hdf5, dynamic_vars, quiet, dumplines, dictsort, nerrors, dev, crash_cards, cards_to_ignore, version, limit_mesh_opt, safe_xref, run_extract_bodies, run_skin_solids, run_export_caero, run_mass, run_dependent_checks, run_eid_checks, run_mcid, run_pickle, validate_case_control, stop_on_failure, log, name)\u001B[0m\n\u001B[0;32m    526\u001B[0m ierror \u001B[38;5;241m=\u001B[39m \u001B[38;5;241m0\u001B[39m\n\u001B[0;32m    527\u001B[0m fem1\u001B[38;5;241m.\u001B[39mlog\u001B[38;5;241m.\u001B[39minfo(\u001B[38;5;124m'\u001B[39m\u001B[38;5;124mrunning fem2\u001B[39m\u001B[38;5;124m'\u001B[39m)\n\u001B[1;32m--> 528\u001B[0m fem2 \u001B[38;5;241m=\u001B[39m \u001B[43mrun_fem2\u001B[49m\u001B[43m(\u001B[49m\n\u001B[0;32m    529\u001B[0m \u001B[43m    \u001B[49m\u001B[43mbdf_model\u001B[49m\u001B[43m,\u001B[49m\u001B[43m \u001B[49m\u001B[43mout_model\u001B[49m\u001B[43m,\u001B[49m\u001B[43m \u001B[49m\u001B[43mxref\u001B[49m\u001B[43m,\u001B[49m\u001B[43m \u001B[49m\u001B[43mpunch\u001B[49m\u001B[43m,\u001B[49m\n\u001B[0;32m    530\u001B[0m \u001B[43m    \u001B[49m\u001B[43msum_load\u001B[49m\u001B[43m,\u001B[49m\u001B[43m \u001B[49m\u001B[43msize\u001B[49m\u001B[43m,\u001B[49m\u001B[43m \u001B[49m\u001B[43mis_double\u001B[49m\u001B[43m,\u001B[49m\u001B[43m \u001B[49m\u001B[43mmesh_form\u001B[49m\u001B[43m,\u001B[49m\n\u001B[0;32m    531\u001B[0m \u001B[43m    \u001B[49m\u001B[43msafe_xref\u001B[49m\u001B[38;5;241;43m=\u001B[39;49m\u001B[43msafe_xref\u001B[49m\u001B[43m,\u001B[49m\n\u001B[0;32m    532\u001B[0m \u001B[43m    \u001B[49m\u001B[43mencoding\u001B[49m\u001B[38;5;241;43m=\u001B[39;49m\u001B[43mencoding\u001B[49m\u001B[43m,\u001B[49m\u001B[43m \u001B[49m\u001B[43mdebug\u001B[49m\u001B[38;5;241;43m=\u001B[39;49m\u001B[43mdebug\u001B[49m\u001B[43m,\u001B[49m\u001B[43m \u001B[49m\u001B[43mquiet\u001B[49m\u001B[38;5;241;43m=\u001B[39;49m\u001B[43mquiet\u001B[49m\u001B[43m,\u001B[49m\n\u001B[0;32m    533\u001B[0m \u001B[43m    \u001B[49m\u001B[43mierror\u001B[49m\u001B[38;5;241;43m=\u001B[39;49m\u001B[43mierror\u001B[49m\u001B[43m,\u001B[49m\u001B[43m \u001B[49m\u001B[43mnerrors\u001B[49m\u001B[38;5;241;43m=\u001B[39;49m\u001B[43mnerrors\u001B[49m\u001B[43m,\u001B[49m\n\u001B[0;32m    534\u001B[0m \u001B[43m    \u001B[49m\u001B[43mstop_on_failure\u001B[49m\u001B[38;5;241;43m=\u001B[39;49m\u001B[43mstop_on_failure\u001B[49m\u001B[43m,\u001B[49m\n\u001B[0;32m    535\u001B[0m \u001B[43m    \u001B[49m\u001B[43mvalidate_case_control\u001B[49m\u001B[38;5;241;43m=\u001B[39;49m\u001B[43mvalidate_case_control\u001B[49m\u001B[43m,\u001B[49m\u001B[43m \u001B[49m\u001B[43mlog\u001B[49m\u001B[38;5;241;43m=\u001B[39;49m\u001B[43mlog\u001B[49m\u001B[43m)\u001B[49m\n\u001B[0;32m    537\u001B[0m diff_cards \u001B[38;5;241m=\u001B[39m compare(fem1, fem2, xref\u001B[38;5;241m=\u001B[39mxref,\n\u001B[0;32m    538\u001B[0m                      run_mass\u001B[38;5;241m=\u001B[39mrun_mass, check\u001B[38;5;241m=\u001B[39mcheck,\n\u001B[0;32m    539\u001B[0m                      print_stats\u001B[38;5;241m=\u001B[39mprint_stats, quiet\u001B[38;5;241m=\u001B[39mquiet)\n\u001B[0;32m    540\u001B[0m test_get_cards_by_card_types(fem2)\n",
      "File \u001B[1;32mC:\\work\\pyNastran\\pyNastran\\bdf\\test\\test_bdf.py:1079\u001B[0m, in \u001B[0;36mrun_fem2\u001B[1;34m(bdf_model, out_model, xref, punch, sum_load, size, is_double, mesh_form, safe_xref, encoding, debug, quiet, stop_on_failure, validate_case_control, ierror, nerrors, log)\u001B[0m\n\u001B[0;32m   1077\u001B[0m     \u001B[38;5;28;01mif\u001B[39;00m validate_case_control \u001B[38;5;129;01mand\u001B[39;00m \u001B[38;5;129;01mnot\u001B[39;00m is_restart:\n\u001B[0;32m   1078\u001B[0m         \u001B[38;5;28;01massert\u001B[39;00m \u001B[38;5;28misinstance\u001B[39m(ierror, \u001B[38;5;28mint\u001B[39m), ierror\n\u001B[1;32m-> 1079\u001B[0m         ierror \u001B[38;5;241m=\u001B[39m \u001B[43m_validate_case_control\u001B[49m\u001B[43m(\u001B[49m\n\u001B[0;32m   1080\u001B[0m \u001B[43m            \u001B[49m\u001B[43mfem2\u001B[49m\u001B[43m,\u001B[49m\u001B[43m \u001B[49m\u001B[43mp0\u001B[49m\u001B[43m,\u001B[49m\u001B[43m \u001B[49m\u001B[43msol_base\u001B[49m\u001B[43m,\u001B[49m\u001B[43m \u001B[49m\u001B[43msubcase_keys\u001B[49m\u001B[43m,\u001B[49m\u001B[43m \u001B[49m\u001B[43msubcases\u001B[49m\u001B[43m,\u001B[49m\u001B[43m \u001B[49m\u001B[43msol_200_map\u001B[49m\u001B[43m,\u001B[49m\n\u001B[0;32m   1081\u001B[0m \u001B[43m            \u001B[49m\u001B[43msum_load\u001B[49m\u001B[38;5;241;43m=\u001B[39;49m\u001B[43msum_load\u001B[49m\u001B[43m,\u001B[49m\n\u001B[0;32m   1082\u001B[0m \u001B[43m            \u001B[49m\u001B[43mierror\u001B[49m\u001B[38;5;241;43m=\u001B[39;49m\u001B[43mierror\u001B[49m\u001B[43m,\u001B[49m\u001B[43m \u001B[49m\u001B[43mnerrors\u001B[49m\u001B[38;5;241;43m=\u001B[39;49m\u001B[43mnerrors\u001B[49m\u001B[43m,\u001B[49m\n\u001B[0;32m   1083\u001B[0m \u001B[43m            \u001B[49m\u001B[43mstop_on_failure\u001B[49m\u001B[38;5;241;43m=\u001B[39;49m\u001B[43mstop_on_failure\u001B[49m\u001B[43m)\u001B[49m\n\u001B[0;32m   1085\u001B[0m \u001B[38;5;28;01mif\u001B[39;00m mesh_form \u001B[38;5;129;01mis\u001B[39;00m \u001B[38;5;129;01mnot\u001B[39;00m \u001B[38;5;28;01mNone\u001B[39;00m:\n\u001B[0;32m   1086\u001B[0m     fem2\u001B[38;5;241m.\u001B[39mwrite_bdf(out_model_2, interspersed\u001B[38;5;241m=\u001B[39m\u001B[38;5;28;01mFalse\u001B[39;00m,\n\u001B[0;32m   1087\u001B[0m                    size\u001B[38;5;241m=\u001B[39msize, is_double\u001B[38;5;241m=\u001B[39mis_double)\n",
      "File \u001B[1;32mC:\\work\\pyNastran\\pyNastran\\bdf\\test\\test_bdf.py:1148\u001B[0m, in \u001B[0;36m_validate_case_control\u001B[1;34m(fem, p0, sol_base, subcase_keys, subcases, unused_sol_200_map, sum_load, stop_on_failure, ierror, nerrors)\u001B[0m\n\u001B[0;32m   1138\u001B[0m         \u001B[38;5;28;01mraise\u001B[39;00m \u001B[38;5;167;01mRuntimeError\u001B[39;00m(\u001B[38;5;124mf\u001B[39m\u001B[38;5;124m'\u001B[39m\u001B[38;5;124msubcase: \u001B[39m\u001B[38;5;132;01m{\u001B[39;00msubcase\u001B[38;5;132;01m}\u001B[39;00m\u001B[38;5;130;01m\\n\u001B[39;00m\u001B[38;5;124m'\u001B[39m)\n\u001B[0;32m   1139\u001B[0m     \u001B[38;5;66;03m#print('case\\n%s' % subcase)\u001B[39;00m\n\u001B[0;32m   1140\u001B[0m     \u001B[38;5;66;03m#if sol_base == 200:\u001B[39;00m\n\u001B[0;32m   1141\u001B[0m         \u001B[38;5;66;03m#analysis = subcase.get_parameter('ANALYSIS')[0]\u001B[39;00m\n\u001B[1;32m   (...)\u001B[0m\n\u001B[0;32m   1146\u001B[0m     \u001B[38;5;66;03m#else:\u001B[39;00m\n\u001B[0;32m   1147\u001B[0m         \u001B[38;5;66;03m#sol = sol_base\u001B[39;00m\n\u001B[1;32m-> 1148\u001B[0m     ierror \u001B[38;5;241m=\u001B[39m \u001B[43mcheck_case\u001B[49m\u001B[43m(\u001B[49m\n\u001B[0;32m   1149\u001B[0m \u001B[43m        \u001B[49m\u001B[43msol_base\u001B[49m\u001B[43m,\u001B[49m\u001B[43m \u001B[49m\u001B[43msubcase\u001B[49m\u001B[43m,\u001B[49m\u001B[43m \u001B[49m\u001B[43mfem\u001B[49m\u001B[43m,\u001B[49m\u001B[43m \u001B[49m\u001B[43mp0\u001B[49m\u001B[43m,\u001B[49m\u001B[43m \u001B[49m\u001B[43misubcase\u001B[49m\u001B[43m,\u001B[49m\u001B[43m \u001B[49m\u001B[43msubcases\u001B[49m\u001B[43m,\u001B[49m\n\u001B[0;32m   1150\u001B[0m \u001B[43m        \u001B[49m\u001B[43msum_load\u001B[49m\u001B[38;5;241;43m=\u001B[39;49m\u001B[43msum_load\u001B[49m\u001B[43m,\u001B[49m\n\u001B[0;32m   1151\u001B[0m \u001B[43m        \u001B[49m\u001B[43mierror\u001B[49m\u001B[38;5;241;43m=\u001B[39;49m\u001B[43mierror\u001B[49m\u001B[43m,\u001B[49m\u001B[43m \u001B[49m\u001B[43mnerrors\u001B[49m\u001B[38;5;241;43m=\u001B[39;49m\u001B[43mnerrors\u001B[49m\u001B[43m,\u001B[49m\n\u001B[0;32m   1152\u001B[0m \u001B[43m        \u001B[49m\u001B[43mstop_on_failure\u001B[49m\u001B[38;5;241;43m=\u001B[39;49m\u001B[43mstop_on_failure\u001B[49m\u001B[43m)\u001B[49m\n\u001B[0;32m   1153\u001B[0m \u001B[38;5;28;01mreturn\u001B[39;00m ierror\n",
      "File \u001B[1;32mC:\\work\\pyNastran\\pyNastran\\bdf\\test\\test_bdf.py:1413\u001B[0m, in \u001B[0;36mcheck_case\u001B[1;34m(sol, subcase, fem2, p0, isubcase, subcases, sum_load, ierror, nerrors, stop_on_failure)\u001B[0m\n\u001B[0;32m   1410\u001B[0m     \u001B[38;5;28;01massert\u001B[39;00m \u001B[38;5;28many\u001B[39m(subcase\u001B[38;5;241m.\u001B[39mhas_parameter(\u001B[38;5;124m'\u001B[39m\u001B[38;5;124mTIME\u001B[39m\u001B[38;5;124m'\u001B[39m, \u001B[38;5;124m'\u001B[39m\u001B[38;5;124mTSTEP\u001B[39m\u001B[38;5;124m'\u001B[39m, \u001B[38;5;124m'\u001B[39m\u001B[38;5;124mTSTEPNL\u001B[39m\u001B[38;5;124m'\u001B[39m)), msg\n\u001B[0;32m   1412\u001B[0m \u001B[38;5;28;01melif\u001B[39;00m sol \u001B[38;5;129;01min\u001B[39;00m {\u001B[38;5;241m144\u001B[39m, \u001B[38;5;124m'\u001B[39m\u001B[38;5;124mAESTAT\u001B[39m\u001B[38;5;124m'\u001B[39m}:  \u001B[38;5;66;03m# aero - trim, diverg\u001B[39;00m\n\u001B[1;32m-> 1413\u001B[0m     ierror \u001B[38;5;241m=\u001B[39m \u001B[43m_check_static_aero_case\u001B[49m\u001B[43m(\u001B[49m\u001B[43mfem2\u001B[49m\u001B[43m,\u001B[49m\u001B[43m \u001B[49m\u001B[43mlog\u001B[49m\u001B[43m,\u001B[49m\u001B[43m \u001B[49m\u001B[43msol\u001B[49m\u001B[43m,\u001B[49m\u001B[43m \u001B[49m\u001B[43msubcase\u001B[49m\u001B[43m,\u001B[49m\u001B[43m \u001B[49m\u001B[43mierror\u001B[49m\u001B[43m,\u001B[49m\u001B[43m \u001B[49m\u001B[43mnerrors\u001B[49m\u001B[43m)\u001B[49m\n\u001B[0;32m   1414\u001B[0m \u001B[38;5;28;01melif\u001B[39;00m sol \u001B[38;5;129;01min\u001B[39;00m {\u001B[38;5;241m145\u001B[39m, \u001B[38;5;124m'\u001B[39m\u001B[38;5;124mSEFLUTTR\u001B[39m\u001B[38;5;124m'\u001B[39m, \u001B[38;5;124m'\u001B[39m\u001B[38;5;124mSEFLUTTER\u001B[39m\u001B[38;5;124m'\u001B[39m}:  \u001B[38;5;66;03m# aero - flutter\u001B[39;00m\n\u001B[0;32m   1415\u001B[0m     ierror \u001B[38;5;241m=\u001B[39m _check_flutter_case(fem2, log, sol, subcase, ierror, nerrors)\n",
      "File \u001B[1;32mC:\\work\\pyNastran\\pyNastran\\bdf\\test\\test_bdf.py:1492\u001B[0m, in \u001B[0;36m_check_static_aero_case\u001B[1;34m(fem2, log, sol, subcase, ierror, nerrors)\u001B[0m\n\u001B[0;32m   1490\u001B[0m     msg \u001B[38;5;241m=\u001B[39m \u001B[38;5;124m'\u001B[39m\u001B[38;5;124mAn AEROS card is required for STATIC AERO - SOL \u001B[39m\u001B[38;5;132;01m%i\u001B[39;00m\u001B[38;5;124m; AEROS=\u001B[39m\u001B[38;5;132;01m%s\u001B[39;00m\u001B[38;5;124m'\u001B[39m \u001B[38;5;241m%\u001B[39m (sol, fem2\u001B[38;5;241m.\u001B[39maeros)\n\u001B[0;32m   1491\u001B[0m     log\u001B[38;5;241m.\u001B[39merror(msg)\n\u001B[1;32m-> 1492\u001B[0m     ierror \u001B[38;5;241m=\u001B[39m \u001B[43mstop_if_max_error\u001B[49m\u001B[43m(\u001B[49m\u001B[43mmsg\u001B[49m\u001B[43m,\u001B[49m\u001B[43m \u001B[49m\u001B[38;5;167;43;01mRuntimeError\u001B[39;49;00m\u001B[43m,\u001B[49m\u001B[43m \u001B[49m\u001B[43mierror\u001B[49m\u001B[43m,\u001B[49m\u001B[43m \u001B[49m\u001B[43mnerrors\u001B[49m\u001B[43m)\u001B[49m\n\u001B[0;32m   1493\u001B[0m \u001B[38;5;28;01mif\u001B[39;00m \u001B[38;5;28mlen\u001B[39m(fem2\u001B[38;5;241m.\u001B[39mcaeros) \u001B[38;5;241m==\u001B[39m \u001B[38;5;241m0\u001B[39m:\n\u001B[0;32m   1494\u001B[0m     msg \u001B[38;5;241m=\u001B[39m \u001B[38;5;124mf\u001B[39m\u001B[38;5;124m'\u001B[39m\u001B[38;5;124mAn CAEROx card is required for STATIC AERO - SOL \u001B[39m\u001B[38;5;132;01m{\u001B[39;00msol\u001B[38;5;132;01m:\u001B[39;00m\u001B[38;5;124md\u001B[39m\u001B[38;5;132;01m}\u001B[39;00m\u001B[38;5;124m'\u001B[39m\n",
      "File \u001B[1;32mC:\\work\\pyNastran\\pyNastran\\bdf\\test\\test_bdf.py:1187\u001B[0m, in \u001B[0;36mstop_if_max_error\u001B[1;34m(msg, error, ierror, nerrors)\u001B[0m\n\u001B[0;32m   1185\u001B[0m \u001B[38;5;250m\u001B[39m\u001B[38;5;124;03m\"\"\"if the error count is greater than nerrors, stop\"\"\"\u001B[39;00m\n\u001B[0;32m   1186\u001B[0m \u001B[38;5;28;01mif\u001B[39;00m ierror \u001B[38;5;241m==\u001B[39m nerrors:\n\u001B[1;32m-> 1187\u001B[0m     \u001B[38;5;28;01mraise\u001B[39;00m error(msg)\n\u001B[0;32m   1188\u001B[0m ierror \u001B[38;5;241m+\u001B[39m\u001B[38;5;241m=\u001B[39m \u001B[38;5;241m1\u001B[39m\n\u001B[0;32m   1189\u001B[0m \u001B[38;5;28;01mreturn\u001B[39;00m ierror\n",
      "\u001B[1;31mRuntimeError\u001B[0m: An AEROS card is required for STATIC AERO - SOL 144; AEROS=None"
     ]
    }
   ],
   "source": [
    "from pyNastran.bdf.test.test_bdf import run_bdf as test_bdf\n",
    "model.write_bdf('junk.bdf')\n",
    "test_bdf('.', 'junk.bdf')"
   ]
  }
 ],
 "metadata": {
  "kernelspec": {
   "display_name": "Python 3 (ipykernel)",
   "language": "python",
   "name": "python3"
  },
  "language_info": {
   "codemirror_mode": {
    "name": "ipython",
    "version": 3
   },
   "file_extension": ".py",
   "mimetype": "text/x-python",
   "name": "python",
   "nbconvert_exporter": "python",
   "pygments_lexer": "ipython3",
   "version": "3.12.3"
  }
 },
 "nbformat": 4,
 "nbformat_minor": 4
}
