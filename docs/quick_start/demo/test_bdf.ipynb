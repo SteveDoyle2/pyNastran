{
 "cells": [
  {
   "cell_type": "markdown",
   "metadata": {},
   "source": [
    "# test_bdf demo\n",
    "\n",
    "In this demo, we'll show off test_bdf"
   ]
  },
  {
   "cell_type": "code",
   "execution_count": 1,
   "metadata": {},
   "outputs": [],
   "source": [
    "from IPython.display import HTML as html_print\n",
    "from pyNastran.bdf.bdf import BDF, read_bdf, CaseControlDeck\n"
   ]
  },
  {
   "cell_type": "code",
   "execution_count": 35,
   "metadata": {},
   "outputs": [
    {
     "name": "stdout",
     "output_type": "stream",
     "text": [
      "TRIM          42      .8    100.       Z     2.5\n",
      "\n",
      "{42: TRIM          42      .8    100.       Z     2.5\n",
      "}\n"
     ]
    },
    {
     "data": {
      "text/html": [
       "<text style=color:blue>DEBUG:   write_mesh.py:142            ---starting BDF.write_bdf of junk.bdf---\n",
       "</text>"
      ],
      "text/plain": [
       "<IPython.core.display.HTML object>"
      ]
     },
     "metadata": {},
     "output_type": "display_data"
    },
    {
     "name": "stdout",
     "output_type": "stream",
     "text": [
      "----------------------------------------------------------------------------------------------------\n"
     ]
    }
   ],
   "source": [
    "model = BDF()\n",
    "\n",
    "# add_grid(nid, xyz, cp=0, cd=0, ps='', seid=0)\n",
    "model.add_grid(1, [0., 0., 0.])\n",
    "model.add_grid(2, [1., 0., 0.])\n",
    "model.add_grid(3, [1., 1., 0.])\n",
    "model.add_grid(4, [0., 1., 0.])\n",
    "\n",
    "eid = 10\n",
    "pid = 100\n",
    "mid = 1000\n",
    "# add_cbar(eid, pid, nids, x, g0, offt='GGG', pa=0, pb=0, wa=None, wb=None)\n",
    "model.add_cbar(eid,   pid, [1, 2], [0., 0., 1.], None, offt='GGG')\n",
    "model.add_cbar(eid+1, pid, [2, 3], [0., 0., 1.], None, offt='GGG')\n",
    "model.add_cbar(eid+2, pid, [3, 4], [0., 0., 1.], None, offt='GGG')\n",
    "model.add_cbar(eid+3, pid, [4, 1], [0., 0., 1.], None, offt='GGG')\n",
    "\n",
    "eid_cquad4 = 15\n",
    "pid_pshell = 101\n",
    "# add_pshell(pid, mid1=None, t=None, mid2=None, twelveIt3=1.0,\n",
    "#            mid3=None, tst=0.833333, \n",
    "#            nsm=0.0, z1=None, z2=None, mid4=None)\n",
    "model.add_pshell(pid_pshell, mid1=mid, t=0.1, mid2=mid, mid3=mid)\n",
    "model.add_cquad4(eid_cquad4, pid_pshell, [1, 2, 3, 4])\n",
    "\n",
    "dim = [3., 3., 1., 1.] # TODO: should be [1., 2., 3., 4.]\n",
    "# add_pbarl(pid, mid, Type, dim, group='MSCBML0', nsm=0.0)\n",
    "pbarl = model.add_pbarl(pid, mid, 'BOX', dim, nsm=0.0)\n",
    "pbarl.validate()\n",
    "\n",
    "E = 3.e7\n",
    "G = None\n",
    "nu = 0.3\n",
    "mat = model.add_mat1(mid, E, G, nu)\n",
    "\n",
    "spc_id = 1\n",
    "nids = 1\n",
    "# add_spc1(conid, components, nodes\n",
    "model.add_spc1(spc_id, 123456, nids)\n",
    "\n",
    "\n",
    "dresp_id = 100\n",
    "label = 'resp1'\n",
    "response_type = 'STRESS'\n",
    "property_type = 'PSHELL'\n",
    "pid = 3\n",
    "atta = 9 # von mises upper surface stress\n",
    "region = None\n",
    "attb = None\n",
    "atti = [pid_pshell]\n",
    "# add_dresp1(dresp_id, label, response_type, property_type, region, atta, attb, atti)\n",
    "model.add_dresp1(dresp_id, label, response_type, property_type, region, atta, attb, atti)\n",
    "\n",
    "dresp_id += 1\n",
    "atta = 17 # von mises lower surface stress\n",
    "model.add_dresp1(dresp_id, label, response_type, property_type, region, atta, attb, atti)\n",
    "\n",
    "# add_dconstr(oid, dresp_id, lid=-1e+20, uid=1e+20, lowfq=0.0, highfq=1e+20)\n",
    "dconstr_id = 10000\n",
    "model.add_dconstr(dconstr_id, dresp_id, lid=-35000., uid=35000.)\n",
    "\n",
    "dresp_id += 1\n",
    "dresp = model.add_dresp1(dresp_id, 'WT', 'WEIGHT', None, None, None, None, None)\n",
    "dresp.validate()\n",
    "\n",
    "oid = 1000\n",
    "dvids = 1\n",
    "coeffs = 1.\n",
    "# add_dvprel1(oid, prop_type, pid, pname_fid, dvids, coeffs,\n",
    "#             p_min=None, p_max=1e+20, c0=0.0)\n",
    "model.add_dvprel1(oid, 'PSHELL', pid_pshell, 'T', dvids, coeffs)\n",
    "\n",
    "# add_desvar(desvar_id, label, xinit, xlb=-1e+20, xub=1e+20,\n",
    "#            delx=None, ddval=None)\n",
    "model.add_desvar(1, 'DIM1', 0.1, xlb=1e-5)\n",
    "model.add_desvar(2, 'DIM2', 0.2, xlb=1e-5)\n",
    "model.add_desvar(3, 'DIM3', 0.3, xlb=1e-5)\n",
    "model.add_desvar(4, 'DIM4', 0.4, xlb=1e-5)\n",
    "model.add_desvar(5, 'DV5', 0.1, xlb=1e-5)\n",
    "\n",
    "#model.add_dlink(6)\n",
    "\n",
    "eid = 10 # TODO: remove\n",
    "load_id = 1\n",
    "# add_pload4(sid, eids, pressures, g1=None, g34=None,\n",
    "#            cid=0, nvector=None, surf_or_line='SURF', line_load_dir='NORM')\n",
    "pload4 = model.add_pload4(load_id, [eid_cquad4], [1., None, None, None], \n",
    "                          comment=' load')\n",
    "#print(pload4.get_stats())\n",
    "\n",
    "eid = 10 # TODO: should be 100\n",
    "scale = 'LE' # TODO: should be 100.\n",
    "# add_pload1(sid, eid, load_type, scale, x1, p1, x2=None, p2=None)\n",
    "model.add_pload1(load_id, eid, 'FZ', scale, 0., 1.)  # TODO: change atti to None\n",
    "\n",
    "# add_eigrl(sid, v1=None, v2=None, nd=None, msglvl=0, maxset=None, shfscl=None,\n",
    "#           norm=None, options=None, values=None)\n",
    "eigrl = model.add_eigrl(42, nd=42)\n",
    "\n",
    "model.sol = 103  # start=103\n",
    "cc = CaseControlDeck([\n",
    "    'DESOBJ = 102',  # DRESP1\n",
    "    'DESSUB = %s' % dconstr_id,  # DCONSTR\n",
    "    'SUBCASE 1',\n",
    "    '  METHOD = 42',  # TODO: remove\n",
    "    '  LOAD = %s' % load_id,  # TODO: remove\n",
    "    '  SPC = %s' % spc_id,\n",
    "    '  TRIM = 42',  # TODO: add\n",
    "    'ANALYSIS = SAERO',\n",
    "])\n",
    "#print(cc)\n",
    "model.case_control_deck = cc\n",
    "model.validate()\n",
    "\n",
    "# rerun between each change\n",
    "# 1. change SOL=103 -> SOL=144\n",
    "model.sol = 144\n",
    "# 2. add the trim in the case control deck\n",
    "#help(model.add_trim)\n",
    "mach = 0.8\n",
    "q = 100.\n",
    "labels = ['Z']\n",
    "uxs = [2.5]\n",
    "trim = model.add_trim(42, mach, q, labels, uxs, aeqr=1.0, trim_type=1)\n",
    "print(trim)\n",
    "# 3. add a trim card\n",
    "# x. change to SOL=200\n",
    "print(model.trims)\n",
    "if 0:\n",
    "    cref = bref = sref = 1.0\n",
    "    model.add_aeros(cref, bref, sref)\n",
    "    eid = 1\n",
    "    pid = 1\n",
    "    igroup = 1\n",
    "    x12 = 1.0\n",
    "    x43 = 2.0\n",
    "    p1 = [0., 0., 0.]\n",
    "    p4 = [0., 1., 0.]\n",
    "    model.add_caero1(eid, pid, igroup, p1, x12, p4, x43, nchord=2, nspan=5)\n",
    "    model.add_paero1(pid)\n",
    "    model.add_spline1(eid=10, caero=eid, box1=1, box2=10, setg=50)\n",
    "    model.add_set1(sid=50, ids=[11,12,13,14])\n",
    "    model.add_grid(11, [0., 0., 0.])\n",
    "    model.add_grid(12, [1., 0., 0.])\n",
    "    model.add_grid(13, [1., 1., 0.])\n",
    "    model.add_grid(14, [0., 1., 0.])\n",
    "    del model.trims[42]\n",
    "    labels = ['ANGLEA']\n",
    "    uxs = [2.5]\n",
    "    trim = model.add_trim(42, mach, q, labels, uxs, aeqr=1.0, trim_type=1)\n",
    "    model.add_aestat(100,label='ANGLEA')\n",
    "model.write_bdf('junk.bdf')\n",
    "#!cat junk.bdf\n",
    "print('----------------------------------------------------------------------------------------------------')"
   ]
  },
  {
   "cell_type": "code",
   "execution_count": 36,
   "metadata": {},
   "outputs": [
    {
     "data": {
      "text/html": [
       "<text style=color:blue>DEBUG:   write_mesh.py:142            ---starting BDF.write_bdf of junk.bdf---\n",
       "</text>"
      ],
      "text/plain": [
       "<IPython.core.display.HTML object>"
      ]
     },
     "metadata": {},
     "output_type": "display_data"
    },
    {
     "name": "stdout",
     "output_type": "stream",
     "text": [
      "debug = False\n",
      "bdf_model = junk.bdf\n"
     ]
    },
    {
     "data": {
      "text/html": [
       "<text style=color:green>INFO:    test_bdf.py:431              starting fem1 (read/write)\n",
       "</text>"
      ],
      "text/plain": [
       "<IPython.core.display.HTML object>"
      ]
     },
     "metadata": {},
     "output_type": "display_data"
    },
    {
     "data": {
      "text/html": [
       "<text style=color:green>INFO:    test_bdf.py:440              running fem1 (read/write)\n",
       "</text>"
      ],
      "text/plain": [
       "<IPython.core.display.HTML object>"
      ]
     },
     "metadata": {},
     "output_type": "display_data"
    },
    {
     "data": {
      "text/html": [
       "<text style=color:green>INFO:    test_bdf.py:713              fem1.bdf_filename = junk.bdf\n",
       "</text>"
      ],
      "text/plain": [
       "<IPython.core.display.HTML object>"
      ]
     },
     "metadata": {},
     "output_type": "display_data"
    },
    {
     "data": {
      "text/html": [
       "<text style=color:green>INFO:    test_bdf.py:714              trying read_bdf from the raw filename\n",
       "</text>"
      ],
      "text/plain": [
       "<IPython.core.display.HTML object>"
      ]
     },
     "metadata": {},
     "output_type": "display_data"
    },
    {
     "data": {
      "text/html": [
       "<text style=color:green>INFO:    test_bdf.py:461              running fem2\n",
       "</text>"
      ],
      "text/plain": [
       "<IPython.core.display.HTML object>"
      ]
     },
     "metadata": {},
     "output_type": "display_data"
    },
    {
     "data": {
      "text/html": [
       "<text style=color:green>INFO:    test_bdf.py:938              starting fem2\n",
       "</text>"
      ],
      "text/plain": [
       "<IPython.core.display.HTML object>"
      ]
     },
     "metadata": {},
     "output_type": "display_data"
    },
    {
     "data": {
      "text/html": [
       "<text style=color:orange>WARNING: test_bdf.py:960              PARAM,POST,0 is not supported by the OP2 reader\n",
       "</text>"
      ],
      "text/plain": [
       "<IPython.core.display.HTML object>"
      ]
     },
     "metadata": {},
     "output_type": "display_data"
    },
    {
     "data": {
      "text/html": [
       "<text style=color:orange>WARNING: loads.py:1113                skipping ['PLOAD1', 'PLOAD4'] in Fg\n",
       "</text>"
      ],
      "text/plain": [
       "<IPython.core.display.HTML object>"
      ]
     },
     "metadata": {},
     "output_type": "display_data"
    },
    {
     "name": "stdout",
     "output_type": "stream",
     "text": [
      "  isubcase=1 F=[0. 0. 2.] M=[ 0.5 -0.5  0. ]\n",
      "   key=AEROS   value1=1       value2=1\n",
      "   key=AESTAT  value1=1       value2=1\n",
      "   key=CAERO1  value1=1       value2=1\n",
      "   key=CBAR    value1=4       value2=4\n",
      "   key=CQUAD4  value1=1       value2=1\n",
      "   key=DCONSTR value1=1       value2=1\n",
      "   key=DESVAR  value1=5       value2=5\n",
      "   key=DRESP1  value1=3       value2=3\n",
      "   key=DVPREL1 value1=1       value2=1\n",
      "   key=EIGRL   value1=1       value2=1\n",
      "   key=GRID    value1=8       value2=8\n",
      "   key=MAT1    value1=1       value2=1\n",
      "   key=PAERO1  value1=1       value2=1\n",
      "   key=PBARL   value1=1       value2=1\n",
      "   key=PLOAD1  value1=1       value2=1\n",
      "   key=PLOAD4  value1=1       value2=1\n",
      "   key=PSHELL  value1=1       value2=1\n",
      "   key=SET1    value1=1       value2=1\n",
      "   key=SPC1    value1=1       value2=1\n",
      "   key=SPLINE1 value1=1       value2=1\n",
      "   key=TRIM    value1=1       value2=1\n"
     ]
    },
    {
     "data": {
      "text/html": [
       "<text style=color:orange>WARNING: get_card.py:1132             get_elements_properties_nodes_by_element_type output is empty; nelements=5; etypes_found=['CBAR', 'CQUAD4']\n",
       "</text>"
      ],
      "text/plain": [
       "<IPython.core.display.HTML object>"
      ]
     },
     "metadata": {},
     "output_type": "display_data"
    },
    {
     "name": "stdout",
     "output_type": "stream",
     "text": [
      "mass = 0.0\n",
      "cg   = [0. 0. 0.]\n",
      "Ixx=0.0, Iyy=0.0, Izz=0.0 \n",
      "Ixy=0.0, Ixz=0.0, Iyz=0.0\n",
      "--------------------------------------------------------------------------------\n"
     ]
    },
    {
     "data": {
      "text/plain": [
       "(<pyNastran.bdf.bdf.BDF at 0x1b419d6bf40>,\n",
       " <pyNastran.bdf.bdf.BDF at 0x1b419ac6b80>,\n",
       " [])"
      ]
     },
     "execution_count": 36,
     "metadata": {},
     "output_type": "execute_result"
    }
   ],
   "source": [
    "from pyNastran.bdf.test.test_bdf import run_bdf as test_bdf\n",
    "model.write_bdf('junk.bdf')\n",
    "test_bdf('.', 'junk.bdf')"
   ]
  }
 ],
 "metadata": {
  "kernelspec": {
   "display_name": "Python 3 (ipykernel)",
   "language": "python",
   "name": "python3"
  },
  "language_info": {
   "codemirror_mode": {
    "name": "ipython",
    "version": 3
   },
   "file_extension": ".py",
   "mimetype": "text/x-python",
   "name": "python",
   "nbconvert_exporter": "python",
   "pygments_lexer": "ipython3",
   "version": "3.9.0"
  }
 },
 "nbformat": 4,
 "nbformat_minor": 4
}
