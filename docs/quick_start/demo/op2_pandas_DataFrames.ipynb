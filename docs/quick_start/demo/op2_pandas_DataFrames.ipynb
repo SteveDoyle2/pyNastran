{
 "cells": [
  {
   "cell_type": "markdown",
   "metadata": {},
   "source": [
    "# Transient DataFrames in PyNastran\n",
    "\n",
    "The Jupyter notebook for this demo can be found in:\n",
    "   - docs/quick_start/demo/op2_pandas_DataFrames.ipynb\n",
    "   - https://github.com/SteveDoyle2/pyNastran/tree/master/docs/quick_start/demo/op2_pandas_DataFrames.ipynb\n",
    "\n",
    "\n",
    "## We'll use standard pyNastran methods to load a model.  We'll set `build_dataframe=True` to make pandas objects"
   ]
  },
  {
   "cell_type": "code",
   "execution_count": null,
   "metadata": {
    "scrolled": true
   },
   "outputs": [],
   "source": [
    "import os\n",
    "import pandas as pd\n",
    "pd.set_option('display.precision', 3)\n",
    "\n",
    "import pyNastran\n",
    "pkg_path = pyNastran.__path__[0]\n",
    "from pyNastran.op2.op2 import read_op2\n",
    "from pyNastran.utils.nastran_utils import run_nastran\n",
    "\n",
    "bdf_filename = os.path.join(pkg_path, '..', 'models', 'iSat', 'iSat_launch_100Hz.dat')\n",
    "op2_filename = os.path.join(pkg_path, '..', 'models', 'iSat', 'iSat_launch_100Hz.op2')\n",
    "if not os.path.exists(op2_filename):\n",
    "    run_nastran(bdf_filename)\n",
    "    assert os.path.exists(op2_filename)\n",
    "\n",
    "isat = read_op2(op2_filename, build_dataframe=True, debug=False, skip_undefined_matrices=True,\n",
    "                exclude_results='*strain_energy')"
   ]
  },
  {
   "cell_type": "markdown",
   "metadata": {},
   "source": [
    "Get a list of all objects:"
   ]
  },
  {
   "cell_type": "code",
   "execution_count": null,
   "metadata": {},
   "outputs": [],
   "source": [
    "print(isat.get_op2_stats(short=True))"
   ]
  },
  {
   "cell_type": "markdown",
   "metadata": {},
   "source": [
    "Access the DataFrames"
   ]
  },
  {
   "cell_type": "code",
   "execution_count": null,
   "metadata": {},
   "outputs": [],
   "source": [
    "eigenvalues = None\n",
    "if len(isat.eigenvalues):\n",
    "    print(isat.eigenvalues.keys())\n",
    "    eigenvalues         = isat.eigenvalues[u'ISAT_SM_LAUNCH_4PT MODES TO 100 HZ'].data_frame\n",
    "\n",
    "results = isat.op2_results\n",
    "force = results.force\n",
    "stress = results.stress\n",
    "strain = results.strain\n",
    "eigenvectors            = isat.eigenvectors[1].data_frame\n",
    "mpc_forces              = isat.mpc_forces[1].data_frame\n",
    "grid_point_forces       = isat.grid_point_forces[1].data_frame\n",
    "cbar_force              = force.cbar_force[1].data_frame\n",
    "cbush_force             = force.cbush_force[1].data_frame\n",
    "cquad4_force            = force.cquad4_force[1].data_frame\n",
    "cquad4_stress           = stress.cquad4_stress[1].data_frame\n",
    "chexa_stress            = stress.chexa_stress[1].data_frame\n",
    "cquad4_composite_stress = stress.cquad4_composite_stress[1].data_frame\n",
    "ctria3_composite_stress = stress.ctria3_composite_stress[1].data_frame\n",
    "cquad4_strain           = strain.cquad4_strain[1].data_frame\n",
    "chexa_strain            = strain.chexa_strain[1].data_frame\n",
    "cquad4_composite_strain = strain.cquad4_composite_strain[1].data_frame\n",
    "ctria3_composite_strain = strain.ctria3_composite_strain[1].data_frame\n",
    "#del isat"
   ]
  },
  {
   "cell_type": "markdown",
   "metadata": {},
   "source": [
    "Now list each of the objects and be amazed!"
   ]
  },
  {
   "cell_type": "code",
   "execution_count": null,
   "metadata": {},
   "outputs": [],
   "source": [
    "eigenvalues"
   ]
  },
  {
   "cell_type": "code",
   "execution_count": null,
   "metadata": {},
   "outputs": [],
   "source": [
    "eigenvectors"
   ]
  },
  {
   "cell_type": "code",
   "execution_count": null,
   "metadata": {},
   "outputs": [],
   "source": [
    "mpc_forces"
   ]
  },
  {
   "cell_type": "markdown",
   "metadata": {},
   "source": [
    "Well maybe be less amazed by this one.  If you know pandas and can fix it, here's the code :)\n",
    "It's supposed to have the Eigenvalues, Freq, and Cycles, at the top."
   ]
  },
  {
   "cell_type": "code",
   "execution_count": null,
   "metadata": {},
   "outputs": [],
   "source": [
    "import numpy as np\n",
    "import pandas as pd\n",
    "\n",
    "def build_dataframe_gpf(self):\n",
    "    headers = self.get_headers()\n",
    "    #name = self.name\n",
    "    if self.is_unique:\n",
    "        ntimes = self.data.shape[0]\n",
    "        nnodes = self.data.shape[1]\n",
    "        nvalues = ntimes * nnodes\n",
    "        node_element = self.node_element.reshape((ntimes * nnodes, 2))\n",
    "        if self.nonlinear_factor is not None:\n",
    "            column_names, column_values = self._build_dataframe_transient_header()\n",
    "            #column_names = [column_names[0]]\n",
    "            #column_values = [column_values[0]]\n",
    "\n",
    "            column_values2 = []\n",
    "            for value in column_values:\n",
    "                values2 = []\n",
    "                #print(value)\n",
    "                for valuei in value:\n",
    "                    values = np.ones(nnodes) * valuei\n",
    "                    values2.append(values)\n",
    "                values3 = np.vstack(values2).ravel()\n",
    "                column_values2.append(values3)\n",
    "            df1 = pd.DataFrame(column_values2).T\n",
    "            df1.columns = column_names\n",
    "            return df1\n",
    "            #df1.columns.names = column_names\n",
    "            #self.data_frame.columns.names = column_names            \n",
    "            \n",
    "            df2 = pd.DataFrame(node_element)\n",
    "            df2.columns = ['NodeID', 'ElementID']\n",
    "            df3 = pd.DataFrame(self.element_names.ravel())\n",
    "            df3.columns = ['ElementType']\n",
    "\n",
    "            dfs = [df2, df3]\n",
    "            for i, header in enumerate(headers):\n",
    "                df = pd.DataFrame(self.data[:, :, i].ravel())\n",
    "                df.columns = [header]\n",
    "                dfs.append(df)\n",
    "            data_frame = df1.join(dfs)\n",
    "            #print(data_frame)\n",
    "        else:\n",
    "            df1 = pd.DataFrame(node_element)\n",
    "            df1.columns = ['NodeID', 'ElementID']\n",
    "            df2 = pd.DataFrame(self.element_names[0, :])\n",
    "            df2.columns = ['ElementType']\n",
    "            df3 = pd.DataFrame(self.data[0])\n",
    "            df3.columns = headers\n",
    "            data_frame = df1.join([df2, df3])\n",
    "            #print(data_frame)\n",
    "    else:\n",
    "        node_element = [self.node_element[:, 0], self.node_element[:, 1]]\n",
    "        if self.nonlinear_factor is not None:\n",
    "            column_names, column_values = self._build_dataframe_transient_header()\n",
    "            data_frame = pd.Panel(self.data, items=column_values, major_axis=node_element, minor_axis=headers).to_frame()\n",
    "            data_frame.columns.names = column_names\n",
    "            data_frame.index.names = ['NodeID', 'ElementID', 'Item']\n",
    "        else:\n",
    "            data_frame = pd.Panel(self.data, major_axis=node_element, minor_axis=headers).to_frame()\n",
    "            data_frame.columns.names = ['Static']\n",
    "            data_frame.index.names = ['NodeID', 'ElementID', 'Item']\n",
    "    return data_frame\n",
    "\n",
    "# print(isat.grid_point_forces[1])\n",
    "grid_point_forces2 = build_dataframe_gpf(isat.grid_point_forces[1])\n",
    "\n",
    "# print(grid_point_forces2)"
   ]
  },
  {
   "cell_type": "code",
   "execution_count": null,
   "metadata": {},
   "outputs": [],
   "source": [
    "grid_point_forces"
   ]
  },
  {
   "cell_type": "code",
   "execution_count": null,
   "metadata": {},
   "outputs": [],
   "source": [
    "cbar_force"
   ]
  },
  {
   "cell_type": "code",
   "execution_count": null,
   "metadata": {},
   "outputs": [],
   "source": [
    "cbush_force"
   ]
  },
  {
   "cell_type": "code",
   "execution_count": null,
   "metadata": {},
   "outputs": [],
   "source": [
    "cquad4_force"
   ]
  },
  {
   "cell_type": "code",
   "execution_count": null,
   "metadata": {},
   "outputs": [],
   "source": [
    "cquad4_stress"
   ]
  },
  {
   "cell_type": "code",
   "execution_count": null,
   "metadata": {},
   "outputs": [],
   "source": [
    "chexa_stress"
   ]
  },
  {
   "cell_type": "code",
   "execution_count": null,
   "metadata": {},
   "outputs": [],
   "source": [
    "cquad4_composite_stress"
   ]
  },
  {
   "cell_type": "code",
   "execution_count": null,
   "metadata": {},
   "outputs": [],
   "source": [
    "ctria3_composite_stress"
   ]
  },
  {
   "cell_type": "code",
   "execution_count": null,
   "metadata": {},
   "outputs": [],
   "source": [
    "cquad4_strain"
   ]
  },
  {
   "cell_type": "code",
   "execution_count": null,
   "metadata": {},
   "outputs": [],
   "source": [
    "chexa_stress"
   ]
  },
  {
   "cell_type": "code",
   "execution_count": null,
   "metadata": {},
   "outputs": [],
   "source": [
    "chexa_strain"
   ]
  },
  {
   "cell_type": "code",
   "execution_count": null,
   "metadata": {},
   "outputs": [],
   "source": [
    "cquad4_composite_strain"
   ]
  },
  {
   "cell_type": "code",
   "execution_count": null,
   "metadata": {},
   "outputs": [],
   "source": [
    "ctria3_composite_strain"
   ]
  },
  {
   "cell_type": "code",
   "execution_count": null,
   "metadata": {},
   "outputs": [],
   "source": []
  }
 ],
 "metadata": {
  "kernelspec": {
   "display_name": "Python 3 (ipykernel)",
   "language": "python",
   "name": "python3"
  },
  "language_info": {
   "codemirror_mode": {
    "name": "ipython",
    "version": 3
   },
   "file_extension": ".py",
   "mimetype": "text/x-python",
   "name": "python",
   "nbconvert_exporter": "python",
   "pygments_lexer": "ipython3",
   "version": "3.12.3"
  }
 },
 "nbformat": 4,
 "nbformat_minor": 4
}
