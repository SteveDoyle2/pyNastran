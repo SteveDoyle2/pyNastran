{
 "cells": [
  {
   "cell_type": "markdown",
   "metadata": {},
   "source": [
    "# OP2 Introduction\n",
    "\n",
    "The Jupyter notebook for this demo can be found in:\n",
    "   - docs/quick_start/demo/op2_demo.ipynb\n",
    "   - https://github.com/SteveDoyle2/pyNastran/tree/master/docs/quick_start/demo/op2_demo.ipynb\n",
    "\n",
    "\n",
    "## Why use the OP2?  Why not use the F06/PCH file?\n",
    "Most people are comfortable with the F06.  However, it's:\n",
    " - A lot harder to parse due to table breaks.  This can be avoided with LINE=xxx, but if you have to many lines, Nastran will crash.  The OP2 is very structured.\n",
    " - More than 500x slower.  We can read entire blocks of arrays with a single call.  The data is already typed.  This is the main reason Python is slow.\n",
    " - Memory efficient because we aren't appending strings onto lists and turning that into a numpy array.\n",
    "\n",
    "F06 parsers get complicated when you add:\n",
    " - single subcase buckling\n",
    " - superelements\n",
    " - SOL 200 optimization with sub-optimization\n",
    " - SPOINTs\n",
    "\n",
    "The pyNastran OP2 Reader is fast, highly validated, and it supports most result types.  The data in the OP2 is also more accurate because there is no rounding.\n",
    "\n",
    "## Validating an OP2\n",
    "\n",
    "The ```test_op2``` script is created when you run ```python setup.py develop``` or ```python setup.py install``` on pyNastran.  Assuming it's on your path (it'll be in Python27\\Scripts or something similar), you can run:\n",
    "\n",
    "```\n",
    ">>> test_op2 -f solid_bending.op2\n",
    "```\n",
    "The ```-f``` tells us to print out ```solid_bending.test_op2.f06```, which can be compared to your F06 for a small file to build confidence in the reader.  It's also useful when you want an F06 of your model without rerunning Nastran just to see what's in it.\n",
    "\n",
    "If you have a large model, you can make ```test_op2``` run much, much faster.  The ```-c``` flag disables double-reading of the OP2.  By default, ```test_op2``` uses two different read methods (the old method and new method) to ensure that results are read in properly.  When running the code, this is turned off, but is turned on for ```test_op2```.\n",
    "```\n",
    ">>> test_op2 -fc solid_bending.op2\n",
    "```\n",
    "\n",
    "## Import the packages"
   ]
  },
  {
   "cell_type": "code",
   "execution_count": 1,
   "metadata": {},
   "outputs": [],
   "source": [
    "import os\n",
    "import copy\n",
    "from pathlib import Path\n",
    "import numpy as np\n",
    "np.set_printoptions(precision=2, threshold=20, suppress=True)\n",
    "\n",
    "import pyNastran\n",
    "pkg_path = Path(pyNastran.__path__[0])\n",
    "#pkg_path = r'C:\\Users\\sdoyle\\Desktop\\demo\\pyNastran\\pyNastran'\n",
    "isat_path = (pkg_path / '..' / 'models' / 'iSat').absolute()\n",
    "\n",
    "from pyNastran.utils import print_bad_path\n",
    "from pyNastran.op2.op2 import read_op2\n",
    "from pyNastran.utils import object_methods, object_attributes\n",
    "from pyNastran.utils.nastran_utils import run_nastran\n",
    "\n",
    "import pandas as pd"
   ]
  },
  {
   "cell_type": "markdown",
   "metadata": {},
   "source": [
    "### Sets default precision of real numbers for pandas output\n"
   ]
  },
  {
   "cell_type": "code",
   "execution_count": 2,
   "metadata": {},
   "outputs": [],
   "source": [
    "pd.set_option('display.precision', 3)\n",
    "np.set_printoptions(precision=3, threshold=20)"
   ]
  },
  {
   "cell_type": "markdown",
   "metadata": {},
   "source": [
    "As with the BDF, we can use the long form and the short form.  However, the long form for the ``OP2`` doesn't really add anything.  So, let's just use the short form.\n",
    "\n",
    "In addition to the default numpy support, there is also **```pandas```** dataframe support."
   ]
  },
  {
   "cell_type": "code",
   "execution_count": 3,
   "metadata": {},
   "outputs": [
    {
     "data": {
      "text/html": [
       "<text style=color:orange>WARNING: shell.py:2807                PSHELL pid=1 midsurface: z1=0.4 z2=-0.4 t=0.036 not in range of -1.5t < zi < 1.5t\n",
       "</text>"
      ],
      "text/plain": [
       "<IPython.core.display.HTML object>"
      ]
     },
     "metadata": {},
     "output_type": "display_data"
    },
    {
     "data": {
      "text/html": [
       "<text style=color:orange>WARNING: shell.py:2807                PSHELL pid=2 midsurface: z1=0.4 z2=-0.4 t=0.054 not in range of -1.5t < zi < 1.5t\n",
       "</text>"
      ],
      "text/plain": [
       "<IPython.core.display.HTML object>"
      ]
     },
     "metadata": {},
     "output_type": "display_data"
    },
    {
     "data": {
      "text/html": [
       "<text style=color:orange>WARNING: shell.py:2807                PSHELL pid=3 midsurface: z1=0.4 z2=-0.4 t=0.018 not in range of -1.5t < zi < 1.5t\n",
       "</text>"
      ],
      "text/plain": [
       "<IPython.core.display.HTML object>"
      ]
     },
     "metadata": {},
     "output_type": "display_data"
    },
    {
     "data": {
      "text/html": [
       "<text style=color:orange>WARNING: shell.py:2807                PSHELL pid=7 midsurface: z1=0.418 z2=-0.418 t=0.036 not in range of -1.5t < zi < 1.5t\n",
       "</text>"
      ],
      "text/plain": [
       "<IPython.core.display.HTML object>"
      ]
     },
     "metadata": {},
     "output_type": "display_data"
    },
    {
     "data": {
      "text/html": [
       "<text style=color:orange>WARNING: shell.py:2807                PSHELL pid=34 midsurface: z1=0.194 z2=-0.194 t=0.0186 not in range of -1.5t < zi < 1.5t\n",
       "</text>"
      ],
      "text/plain": [
       "<IPython.core.display.HTML object>"
      ]
     },
     "metadata": {},
     "output_type": "display_data"
    },
    {
     "data": {
      "text/html": [
       "<text style=color:orange>WARNING: shell.py:2807                PSHELL pid=38 midsurface: z1=0.284 z2=-0.284 t=0.0186 not in range of -1.5t < zi < 1.5t\n",
       "</text>"
      ],
      "text/plain": [
       "<IPython.core.display.HTML object>"
      ]
     },
     "metadata": {},
     "output_type": "display_data"
    },
    {
     "data": {
      "text/html": [
       "<text style=color:orange>WARNING: shell.py:2807                PSHELL pid=46 midsurface: z1=0.199 z2=-0.199 t=0.0186 not in range of -1.5t < zi < 1.5t\n",
       "</text>"
      ],
      "text/plain": [
       "<IPython.core.display.HTML object>"
      ]
     },
     "metadata": {},
     "output_type": "display_data"
    },
    {
     "data": {
      "text/html": [
       "<text style=color:orange>WARNING: shell.py:2807                PSHELL pid=37 midsurface: z1=0.309 z2=-0.309 t=0.0186 not in range of -1.5t < zi < 1.5t\n",
       "</text>"
      ],
      "text/plain": [
       "<IPython.core.display.HTML object>"
      ]
     },
     "metadata": {},
     "output_type": "display_data"
    },
    {
     "data": {
      "text/html": [
       "<text style=color:green>INFO:    op2_scalar.py:1960           op2_filename = 'C:\\\\NASA\\\\m4\\\\formats\\\\git\\\\pyNastran_1.5.0\\\\pyNastran\\\\..\\\\models\\\\iSat\\\\ISat_Launch_Sm_4pt2.op2'\n",
       "</text>"
      ],
      "text/plain": [
       "<IPython.core.display.HTML object>"
      ]
     },
     "metadata": {},
     "output_type": "display_data"
    }
   ],
   "source": [
    "#op2_filename = r'D:\\work\\pynastran_0.8.0\\models\\iSat\\ISat_Launch_Sm_Rgd.op2'\n",
    "#op2_filename = r'D:\\work\\pynastran_0.8.0\\models\\iSat\\ISat_Launch_Sm_4pt.op2'\n",
    "bdf_filename = isat_path / 'ISat_Launch_Sm_4pt.dat'\n",
    "op2_filename = isat_path / 'ISat_Launch_Sm_4pt.op2'\n",
    "\n",
    "if 1:\n",
    "    from pyNastran.bdf.bdf import read_bdf\n",
    "    op2_filename = isat_path / 'ISat_Launch_Sm_4pt2.op2'\n",
    "    model = read_bdf(bdf_filename, debug=None)\n",
    "    model.set_param('POSTEXT', 'YES')\n",
    "    model.set_param('POST', -2)\n",
    "    bdf_filename = isat_path / 'ISat_Launch_Sm_4pt2.bdf'\n",
    "    model.write_bdf(bdf_filename)\n",
    "\n",
    "#if not os.path.exists(op2_filename):\n",
    "#    run_nastran(bdf_filename)\n",
    "assert os.path.exists(op2_filename), print_bad_path(op2_filename)\n",
    "\n",
    "# define the input file with a file path\n",
    "op2 = read_op2(op2_filename, build_dataframe=True, debug=False)"
   ]
  },
  {
   "cell_type": "markdown",
   "metadata": {},
   "source": [
    "## OP2 Introspection\n",
    "The ```get_op2_stats()``` function lets you quickly understand what in an op2."
   ]
  },
  {
   "cell_type": "code",
   "execution_count": 4,
   "metadata": {},
   "outputs": [
    {
     "name": "stdout",
     "output_type": "stream",
     "text": [
      "params:\n",
      "  AUTOSPC = 'YES'\n",
      "  GRDPNT = 0\n",
      "  K6ROT = 100.0\n",
      "  OMODES = 11\n",
      "  POST = -2\n",
      "  POSTEXT = 'YES'\n",
      "GridPointWeight['']:  reference_point=0\n",
      "  mass=[    1.7746     1.7746     1.7746]\n",
      "  cg = [-6.02244e-18    -2.5306   -18.4677]\n",
      "       [-0.0338514 -1.01609e-17   -18.4677]\n",
      "       [-0.0338514    -2.5306 -6.56299e-20]\n",
      "\n",
      "  MO = [    1.7746 -2.30393e-19 -5.45277e-20 -1.06874e-17   -32.7728    4.49081]\n",
      "       [-2.30393e-19     1.7746 1.82959e-19    32.7728 -1.80316e-17 -0.0600729]\n",
      "       [-5.45277e-20 1.82959e-19     1.7746   -4.49081  0.0600729 -1.16467e-19]\n",
      "       [-1.06874e-17    32.7728   -4.49081    1322.29     1.4147   -1.25059]\n",
      "       [  -32.7728 -1.80316e-17  0.0600729     1.4147    1227.08   -218.771]\n",
      "       [   4.49081 -0.0600729 -1.16467e-19   -1.25059   -218.771    427.228]\n",
      "\n",
      "  IS = [    705.69   -1.56673   0.141188]\n",
      "       [  -1.56673    621.837    135.836]\n",
      "       [  0.141188    135.836    415.862]\n",
      "\n",
      "  IQ = [   689.184                      ]\n",
      "       [              348.385           ]\n",
      "       [                         705.821]\n",
      "\n",
      "  Q  = [ 0.0884613 0.00159687   0.996078]\n",
      "       [ -0.892013  -0.444887  0.0799325]\n",
      "       [   0.44327  -0.895585 -0.0379308]\n",
      "op2_results.eqexin: EQEXIN(nid, ndof, doftype); nnodes=5379\n",
      "op2_results.bgpdt: BGPDT(cd, xyz); nnodes=5379\n",
      "op2_results.force.cbar_force[1]\n",
      "  type=RealCBarForceArray ntimes=167 nelements=827; table_name='OEF1X'\n",
      "  data: [ntimes, nnodes, 8] where 8=[bending_moment_a1, bending_moment_a2, bending_moment_b1, bending_moment_b2, shear1, shear2, axial, torque]\n",
      "  data.shape = (167, 827, 8)\n",
      "  element.shape = (827,)\n",
      "  element name: CBAR-34\n",
      "  sort1\n",
      "  modes = [  1   2   3 ... 165 166 167]; dtype=int32\n",
      "  eigns = [   2757.98     3568.25     9686.269 ... 6162759.    6169884.5\n",
      " 6229575.5  ]; dtype=float64\n",
      "  cycles = [  8.358   9.507  15.664 ... 395.101 395.329 397.237]; dtype=float64\n",
      "\n",
      "op2_results.stress.ctria3_stress[1]\n",
      "  type=RealPlateStressArray ntimes=167 nelements=32 nnodes_per_element=1 nlayers=2 ntotal=64\n",
      "  data: [ntimes, ntotal, 8] where 8=[fiber_distance, oxx, oyy, txy, angle, omax, omin, von_mises]\n",
      "  element_node.shape = (64, 2)\n",
      "  data.shape=(167, 64, 8)\n",
      "  element type: CTRIA3-74\n",
      "  s_code: 1\n",
      "  sort1\n",
      "  modes = [  1   2   3 ... 165 166 167]; dtype=int32\n",
      "  eigns = [   2757.98     3568.25     9686.269 ... 6162759.    6169884.5\n",
      " 6229575.5  ]; dtype=float64\n",
      "  mode2s = [0 0 0 ... 0 0 0]; dtype=int64\n",
      "  cycles = [  8.358   9.507  15.664 ... 395.101 395.329 397.237]; dtype=float64\n",
      "\n",
      "op2_results.stress.cquad4_stress[1]\n",
      "  type=RealPlateStressArray ntimes=167 nelements=4580 nnodes_per_element=1 nlayers=2 ntotal=9160\n",
      "  data: [ntimes, ntotal, 8] where 8=[fiber_distance, oxx, oyy, txy, angle, omax, omin, von_mises]\n",
      "  element_node.shape = (9160, 2)\n",
      "  data.shape=(167, 9160, 8)\n",
      "  element type: CQUAD4-33\n",
      "  s_code: 1\n",
      "  sort1\n",
      "  modes = [  1   2   3 ... 165 166 167]; dtype=int32\n",
      "  eigns = [   2757.98     3568.25     9686.269 ... 6162759.    6169884.5\n",
      " 6229575.5  ]; dtype=float64\n",
      "  mode2s = [0 0 0 ... 0 0 0]; dtype=int64\n",
      "  cycles = [  8.358   9.507  15.664 ... 395.101 395.329 397.237]; dtype=float64\n",
      "\n",
      "eigenvectors[1]\n",
      "  isubcase = 1\n",
      "  type=RealEigenvectorArray ntimes=167 nnodes=5379, table_name=OUGV1\n",
      "  data: [t1, t2, t3, r1, r2, r3] shape=[167, 5379, 6] dtype=float32\n",
      "  node_gridtype.shape = (5379, 2)\n",
      "  sort1\n",
      "  modes = [  1   2   3 ... 165 166 167]; dtype=int32\n",
      "  eigns = [   2757.98     3568.25     9686.269 ... 6162759.    6169884.5\n",
      " 6229575.5  ]; dtype=float64\n",
      "  mode_cycles = [  8.358   9.507  15.664 ... 395.101 395.329 397.237]; dtype=float64\n",
      "\n",
      "eigenvalues[ISAT_SM_LAUNCH_4PT MODES TO 400 HZ]\n",
      "  type=RealEigenvalues neigenvalues=167\n",
      "  title, extraction_order, eigenvalues, radians, cycles, generalized_mass, generalized_stiffness\n",
      "\n",
      "\n"
     ]
    }
   ],
   "source": [
    "print(op2.get_op2_stats())"
   ]
  },
  {
   "cell_type": "markdown",
   "metadata": {},
   "source": [
    "### If that's too long..."
   ]
  },
  {
   "cell_type": "code",
   "execution_count": 5,
   "metadata": {},
   "outputs": [
    {
     "name": "stdout",
     "output_type": "stream",
     "text": [
      "params:\n",
      "  AUTOSPC = 'YES'\n",
      "  GRDPNT = 0\n",
      "  K6ROT = 100.0\n",
      "  OMODES = 11\n",
      "  POST = -2\n",
      "  POSTEXT = 'YES'\n",
      "GridPointWeight['']: ref_point=0 mass=1.7746; [reference_point, M0, S, mass, cg, IS, IQ, Q]\n",
      "op2_results.eqexin: EQEXIN(nid, ndof, doftype); nnodes=5379\n",
      "op2_results.bgpdt: BGPDT(cd, xyz); nnodes=5379\n",
      "op2_results.force.cbar_force[1]\n",
      "op2_results.stress.ctria3_stress[1]\n",
      "op2_results.stress.cquad4_stress[1]\n",
      "eigenvectors[1]\n",
      "eigenvalues['ISAT_SM_LAUNCH_4PT MODES TO 400 HZ']\n",
      "\n"
     ]
    }
   ],
   "source": [
    "print(op2.get_op2_stats(short=True))"
   ]
  },
  {
   "cell_type": "markdown",
   "metadata": {},
   "source": [
    "## Accessing the Eigenvectors object\n",
    "\n",
    "Eigenvectors are the simplest object.  They use the same class as for displacements, velocity, acceleration, SPC Forces, MPC Forces, Applied Loads, etc.  These are all node-based tables with TX, TY, TZ, RX, RY, RZ.  Results are in the analysis coordinate frame (CD), which is defined by the GRID card.\n",
    "\n",
    "### Numpy-based Approach\n",
    "We'll first show off the standard ```numpy``` based results on a transient case.  Static results are the same, except that you'll always use the 0th index for the \"time\" index.\n",
    "\n",
    "The tutorial is intetionally just accessing the objects in a very clear, though inefficient way.  The OP2 objects can take full advantage of the numpy operations."
   ]
  },
  {
   "cell_type": "code",
   "execution_count": 6,
   "metadata": {},
   "outputs": [
    {
     "name": "stdout",
     "output_type": "stream",
     "text": [
      "loadcases = [np.int64(1)]\n",
      "modes = [  1   2   3 ... 165 166 167]\n",
      "\n",
      "times = [  1   2   3 ... 165 166 167]\n",
      "\n",
      "first 10 nodes and grid types\n",
      "Nid Gridtype\n",
      "[[ 1  1]\n",
      " [ 2  1]\n",
      " [ 3  1]\n",
      " [ 4  1]\n",
      " [ 5  1]\n",
      " [ 6  1]\n",
      " [ 7  1]\n",
      " [ 8  1]\n",
      " [ 9  1]\n",
      " [10  1]]\n",
      "translation mode2_node10 = [0.    0.008 0.002]\n",
      "rotations mode2_node10 = [-0.  0. -0.]\n"
     ]
    }
   ],
   "source": [
    "# what modes did we analyze:  1 to 167\n",
    "eigenvector_keys = list(op2.eigenvectors.keys())\n",
    "print(\"loadcases = %s\" % eigenvector_keys)\n",
    "\n",
    "# get subcase 1\n",
    "eig1 = op2.eigenvectors[1]\n",
    "\n",
    "modes = eig1.modes\n",
    "times = eig1._times #  the generic version of modes\n",
    "print(\"modes = %s\\n\" % modes)\n",
    "print(\"times = %s\\n\" % times)\n",
    "\n",
    "imode2 = 1 # corresponds to mode 2\n",
    "mode2 = eig1.data[imode2, :, :]\n",
    "\n",
    "print('first 10 nodes and grid types\\nNid Gridtype\\n%s' % eig1.node_gridtype[:10, :])\n",
    "node_ids = eig1.node_gridtype[:, 0]\n",
    "\n",
    "index_node10 = np.where(node_ids == 10)[0]  # we add the [0] because it's 1d\n",
    "mode2_node10 = mode2[index_node10]\n",
    "print(\"translation mode2_node10 = %s\" % eig1.data[imode2, index_node10, :3].ravel())\n",
    "print(\"rotations mode2_node10 = %s\" % eig1.data[imode2, index_node10, 3:].ravel())"
   ]
  },
  {
   "cell_type": "markdown",
   "metadata": {},
   "source": [
    "### Pandas-based Approach\n",
    "\n",
    "If you like pandas, you can access all the OP2 objects, which is very useful within the Jupyter Notebook.  Different objects will look differently, but you can change the layout.\n",
    "\n",
    "If you're trying to learn pandas, there are many tutorials online, such as:\n",
    "http://pandas.pydata.org/pandas-docs/stable/10min.html\n",
    "\n",
    "or a very long, but good video:"
   ]
  },
  {
   "cell_type": "code",
   "execution_count": 7,
   "metadata": {},
   "outputs": [
    {
     "data": {
      "text/html": [
       "<div>\n",
       "<style scoped>\n",
       "    .dataframe tbody tr th:only-of-type {\n",
       "        vertical-align: middle;\n",
       "    }\n",
       "\n",
       "    .dataframe tbody tr th {\n",
       "        vertical-align: top;\n",
       "    }\n",
       "\n",
       "    .dataframe thead tr th {\n",
       "        text-align: left;\n",
       "    }\n",
       "\n",
       "    .dataframe thead tr:last-of-type th {\n",
       "        text-align: right;\n",
       "    }\n",
       "</style>\n",
       "<table border=\"1\" class=\"dataframe\">\n",
       "  <thead>\n",
       "    <tr>\n",
       "      <th></th>\n",
       "      <th>Mode</th>\n",
       "      <th>1</th>\n",
       "      <th>2</th>\n",
       "      <th>3</th>\n",
       "      <th>4</th>\n",
       "      <th>5</th>\n",
       "      <th>6</th>\n",
       "      <th>7</th>\n",
       "      <th>8</th>\n",
       "      <th>9</th>\n",
       "      <th>10</th>\n",
       "      <th>...</th>\n",
       "      <th>158</th>\n",
       "      <th>159</th>\n",
       "      <th>160</th>\n",
       "      <th>161</th>\n",
       "      <th>162</th>\n",
       "      <th>163</th>\n",
       "      <th>164</th>\n",
       "      <th>165</th>\n",
       "      <th>166</th>\n",
       "      <th>167</th>\n",
       "    </tr>\n",
       "    <tr>\n",
       "      <th></th>\n",
       "      <th>Freq</th>\n",
       "      <th>8.358</th>\n",
       "      <th>9.507</th>\n",
       "      <th>15.664</th>\n",
       "      <th>20.229</th>\n",
       "      <th>20.306</th>\n",
       "      <th>20.548</th>\n",
       "      <th>21.500</th>\n",
       "      <th>21.701</th>\n",
       "      <th>21.716</th>\n",
       "      <th>28.444</th>\n",
       "      <th>...</th>\n",
       "      <th>382.715</th>\n",
       "      <th>385.300</th>\n",
       "      <th>387.258</th>\n",
       "      <th>390.518</th>\n",
       "      <th>390.989</th>\n",
       "      <th>391.049</th>\n",
       "      <th>393.165</th>\n",
       "      <th>395.101</th>\n",
       "      <th>395.329</th>\n",
       "      <th>397.237</th>\n",
       "    </tr>\n",
       "    <tr>\n",
       "      <th></th>\n",
       "      <th>Eigenvalue</th>\n",
       "      <th>2.758e+03</th>\n",
       "      <th>3.568e+03</th>\n",
       "      <th>9.686e+03</th>\n",
       "      <th>1.615e+04</th>\n",
       "      <th>1.628e+04</th>\n",
       "      <th>1.667e+04</th>\n",
       "      <th>1.825e+04</th>\n",
       "      <th>1.859e+04</th>\n",
       "      <th>1.862e+04</th>\n",
       "      <th>3.194e+04</th>\n",
       "      <th>...</th>\n",
       "      <th>5.782e+06</th>\n",
       "      <th>5.861e+06</th>\n",
       "      <th>5.921e+06</th>\n",
       "      <th>6.021e+06</th>\n",
       "      <th>6.035e+06</th>\n",
       "      <th>6.037e+06</th>\n",
       "      <th>6.103e+06</th>\n",
       "      <th>6.163e+06</th>\n",
       "      <th>6.170e+06</th>\n",
       "      <th>6.230e+06</th>\n",
       "    </tr>\n",
       "    <tr>\n",
       "      <th></th>\n",
       "      <th>Radians</th>\n",
       "      <th>52.516</th>\n",
       "      <th>59.735</th>\n",
       "      <th>98.419</th>\n",
       "      <th>127.102</th>\n",
       "      <th>127.585</th>\n",
       "      <th>129.107</th>\n",
       "      <th>135.087</th>\n",
       "      <th>136.351</th>\n",
       "      <th>136.445</th>\n",
       "      <th>178.722</th>\n",
       "      <th>...</th>\n",
       "      <th>2404.668</th>\n",
       "      <th>2420.914</th>\n",
       "      <th>2433.217</th>\n",
       "      <th>2453.694</th>\n",
       "      <th>2456.658</th>\n",
       "      <th>2457.035</th>\n",
       "      <th>2470.327</th>\n",
       "      <th>2482.490</th>\n",
       "      <th>2483.925</th>\n",
       "      <th>2495.912</th>\n",
       "    </tr>\n",
       "    <tr>\n",
       "      <th>NodeID</th>\n",
       "      <th>Item</th>\n",
       "      <th></th>\n",
       "      <th></th>\n",
       "      <th></th>\n",
       "      <th></th>\n",
       "      <th></th>\n",
       "      <th></th>\n",
       "      <th></th>\n",
       "      <th></th>\n",
       "      <th></th>\n",
       "      <th></th>\n",
       "      <th></th>\n",
       "      <th></th>\n",
       "      <th></th>\n",
       "      <th></th>\n",
       "      <th></th>\n",
       "      <th></th>\n",
       "      <th></th>\n",
       "      <th></th>\n",
       "      <th></th>\n",
       "      <th></th>\n",
       "      <th></th>\n",
       "    </tr>\n",
       "  </thead>\n",
       "  <tbody>\n",
       "    <tr>\n",
       "      <th rowspan=\"5\" valign=\"top\">1</th>\n",
       "      <th>t1</th>\n",
       "      <td>5.548e-03</td>\n",
       "      <td>4.669e-06</td>\n",
       "      <td>1.816e-04</td>\n",
       "      <td>-5.670e-02</td>\n",
       "      <td>1.721e-04</td>\n",
       "      <td>4.175e-02</td>\n",
       "      <td>-8.661e-05</td>\n",
       "      <td>1.341e-03</td>\n",
       "      <td>1.582e-03</td>\n",
       "      <td>-2.439e-01</td>\n",
       "      <td>...</td>\n",
       "      <td>-5.721e-02</td>\n",
       "      <td>5.368e-02</td>\n",
       "      <td>3.839e-02</td>\n",
       "      <td>-0.133</td>\n",
       "      <td>1.974e-02</td>\n",
       "      <td>-0.028</td>\n",
       "      <td>-0.033</td>\n",
       "      <td>0.104</td>\n",
       "      <td>0.069</td>\n",
       "      <td>1.901e-02</td>\n",
       "    </tr>\n",
       "    <tr>\n",
       "      <th>t2</th>\n",
       "      <td>-2.133e-04</td>\n",
       "      <td>5.699e-03</td>\n",
       "      <td>-2.393e-02</td>\n",
       "      <td>5.802e-04</td>\n",
       "      <td>-1.812e-04</td>\n",
       "      <td>-1.971e-04</td>\n",
       "      <td>6.490e-05</td>\n",
       "      <td>3.562e-02</td>\n",
       "      <td>-3.164e-02</td>\n",
       "      <td>-1.291e-02</td>\n",
       "      <td>...</td>\n",
       "      <td>3.090e-01</td>\n",
       "      <td>3.746e-01</td>\n",
       "      <td>5.836e-02</td>\n",
       "      <td>-0.024</td>\n",
       "      <td>5.890e-02</td>\n",
       "      <td>-0.015</td>\n",
       "      <td>-0.177</td>\n",
       "      <td>0.010</td>\n",
       "      <td>-0.053</td>\n",
       "      <td>-1.187e-01</td>\n",
       "    </tr>\n",
       "    <tr>\n",
       "      <th>t3</th>\n",
       "      <td>8.469e-04</td>\n",
       "      <td>1.512e-03</td>\n",
       "      <td>-7.038e-03</td>\n",
       "      <td>-8.160e-03</td>\n",
       "      <td>-1.385e-03</td>\n",
       "      <td>6.209e-03</td>\n",
       "      <td>-1.005e-04</td>\n",
       "      <td>9.286e-03</td>\n",
       "      <td>-7.856e-03</td>\n",
       "      <td>-3.757e-02</td>\n",
       "      <td>...</td>\n",
       "      <td>4.531e-02</td>\n",
       "      <td>-1.270e-01</td>\n",
       "      <td>-2.550e-01</td>\n",
       "      <td>-0.179</td>\n",
       "      <td>1.140e-03</td>\n",
       "      <td>-0.042</td>\n",
       "      <td>0.037</td>\n",
       "      <td>-0.263</td>\n",
       "      <td>-0.213</td>\n",
       "      <td>1.474e-01</td>\n",
       "    </tr>\n",
       "    <tr>\n",
       "      <th>r1</th>\n",
       "      <td>8.399e-06</td>\n",
       "      <td>-2.241e-04</td>\n",
       "      <td>1.035e-03</td>\n",
       "      <td>-4.509e-05</td>\n",
       "      <td>6.317e-05</td>\n",
       "      <td>9.634e-06</td>\n",
       "      <td>-2.505e-06</td>\n",
       "      <td>-1.322e-03</td>\n",
       "      <td>1.172e-03</td>\n",
       "      <td>5.433e-04</td>\n",
       "      <td>...</td>\n",
       "      <td>3.061e-02</td>\n",
       "      <td>9.862e-04</td>\n",
       "      <td>-2.992e-02</td>\n",
       "      <td>-0.035</td>\n",
       "      <td>-1.128e-04</td>\n",
       "      <td>-0.007</td>\n",
       "      <td>0.053</td>\n",
       "      <td>0.004</td>\n",
       "      <td>-0.024</td>\n",
       "      <td>3.404e-02</td>\n",
       "    </tr>\n",
       "    <tr>\n",
       "      <th>r2</th>\n",
       "      <td>2.507e-04</td>\n",
       "      <td>1.228e-06</td>\n",
       "      <td>8.731e-06</td>\n",
       "      <td>-2.571e-03</td>\n",
       "      <td>6.177e-06</td>\n",
       "      <td>1.767e-03</td>\n",
       "      <td>-3.825e-06</td>\n",
       "      <td>5.682e-05</td>\n",
       "      <td>5.614e-05</td>\n",
       "      <td>-1.009e-02</td>\n",
       "      <td>...</td>\n",
       "      <td>1.174e-02</td>\n",
       "      <td>-1.239e-03</td>\n",
       "      <td>-1.026e-02</td>\n",
       "      <td>-0.031</td>\n",
       "      <td>4.137e-03</td>\n",
       "      <td>-0.011</td>\n",
       "      <td>-0.026</td>\n",
       "      <td>-0.010</td>\n",
       "      <td>-0.007</td>\n",
       "      <td>9.107e-04</td>\n",
       "    </tr>\n",
       "    <tr>\n",
       "      <th>...</th>\n",
       "      <th>...</th>\n",
       "      <td>...</td>\n",
       "      <td>...</td>\n",
       "      <td>...</td>\n",
       "      <td>...</td>\n",
       "      <td>...</td>\n",
       "      <td>...</td>\n",
       "      <td>...</td>\n",
       "      <td>...</td>\n",
       "      <td>...</td>\n",
       "      <td>...</td>\n",
       "      <td>...</td>\n",
       "      <td>...</td>\n",
       "      <td>...</td>\n",
       "      <td>...</td>\n",
       "      <td>...</td>\n",
       "      <td>...</td>\n",
       "      <td>...</td>\n",
       "      <td>...</td>\n",
       "      <td>...</td>\n",
       "      <td>...</td>\n",
       "      <td>...</td>\n",
       "    </tr>\n",
       "    <tr>\n",
       "      <th rowspan=\"5\" valign=\"top\">5633</th>\n",
       "      <th>t2</th>\n",
       "      <td>0.000e+00</td>\n",
       "      <td>0.000e+00</td>\n",
       "      <td>0.000e+00</td>\n",
       "      <td>0.000e+00</td>\n",
       "      <td>0.000e+00</td>\n",
       "      <td>0.000e+00</td>\n",
       "      <td>0.000e+00</td>\n",
       "      <td>0.000e+00</td>\n",
       "      <td>0.000e+00</td>\n",
       "      <td>0.000e+00</td>\n",
       "      <td>...</td>\n",
       "      <td>0.000e+00</td>\n",
       "      <td>0.000e+00</td>\n",
       "      <td>0.000e+00</td>\n",
       "      <td>0.000</td>\n",
       "      <td>0.000e+00</td>\n",
       "      <td>0.000</td>\n",
       "      <td>0.000</td>\n",
       "      <td>0.000</td>\n",
       "      <td>0.000</td>\n",
       "      <td>0.000e+00</td>\n",
       "    </tr>\n",
       "    <tr>\n",
       "      <th>t3</th>\n",
       "      <td>0.000e+00</td>\n",
       "      <td>0.000e+00</td>\n",
       "      <td>0.000e+00</td>\n",
       "      <td>0.000e+00</td>\n",
       "      <td>0.000e+00</td>\n",
       "      <td>0.000e+00</td>\n",
       "      <td>0.000e+00</td>\n",
       "      <td>0.000e+00</td>\n",
       "      <td>0.000e+00</td>\n",
       "      <td>0.000e+00</td>\n",
       "      <td>...</td>\n",
       "      <td>0.000e+00</td>\n",
       "      <td>0.000e+00</td>\n",
       "      <td>0.000e+00</td>\n",
       "      <td>0.000</td>\n",
       "      <td>0.000e+00</td>\n",
       "      <td>0.000</td>\n",
       "      <td>0.000</td>\n",
       "      <td>0.000</td>\n",
       "      <td>0.000</td>\n",
       "      <td>0.000e+00</td>\n",
       "    </tr>\n",
       "    <tr>\n",
       "      <th>r1</th>\n",
       "      <td>-3.006e-07</td>\n",
       "      <td>5.476e-05</td>\n",
       "      <td>-6.343e-04</td>\n",
       "      <td>6.336e-06</td>\n",
       "      <td>2.494e-06</td>\n",
       "      <td>-2.716e-06</td>\n",
       "      <td>-5.488e-07</td>\n",
       "      <td>2.376e-04</td>\n",
       "      <td>-2.019e-04</td>\n",
       "      <td>-6.017e-05</td>\n",
       "      <td>...</td>\n",
       "      <td>4.288e-04</td>\n",
       "      <td>3.523e-03</td>\n",
       "      <td>-9.686e-04</td>\n",
       "      <td>-0.007</td>\n",
       "      <td>-9.864e-04</td>\n",
       "      <td>-0.001</td>\n",
       "      <td>0.014</td>\n",
       "      <td>0.008</td>\n",
       "      <td>-0.028</td>\n",
       "      <td>2.645e-02</td>\n",
       "    </tr>\n",
       "    <tr>\n",
       "      <th>r2</th>\n",
       "      <td>-1.723e-06</td>\n",
       "      <td>1.278e-06</td>\n",
       "      <td>1.805e-06</td>\n",
       "      <td>1.940e-04</td>\n",
       "      <td>3.376e-07</td>\n",
       "      <td>8.449e-06</td>\n",
       "      <td>-3.548e-08</td>\n",
       "      <td>4.728e-05</td>\n",
       "      <td>4.650e-05</td>\n",
       "      <td>-2.129e-04</td>\n",
       "      <td>...</td>\n",
       "      <td>-2.084e-02</td>\n",
       "      <td>-1.173e-03</td>\n",
       "      <td>6.237e-03</td>\n",
       "      <td>-0.013</td>\n",
       "      <td>1.097e-03</td>\n",
       "      <td>-0.005</td>\n",
       "      <td>-0.006</td>\n",
       "      <td>-0.005</td>\n",
       "      <td>-0.005</td>\n",
       "      <td>-6.870e-03</td>\n",
       "    </tr>\n",
       "    <tr>\n",
       "      <th>r3</th>\n",
       "      <td>7.271e-06</td>\n",
       "      <td>3.394e-06</td>\n",
       "      <td>2.716e-06</td>\n",
       "      <td>-1.478e-04</td>\n",
       "      <td>4.099e-07</td>\n",
       "      <td>5.572e-05</td>\n",
       "      <td>-2.954e-07</td>\n",
       "      <td>1.383e-05</td>\n",
       "      <td>-1.663e-05</td>\n",
       "      <td>-6.515e-04</td>\n",
       "      <td>...</td>\n",
       "      <td>-2.914e-02</td>\n",
       "      <td>-1.307e-03</td>\n",
       "      <td>6.513e-03</td>\n",
       "      <td>-0.014</td>\n",
       "      <td>1.144e-03</td>\n",
       "      <td>-0.005</td>\n",
       "      <td>-0.008</td>\n",
       "      <td>-0.008</td>\n",
       "      <td>-0.007</td>\n",
       "      <td>-8.940e-03</td>\n",
       "    </tr>\n",
       "  </tbody>\n",
       "</table>\n",
       "<p>32274 rows × 167 columns</p>\n",
       "</div>"
      ],
      "text/plain": [
       "Mode               1          2          3          4          5          6    \\\n",
       "Freq           8.358      9.507      15.664     20.229     20.306     20.548    \n",
       "Eigenvalue   2.758e+03  3.568e+03  9.686e+03  1.615e+04  1.628e+04  1.667e+04   \n",
       "Radians       52.516     59.735     98.419     127.102    127.585    129.107    \n",
       "NodeID Item                                                                     \n",
       "1      t1    5.548e-03  4.669e-06  1.816e-04 -5.670e-02  1.721e-04  4.175e-02   \n",
       "       t2   -2.133e-04  5.699e-03 -2.393e-02  5.802e-04 -1.812e-04 -1.971e-04   \n",
       "       t3    8.469e-04  1.512e-03 -7.038e-03 -8.160e-03 -1.385e-03  6.209e-03   \n",
       "       r1    8.399e-06 -2.241e-04  1.035e-03 -4.509e-05  6.317e-05  9.634e-06   \n",
       "       r2    2.507e-04  1.228e-06  8.731e-06 -2.571e-03  6.177e-06  1.767e-03   \n",
       "...                ...        ...        ...        ...        ...        ...   \n",
       "5633   t2    0.000e+00  0.000e+00  0.000e+00  0.000e+00  0.000e+00  0.000e+00   \n",
       "       t3    0.000e+00  0.000e+00  0.000e+00  0.000e+00  0.000e+00  0.000e+00   \n",
       "       r1   -3.006e-07  5.476e-05 -6.343e-04  6.336e-06  2.494e-06 -2.716e-06   \n",
       "       r2   -1.723e-06  1.278e-06  1.805e-06  1.940e-04  3.376e-07  8.449e-06   \n",
       "       r3    7.271e-06  3.394e-06  2.716e-06 -1.478e-04  4.099e-07  5.572e-05   \n",
       "\n",
       "Mode               7          8          9          10   ...        158  \\\n",
       "Freq           21.500     21.701     21.716     28.444   ...    382.715   \n",
       "Eigenvalue   1.825e+04  1.859e+04  1.862e+04  3.194e+04  ...  5.782e+06   \n",
       "Radians       135.087    136.351    136.445    178.722   ...   2404.668   \n",
       "NodeID Item                                              ...              \n",
       "1      t1   -8.661e-05  1.341e-03  1.582e-03 -2.439e-01  ... -5.721e-02   \n",
       "       t2    6.490e-05  3.562e-02 -3.164e-02 -1.291e-02  ...  3.090e-01   \n",
       "       t3   -1.005e-04  9.286e-03 -7.856e-03 -3.757e-02  ...  4.531e-02   \n",
       "       r1   -2.505e-06 -1.322e-03  1.172e-03  5.433e-04  ...  3.061e-02   \n",
       "       r2   -3.825e-06  5.682e-05  5.614e-05 -1.009e-02  ...  1.174e-02   \n",
       "...                ...        ...        ...        ...  ...        ...   \n",
       "5633   t2    0.000e+00  0.000e+00  0.000e+00  0.000e+00  ...  0.000e+00   \n",
       "       t3    0.000e+00  0.000e+00  0.000e+00  0.000e+00  ...  0.000e+00   \n",
       "       r1   -5.488e-07  2.376e-04 -2.019e-04 -6.017e-05  ...  4.288e-04   \n",
       "       r2   -3.548e-08  4.728e-05  4.650e-05 -2.129e-04  ... -2.084e-02   \n",
       "       r3   -2.954e-07  1.383e-05 -1.663e-05 -6.515e-04  ... -2.914e-02   \n",
       "\n",
       "Mode               159        160       161        162       163       164  \\\n",
       "Freq           385.300    387.258   390.518    390.989   391.049   393.165   \n",
       "Eigenvalue   5.861e+06  5.921e+06 6.021e+06  6.035e+06 6.037e+06 6.103e+06   \n",
       "Radians       2420.914   2433.217  2453.694   2456.658  2457.035  2470.327   \n",
       "NodeID Item                                                                  \n",
       "1      t1    5.368e-02  3.839e-02    -0.133  1.974e-02    -0.028    -0.033   \n",
       "       t2    3.746e-01  5.836e-02    -0.024  5.890e-02    -0.015    -0.177   \n",
       "       t3   -1.270e-01 -2.550e-01    -0.179  1.140e-03    -0.042     0.037   \n",
       "       r1    9.862e-04 -2.992e-02    -0.035 -1.128e-04    -0.007     0.053   \n",
       "       r2   -1.239e-03 -1.026e-02    -0.031  4.137e-03    -0.011    -0.026   \n",
       "...                ...        ...       ...        ...       ...       ...   \n",
       "5633   t2    0.000e+00  0.000e+00     0.000  0.000e+00     0.000     0.000   \n",
       "       t3    0.000e+00  0.000e+00     0.000  0.000e+00     0.000     0.000   \n",
       "       r1    3.523e-03 -9.686e-04    -0.007 -9.864e-04    -0.001     0.014   \n",
       "       r2   -1.173e-03  6.237e-03    -0.013  1.097e-03    -0.005    -0.006   \n",
       "       r3   -1.307e-03  6.513e-03    -0.014  1.144e-03    -0.005    -0.008   \n",
       "\n",
       "Mode              165       166        167  \n",
       "Freq          395.101   395.329    397.237  \n",
       "Eigenvalue  6.163e+06 6.170e+06  6.230e+06  \n",
       "Radians      2482.490  2483.925   2495.912  \n",
       "NodeID Item                                 \n",
       "1      t1       0.104     0.069  1.901e-02  \n",
       "       t2       0.010    -0.053 -1.187e-01  \n",
       "       t3      -0.263    -0.213  1.474e-01  \n",
       "       r1       0.004    -0.024  3.404e-02  \n",
       "       r2      -0.010    -0.007  9.107e-04  \n",
       "...               ...       ...        ...  \n",
       "5633   t2       0.000     0.000  0.000e+00  \n",
       "       t3       0.000     0.000  0.000e+00  \n",
       "       r1       0.008    -0.028  2.645e-02  \n",
       "       r2      -0.005    -0.005 -6.870e-03  \n",
       "       r3      -0.008    -0.007 -8.940e-03  \n",
       "\n",
       "[32274 rows x 167 columns]"
      ]
     },
     "execution_count": 7,
     "metadata": {},
     "output_type": "execute_result"
    }
   ],
   "source": [
    "# get subcase 1\n",
    "eig1 = op2.eigenvectors[1]\n",
    "\n",
    "eig1.data_frame"
   ]
  },
  {
   "cell_type": "code",
   "execution_count": 8,
   "metadata": {},
   "outputs": [
    {
     "name": "stdout",
     "output_type": "stream",
     "text": [
      "phi.shape = (32274, 167)\n",
      "[[ 0.006  0.     0.    ...  0.104  0.069  0.019]\n",
      " [-0.     0.006 -0.024 ...  0.01  -0.053 -0.119]\n",
      " [ 0.001  0.002 -0.007 ... -0.263 -0.213  0.147]\n",
      " ...\n",
      " [-0.     0.    -0.001 ...  0.008 -0.028  0.026]\n",
      " [-0.     0.     0.    ... -0.005 -0.005 -0.007]\n",
      " [ 0.     0.     0.    ... -0.008 -0.007 -0.009]]\n"
     ]
    }
   ],
   "source": [
    "phi = eig1.get_phi()\n",
    "print(f'phi.shape = {phi.shape}')\n",
    "print(phi)"
   ]
  },
  {
   "cell_type": "markdown",
   "metadata": {},
   "source": [
    "## Accessing the plate stress/strain\n",
    "Results are stored on a per element type basis.\n",
    "\n",
    "The OP2 is the same as an F06, so CQUAD4 elements have centroidal-based results or centroidal-based as well as the results at the 4 corner nodes.\n",
    "\n",
    "Be careful about what you're accessing."
   ]
  },
  {
   "cell_type": "code",
   "execution_count": 9,
   "metadata": {},
   "outputs": [
    {
     "name": "stdout",
     "output_type": "stream",
     "text": [
      "  type=RealPlateStressArray ntimes=167 nelements=4580 nnodes_per_element=1 nlayers=2 ntotal=9160\n",
      "  data: [ntimes, ntotal, 8] where 8=[fiber_distance, oxx, oyy, txy, angle, omax, omin, von_mises]\n",
      "  element_node.shape = (9160, 2)\n",
      "  data.shape=(167, 9160, 8)\n",
      "  element type: CQUAD4-33\n",
      "  s_code: 1\n",
      "  sort1\n",
      "  modes = [  1   2   3 ... 165 166 167]; dtype=int32\n",
      "  eigns = [   2757.98     3568.25     9686.269 ... 6162759.    6169884.5\n",
      " 6229575.5  ]; dtype=float64\n",
      "  mode2s = [0 0 0 ... 0 0 0]; dtype=int64\n",
      "  cycles = [  8.358   9.507  15.664 ... 395.101 395.329 397.237]; dtype=float64\n",
      "\n",
      "plate_stress = dict_keys(['element_type', 'element_name', 'nonlinear_factor', '_times', 'result_name', 'approach_code', 'analysis_code', 'data', 'isubcase', 'ogs', 'pval_step', 'name', 'superelement_adaptivity_index', '_count', 'is_built', 'format_code', 'sort_code', 'table_code', 'title', 'subtitle', 'label', 'num_wide', 'device_code', 'table_name', 'data_frame', 'size', 'dt', 'ntimes', 'ntotal', '_ntotals', 'load_as_h5', 'h5_file', 'data_code', 'ielement', 'nelements', 'nnodes', '_encoding', '_times_dtype', 'cycle', 'data_names', 'eign', 'is_msc', 'is_strain_flag', 'is_stress_flag', 'load_set', 'mode', 'mode2', 'omega', 's_code', 'sort_bits', 'sort_method', 'stress_bits', 'subtitle_original', 'tCode', 'thermal', 'thermal_bits', 'modes', 'eigns', 'mode2s', 'cycles', 'itotal', 'itime', 'element_node', 'words'])\n",
      "\n",
      "data_code_keys = dict_keys(['_encoding', 'load_as_h5', 'size', 'is_msc', 'table_name', 'approach_code', 'isubcase', 'table_code', 'tCode', 'sort_code', 'sort_method', 'device_code', 'analysis_code', 'sort_bits', 'element_type', 'load_set', 'format_code', 'num_wide', 's_code', 'thermal', 'nonlinear_factor', 'name', 'mode', 'eign', 'mode2', 'cycle', 'omega', 'data_names', '_times_dtype', 'thermal_bits', 'element_name', 'subtitle', 'subtitle_original', 'pval_step', 'superelement_adaptivity_index', 'label', 'title', 'stress_bits', 'is_stress_flag', 'is_strain_flag', 'result_name', '_count'])\n",
      "\n",
      "name = 'mode'\n",
      "list-type variables = ['mode', 'eign', 'mode2', 'cycle']\n",
      "modes = [  1   2   3 ... 165 166 167]\n"
     ]
    }
   ],
   "source": [
    "stress = op2.op2_results.stress\n",
    "\n",
    "# element forces/stresses/strains are by element type consistent with the F06, so...\n",
    "plate_stress = stress.cquad4_stress[1]\n",
    "#print(\"plate_stress_obj = %s\" % type(plate_stress))\n",
    "print(''.join(plate_stress.get_stats()))\n",
    "\n",
    "# the set of variables in the RealPlateStressArray\n",
    "print(\"plate_stress = %s\\n\" % plate_stress.__dict__.keys())\n",
    "\n",
    "# list of parameters that define the object (e.g. what is the nonlinear variable name\n",
    "print(\"data_code_keys = %s\\n\" % plate_stress.data_code.keys())\n",
    "\n",
    "# nonlinear variable name\n",
    "name = plate_stress.data_code['name']\n",
    "print(\"name = %r\" % plate_stress.data_code['name'])\n",
    "\n",
    "print(\"list-type variables = %s\" % plate_stress.data_code['data_names'])\n",
    "\n",
    "# the special loop parameter\n",
    "# for modal analysis, it's \"modes\"\n",
    "# for transient, it's \"times\"\n",
    "# or be lazy and use \"_times\"\n",
    "print(\"modes = %s\" % plate_stress.modes) # name + 's'\n",
    "\n",
    "\n",
    "# extra list-type parameter for modal analysis; see data_names\n",
    "#print(\"mode_cycles =\", plate_stress.mode_cycles)"
   ]
  },
  {
   "cell_type": "markdown",
   "metadata": {},
   "source": [
    "### Similar to the BDF, we can use object_attributes/methods"
   ]
  },
  {
   "cell_type": "code",
   "execution_count": 10,
   "metadata": {},
   "outputs": [
    {
     "name": "stdout",
     "output_type": "stream",
     "text": [
      "methods = ['abs_principal', 'add_modal_case', 'add_new_eid_sort1', 'add_new_eid_sort2', 'add_sort1', 'add_sort2', 'add_static_case', 'add_transient_case', 'apply_data_code', 'approach_code_str', 'build', 'build_dataframe', 'cast_grid_type', 'code_information', 'eid_to_element_node_index', 'export_to_hdf5', 'finalize', 'get_data_code', 'get_disp_temp', 'get_element_index', 'get_element_type', 'get_force_flux', 'get_headers', 'get_nnodes_bilinear', 'get_stats', 'get_table_code_name', 'get_unsteady_value', 'is_bilinear', 'is_magnitude_phase', 'is_sort1_new', 'is_thermal', 'max_shear', 'object_attributes', 'object_methods', 'object_stats', 'print_data_members', 'print_table_code', 'recast_gridtype_as_string', 'set_as_sort1', 'set_table_type', 'sort_method2', 'update_data_code', 'update_dt', 'update_t_code', 'von_mises', 'write_f06', 'write_op2']\n",
      "\n",
      "methods2= ['abs_principal', 'add_modal_case', 'add_new_eid_sort1', 'add_new_eid_sort2', 'add_sort1', 'add_sort2', 'add_static_case', 'add_transient_case', 'apply_data_code', 'approach_code_str', 'build', 'build_dataframe', 'cast_grid_type', 'code_information', 'eid_to_element_node_index', 'export_to_hdf5', 'finalize', 'get_data_code', 'get_disp_temp', 'get_element_index', 'get_element_type', 'get_force_flux', 'get_headers', 'get_nnodes_bilinear', 'get_stats', 'get_table_code_name', 'get_unsteady_value', 'is_bilinear', 'is_magnitude_phase', 'is_sort1_new', 'is_thermal', 'max_shear', 'object_stats', 'print_data_members', 'print_table_code', 'recast_gridtype_as_string', 'set_as_sort1', 'set_table_type', 'sort_method2', 'update_data_code', 'update_dt', 'update_t_code', 'von_mises', 'write_f06', 'write_op2']\n",
      "\n",
      "headers = ['fiber_distance', 'oxx', 'oyy', 'txy', 'angle', 'omax', 'omin', 'von_mises']\n",
      "\n"
     ]
    }
   ],
   "source": [
    "#print \"attributes =\", object_attributes(plate_stress)\n",
    "print(\"methods = %s\\n\" % object_methods(plate_stress))\n",
    "print('methods2= %s\\n' % plate_stress.object_methods())\n",
    "print(\"headers = %s\\n\" % plate_stress.get_headers())"
   ]
  },
  {
   "cell_type": "markdown",
   "metadata": {},
   "source": [
    "### Number of Nodes on a CQUAD4\n",
    " - For CENT, there is 1 centroidal stress at two locations \n",
    " - For BILIN, there are 5 stresses at two locations (4 nodes + centroidal)\n",
    " - node_id=0 indicates a centroidal quantity\n",
    " - CTRIA3s are always centroidal\n",
    "\n",
    "#### What sets this?\n",
    "    STRESS(real, sort1, BILIN) = ALL   # centroid + 4 corner nodes\n",
    "    STRESS(real, sort1, CENT) = ALL    # centroid\n",
    "\n",
    "    STRAIN(real, sort1, BILIN) = ALL   # centroid + 4 corner nodes\n",
    "    STRAIN(real, sort1, CENT) = ALL    # centroid\n",
    "\n",
    "#### How do we know if we're bilinear?\n",
    "```\n",
    "print(\"is_bilinear = %s\\n\" % plate_stress.is_bilinear())\n",
    "```\n",
    "\n",
    "#### What locations are chosen?\n",
    " That depends on fiber distance/fiber curvature...\n",
    " - fiber_curvature - mean stress ($\\sigma_{alt}$) & slope ($\\sigma_{mean}$)\n",
    " \n",
    "    $$ \\sigma_{top} = \\sigma_{alt} + \\frac{t}{2} \\sigma_{mean}$$\n",
    "    \n",
    "    $$ \\sigma_{btm} = \\sigma_{alt} + \\frac{t}{2} \\sigma_{mean}$$\n",
    " \n",
    " - fiber_distance - upper and lower surface stress (o_top; o_btm)\n",
    " - If you have stress, fiber_distance is always returned regardless of your option.\n",
    "\n",
    "#### What sets this?\n",
    "    STRAIN(real, sort1, FIBER) = ALL   # fiber distance/default\n",
    "    STRAIN(real, sort1, STRCUR) = ALL  # strain curvature\n",
    "\n",
    "\n",
    "#### How do we know if we're using fiber_distance?\n",
    "```\n",
    "print(\"is_fiber_distance = %s\" % plate_stress.is_fiber_distance)\n",
    "```\n",
    "\n",
    "## Accessing results\n",
    "\n",
    "#### Note that this is intentionally done iinefficiently to access specific entries in order to explain the data structure."
   ]
  },
  {
   "cell_type": "code",
   "execution_count": 11,
   "metadata": {},
   "outputs": [
    {
     "name": "stdout",
     "output_type": "stream",
     "text": [
      "element_node[:10, :] =\n",
      "[[1 0]\n",
      " [1 0]\n",
      " [2 0]\n",
      " [2 0]\n",
      " [3 0]\n",
      " [3 0]\n",
      " [4 0]\n",
      " [4 0]\n",
      " [5 0]\n",
      " [5 0]]...\n",
      "ueids = [1 2 3]\n",
      "ieids = [0 2 4]\n",
      "verify5:\n",
      "[0 1 2 3 4 5]\n",
      "we have von mises data; ovm=[54.223  5.041 13.143 ...  2.34   6.146  7.368]\n",
      "\n",
      "[layer1, layer2, ...] = [54.223  5.041 13.143 21.223 78.546 17.91 ]\n",
      "ieid1000 = [1998 1999]\n",
      "ovm_mode6_eid1000 = [90.618 94.093] -> 94.09257\n"
     ]
    }
   ],
   "source": [
    "# element forces/stresses/strains are by element type consistent\n",
    "# with the F06, so...\n",
    "\n",
    "def abs_max_min(vals):\n",
    "    absvals = list(abs(vals))\n",
    "    maxval = max(absvals)\n",
    "    i = absvals.index(maxval)\n",
    "    return vals[i]\n",
    "\n",
    "#-----------------------------\n",
    "# again, we have linear quads, so two locations per element\n",
    "print(\"element_node[:10, :] =\\n%s...\" % plate_stress.element_node[:10, :])\n",
    "\n",
    "# lets get the stress for the first 3 CQUAD4 elements\n",
    "eids = plate_stress.element_node[:, 0]\n",
    "ueids = np.unique(eids)\n",
    "print('ueids = %s' % ueids[:3])\n",
    "\n",
    "# get the first index of the first 5 elements\n",
    "ieids = np.searchsorted(eids, ueids[:3])\n",
    "print('ieids = %s' % ieids)\n",
    "\n",
    "# the easy way to slice data for linear plates\n",
    "ieids5 = np.vstack([ieids, ieids + 1]).ravel()\n",
    "ieids5.sort()\n",
    "\n",
    "print('verify5:\\n%s' % ieids5)\n",
    "\n",
    "#-----------------------------\n",
    "itime = 0 # static analysis / mode 1\n",
    "if plate_stress.is_von_mises:  # True\n",
    "    ovm = plate_stress.data[itime, :, 7]\n",
    "    print('we have von mises data; ovm=%s\\n' % ovm)\n",
    "else:\n",
    "    omax_shear = plate_stress.data[itime, :, 7]\n",
    "    print('we have max shear data; omax_shear=%s\\n' % omax_shear)\n",
    "\n",
    "\n",
    "print(\"[layer1, layer2, ...] = %s\" % ovm[ieids5])\n",
    "\n",
    "ieid1000 = np.where(eids == 1000)[0]\n",
    "print('ieid1000 = %s' % ieid1000)\n",
    "ovm_mode6_eid1000 = ovm[ieid1000]\n",
    "print(\"ovm_mode6_eid1000 = %s -> %s\" % (ovm_mode6_eid1000, abs_max_min(ovm_mode6_eid1000)))"
   ]
  },
  {
   "cell_type": "code",
   "execution_count": 12,
   "metadata": {},
   "outputs": [
    {
     "name": "stdout",
     "output_type": "stream",
     "text": [
      "ieid10 = 19\n",
      "[10  0]\n",
      "ps.modes = 6\n",
      "ps.cycles = 20.548039949617547\n",
      "oxx = 18.868874\n",
      "oyy = 20.159315\n",
      "txy = 8.309595\n",
      "omax = 27.848701\n",
      "omin = 11.179487\n",
      "ovm/max_shear = 24.273378\n",
      "fiber_distance = -0.4\n"
     ]
    }
   ],
   "source": [
    "# see the difference between \"transient\"/\"modal\"/\"frequency\"-style results\n",
    "# and \"nodal\"/\"elemental\"-style results\n",
    "# just change imode\n",
    "\n",
    "imode = 5  # mode 6; could just as easily be dt\n",
    "iele = 10  # element 10\n",
    "ilayer = 1\n",
    "\n",
    "ieid10 = np.where(eids == iele)[0][ilayer]\n",
    "print('ieid10 = %s' % ieid10)\n",
    "print(plate_stress.element_node[ieid10, :])\n",
    "\n",
    "\n",
    "# headers = [u'fiber_distance', u'oxx', u'oyy', u'txy', u'angle', u'omax', u'omin', u'von_mises']\n",
    "print(\"ps.modes = %s\" % plate_stress.modes[imode])\n",
    "print(\"ps.cycles = %s\" % plate_stress.cycles[imode])\n",
    "print(\"oxx = %s\" % plate_stress.data[imode, ieid10, 1])\n",
    "print(\"oyy = %s\" % plate_stress.data[imode, ieid10, 2])\n",
    "print(\"txy = %s\" % plate_stress.data[imode, ieid10, 3])\n",
    "print(\"omax = %s\" % plate_stress.data[imode, ieid10, 5])\n",
    "print(\"omin = %s\" % plate_stress.data[imode, ieid10, 6])\n",
    "print(\"ovm/max_shear = %s\" % plate_stress.data[imode, ieid10, 7])\n",
    "\n",
    "if plate_stress.is_fiber_distance:\n",
    "    print(\"fiber_distance = %s\" % plate_stress.data[imode, ieid10, 0])\n",
    "else:\n",
    "    print(\"curvature = %s\" % plate_stress.data[imode, ieid10, 0])"
   ]
  },
  {
   "cell_type": "code",
   "execution_count": 13,
   "metadata": {},
   "outputs": [
    {
     "data": {
      "text/html": [
       "<text style=color:orange>WARNING: shell.py:2807                PSHELL pid=1 midsurface: z1=0.4 z2=-0.4 t=0.036 not in range of -1.5t < zi < 1.5t\n",
       "</text>"
      ],
      "text/plain": [
       "<IPython.core.display.HTML object>"
      ]
     },
     "metadata": {},
     "output_type": "display_data"
    },
    {
     "data": {
      "text/html": [
       "<text style=color:orange>WARNING: shell.py:2807                PSHELL pid=2 midsurface: z1=0.4 z2=-0.4 t=0.054 not in range of -1.5t < zi < 1.5t\n",
       "</text>"
      ],
      "text/plain": [
       "<IPython.core.display.HTML object>"
      ]
     },
     "metadata": {},
     "output_type": "display_data"
    },
    {
     "data": {
      "text/html": [
       "<text style=color:orange>WARNING: shell.py:2807                PSHELL pid=3 midsurface: z1=0.4 z2=-0.4 t=0.018 not in range of -1.5t < zi < 1.5t\n",
       "</text>"
      ],
      "text/plain": [
       "<IPython.core.display.HTML object>"
      ]
     },
     "metadata": {},
     "output_type": "display_data"
    },
    {
     "data": {
      "text/html": [
       "<text style=color:orange>WARNING: shell.py:2807                PSHELL pid=7 midsurface: z1=0.418 z2=-0.418 t=0.036 not in range of -1.5t < zi < 1.5t\n",
       "</text>"
      ],
      "text/plain": [
       "<IPython.core.display.HTML object>"
      ]
     },
     "metadata": {},
     "output_type": "display_data"
    },
    {
     "data": {
      "text/html": [
       "<text style=color:orange>WARNING: shell.py:2807                PSHELL pid=34 midsurface: z1=0.194 z2=-0.194 t=0.0186 not in range of -1.5t < zi < 1.5t\n",
       "</text>"
      ],
      "text/plain": [
       "<IPython.core.display.HTML object>"
      ]
     },
     "metadata": {},
     "output_type": "display_data"
    },
    {
     "data": {
      "text/html": [
       "<text style=color:orange>WARNING: shell.py:2807                PSHELL pid=38 midsurface: z1=0.284 z2=-0.284 t=0.0186 not in range of -1.5t < zi < 1.5t\n",
       "</text>"
      ],
      "text/plain": [
       "<IPython.core.display.HTML object>"
      ]
     },
     "metadata": {},
     "output_type": "display_data"
    },
    {
     "data": {
      "text/html": [
       "<text style=color:orange>WARNING: shell.py:2807                PSHELL pid=46 midsurface: z1=0.199 z2=-0.199 t=0.0186 not in range of -1.5t < zi < 1.5t\n",
       "</text>"
      ],
      "text/plain": [
       "<IPython.core.display.HTML object>"
      ]
     },
     "metadata": {},
     "output_type": "display_data"
    },
    {
     "data": {
      "text/html": [
       "<text style=color:orange>WARNING: shell.py:2807                PSHELL pid=37 midsurface: z1=0.309 z2=-0.309 t=0.0186 not in range of -1.5t < zi < 1.5t\n",
       "</text>"
      ],
      "text/plain": [
       "<IPython.core.display.HTML object>"
      ]
     },
     "metadata": {},
     "output_type": "display_data"
    }
   ],
   "source": [
    "from pyNastran.bdf.bdf import read_bdf\n",
    "from pyNastran.bdf.mesh_utils.mass_properties import mass_properties\n",
    "bdf_filename = isat_path / 'ISat_Launch_Sm_4pt.dat'\n",
    "model = read_bdf(bdf_filename, debug=False)\n",
    "mass, cg, I = mass_properties(model)"
   ]
  },
  {
   "cell_type": "markdown",
   "metadata": {},
   "source": [
    "### Let's print out the actual mass properties from the OP2 and get the same result as the F06\n",
    "\n",
    "We need ``PARAM,POSTEXT,YES`` in out BDF to get the Grid Point Weight Table"
   ]
  },
  {
   "cell_type": "code",
   "execution_count": 14,
   "metadata": {},
   "outputs": [
    {
     "name": "stdout",
     "output_type": "stream",
     "text": [
      "GridPointWeight['']: ref_point=0 mass=1.7746; [reference_point, M0, S, mass, cg, IS, IQ, Q]\n",
      "\n",
      "M0:\n",
      " [[   1.775   -0.      -0.      -0.     -32.773    4.491]\n",
      " [  -0.       1.775    0.      32.773   -0.      -0.06 ]\n",
      " [  -0.       0.       1.775   -4.491    0.06    -0.   ]\n",
      " [  -0.      32.773   -4.491 1322.291    1.415   -1.251]\n",
      " [ -32.773   -0.       0.06     1.415 1227.076 -218.771]\n",
      " [   4.491   -0.06    -0.      -1.251 -218.771  427.228]]\n",
      "S:\n",
      " [[1. 0. 0.]\n",
      " [0. 1. 0.]\n",
      " [0. 0. 1.]]\n",
      "mass =  [1.775 1.775 1.775]\n",
      "cg:\n",
      " [[ -0.     -2.531 -18.468]\n",
      " [ -0.034  -0.    -18.468]\n",
      " [ -0.034  -2.531  -0.   ]]\n",
      "IS:\n",
      " [[705.69   -1.567   0.141]\n",
      " [ -1.567 621.837 135.836]\n",
      " [  0.141 135.836 415.862]]\n",
      "IQ:\n",
      " [689.184 348.385 705.821]\n",
      "Q:\n",
      " [[ 0.088  0.002  0.996]\n",
      " [-0.892 -0.445  0.08 ]\n",
      " [ 0.443 -0.896 -0.038]]\n"
     ]
    }
   ],
   "source": [
    "gpw = op2.grid_point_weight\n",
    "#print(gpw)\n",
    "if gpw:\n",
    "    gpwi = gpw['']\n",
    "    #print(gpw.object_attributes())\n",
    "    #print(gpwi)\n",
    "    gpwi.object_methods()\n",
    "    #print(gpwi.object_attributes())\n",
    "    #gpw.write_f06?\n",
    "    print(gpwi.get_stats())\n",
    "    print('M0:\\n', gpwi.MO)\n",
    "    print('S:\\n', gpwi.S)\n",
    "    print('mass = ', gpwi.mass)\n",
    "    print('cg:\\n', gpwi.cg)\n",
    "    print('IS:\\n', gpwi.IS)\n",
    "    print('IQ:\\n', gpwi.IQ)\n",
    "    print('Q:\\n', gpwi.Q)"
   ]
  },
  {
   "cell_type": "markdown",
   "metadata": {},
   "source": [
    "#### We can also write the full ``F06``"
   ]
  },
  {
   "cell_type": "code",
   "execution_count": 15,
   "metadata": {},
   "outputs": [
    {
     "name": "stdout",
     "output_type": "stream",
     "text": [
      "                           O U T P U T   F R O M   G R I D   P O I N T   W E I G H T   G E N E R A T O R\n",
      "0                                                     REFERENCE POINT =        0\n",
      "                                                                M O\n",
      "                      *  1.774604E+00 -2.303930E-19 -5.452775E-20 -1.068744E-17 -3.277277E+01  4.490806E+00 *\n",
      "                      * -2.303930E-19  1.774604E+00  1.829591E-19  3.277277E+01 -1.803164E-17 -6.007288E-02 *\n",
      "                      * -5.452775E-20  1.829591E-19  1.774604E+00 -4.490806E+00  6.007288E-02 -1.164670E-19 *\n",
      "                      * -1.068744E-17  3.277277E+01 -4.490806E+00  1.322291E+03  1.414705E+00 -1.250593E+00 *\n",
      "                      * -3.277277E+01 -1.803164E-17  6.007288E-02  1.414705E+00  1.227076E+03 -2.187709E+02 *\n",
      "                      *  4.490806E+00 -6.007288E-02 -1.164670E-19 -1.250593E+00 -2.187709E+02  4.272284E+02 *\n",
      "                                                                 S\n",
      "                                           *  1.000000E+00  0.000000E+00  0.000000E+00 *\n",
      "                                           *  0.000000E+00  1.000000E+00  0.000000E+00 *\n",
      "                                           *  0.000000E+00  0.000000E+00  1.000000E+00 *\n",
      "                               DIRECTION\n",
      "                          MASS AXIS SYSTEM (S)     MASS              X-C.G.        Y-C.G.        Z-C.G.\n",
      "                                  X            1.774604E+00     -6.022436E-18 -2.530596E+00 -1.846765E+01\n",
      "                                  Y            1.774604E+00     -3.385143E-02 -1.016094E-17 -1.846765E+01\n",
      "                                  Z            1.774604E+00     -3.385143E-02 -2.530596E+00 -6.562987E-20\n",
      "                                                                I(S)\n",
      "                                           *  7.056902E+02 -1.566725E+00  1.411882E-01 *\n",
      "                                           * -1.566725E+00  6.218375E+02  1.358363E+02 *\n",
      "                                           *  1.411882E-01  1.358363E+02  4.158619E+02 *\n",
      "                                                                I(Q)\n",
      "                                           *  6.891835E+02                             *\n",
      "                                           *                3.483848E+02               *\n",
      "                                           *                              7.058213E+02 *\n",
      "                                                                 Q\n",
      "                                           *  8.846130E-02  1.596867E-03  9.960783E-01 *\n",
      "                                           * -8.920127E-01 -4.448868E-01  7.993249E-02 *\n",
      "                                           *  4.432697E-01 -8.955854E-01 -3.793084E-02 *\n",
      "\n",
      "1    ISAT_SM_LAUNCH_4PT MODES TO 400 HZ                                    JULY      16, 2020  pyNastran v1.5.0       PAGE     1\n",
      "\n",
      "     DEFAULT                                                                                                                        \n",
      "\n",
      "                                              R E A L   E I G E N V A L U E S\n",
      "                                             ISAT_SM_LAUNCH_4PT MODES TO 400 HZ\n",
      "   MODE    EXTRACTION      EIGENVALUE            RADIANS             CYCLES            GENERALIZED         GENERALIZED\n",
      "    NO.       ORDER                                                                       MASS              STIFFNESS\n",
      "        1         1        2.757980E+03        5.251648E+01        8.358257E+00        1.000000E+00        2.757980E+03\n"
     ]
    }
   ],
   "source": [
    "import getpass\n",
    "name = getpass.getuser()\n",
    "desktop = os.path.join(r'C:\\Users', name, 'Desktop')\n",
    "try:\n",
    "    os.chdir(desktop)\n",
    "except:\n",
    "    pass\n",
    "\n",
    "# write the F06 with Real/Imaginary or Magnitude/Phase\n",
    "# only matters for complex results\n",
    "op2.write_f06('isat.f06', is_mag_phase=False)\n",
    "\n",
    "!head -n 40 isat.f06"
   ]
  },
  {
   "cell_type": "code",
   "execution_count": 16,
   "metadata": {},
   "outputs": [],
   "source": [
    "#from IPython.display import display, Math, Latex"
   ]
  },
  {
   "cell_type": "markdown",
   "metadata": {},
   "source": [
    "The mass results are different as pyNastran's mass assumes point masses\n",
    "   $$m_{plates} = A (\\rho t + nsm)$$\n",
    "   $$m_{solid} = V \\rho$$\n",
    "   $$m_{bars} = L (\\rho A + nsm)$$\n",
    "   $$I = m r^2$$\n",
    "\n",
    "The larger your model is and the further from the origin, the more accurate the result.\n",
    "For some applications (e.g. a weight breakdown), this is fine. It's also the same way FEMAP does it."
   ]
  },
  {
   "cell_type": "code",
   "execution_count": 17,
   "metadata": {},
   "outputs": [
    {
     "name": "stdout",
     "output_type": "stream",
     "text": [
      "cg =\n",
      "[[ -0.     -2.531 -18.468]\n",
      " [ -0.034  -0.    -18.468]\n",
      " [ -0.034  -2.531  -0.   ]]\n",
      "cg = [ -0.034  -2.531 -18.468]\n"
     ]
    }
   ],
   "source": [
    "print('cg =\\n%s' % gpw[''].cg)\n",
    "print('cg = %s' % cg)"
   ]
  },
  {
   "cell_type": "markdown",
   "metadata": {},
   "source": [
    "## It's not like Nastran is perfect either.\n",
    "\n",
    "### Common Limitations\n",
    "\n",
    "1.  A CROD/CBAR/CBEAM does not consider mass that is not in line with the element (e.g., a circular cross section in line with the x-axis will capture ``Ixx = m*r^2``.\n",
    "\n",
    "### Nastran Limitations\n",
    "\n",
    "1.  You cannot do weight statements in Nastran by component/property/material.\n",
    "\n",
    "2.  Everything is always summmed up (e.g. you can have different geometry in Subcase 2 and MPCs connecting physical geometry, with other parts flying off into space).\n",
    "\n",
    "These are things that pyNastran ``can`` do."
   ]
  },
  {
   "cell_type": "code",
   "execution_count": 18,
   "metadata": {},
   "outputs": [
    {
     "data": {
      "text/html": [
       "<text style=color:orange>WARNING: shell.py:2807                PSHELL pid=1 midsurface: z1=0.4 z2=-0.4 t=0.036 not in range of -1.5t < zi < 1.5t\n",
       "</text>"
      ],
      "text/plain": [
       "<IPython.core.display.HTML object>"
      ]
     },
     "metadata": {},
     "output_type": "display_data"
    },
    {
     "data": {
      "text/html": [
       "<text style=color:orange>WARNING: shell.py:2807                PSHELL pid=2 midsurface: z1=0.4 z2=-0.4 t=0.054 not in range of -1.5t < zi < 1.5t\n",
       "</text>"
      ],
      "text/plain": [
       "<IPython.core.display.HTML object>"
      ]
     },
     "metadata": {},
     "output_type": "display_data"
    },
    {
     "data": {
      "text/html": [
       "<text style=color:orange>WARNING: shell.py:2807                PSHELL pid=3 midsurface: z1=0.4 z2=-0.4 t=0.018 not in range of -1.5t < zi < 1.5t\n",
       "</text>"
      ],
      "text/plain": [
       "<IPython.core.display.HTML object>"
      ]
     },
     "metadata": {},
     "output_type": "display_data"
    },
    {
     "data": {
      "text/html": [
       "<text style=color:orange>WARNING: shell.py:2807                PSHELL pid=7 midsurface: z1=0.418 z2=-0.418 t=0.036 not in range of -1.5t < zi < 1.5t\n",
       "</text>"
      ],
      "text/plain": [
       "<IPython.core.display.HTML object>"
      ]
     },
     "metadata": {},
     "output_type": "display_data"
    },
    {
     "data": {
      "text/html": [
       "<text style=color:orange>WARNING: shell.py:2807                PSHELL pid=34 midsurface: z1=0.194 z2=-0.194 t=0.0186 not in range of -1.5t < zi < 1.5t\n",
       "</text>"
      ],
      "text/plain": [
       "<IPython.core.display.HTML object>"
      ]
     },
     "metadata": {},
     "output_type": "display_data"
    },
    {
     "data": {
      "text/html": [
       "<text style=color:orange>WARNING: shell.py:2807                PSHELL pid=38 midsurface: z1=0.284 z2=-0.284 t=0.0186 not in range of -1.5t < zi < 1.5t\n",
       "</text>"
      ],
      "text/plain": [
       "<IPython.core.display.HTML object>"
      ]
     },
     "metadata": {},
     "output_type": "display_data"
    },
    {
     "data": {
      "text/html": [
       "<text style=color:orange>WARNING: shell.py:2807                PSHELL pid=46 midsurface: z1=0.199 z2=-0.199 t=0.0186 not in range of -1.5t < zi < 1.5t\n",
       "</text>"
      ],
      "text/plain": [
       "<IPython.core.display.HTML object>"
      ]
     },
     "metadata": {},
     "output_type": "display_data"
    },
    {
     "data": {
      "text/html": [
       "<text style=color:orange>WARNING: shell.py:2807                PSHELL pid=37 midsurface: z1=0.309 z2=-0.309 t=0.0186 not in range of -1.5t < zi < 1.5t\n",
       "</text>"
      ],
      "text/plain": [
       "<IPython.core.display.HTML object>"
      ]
     },
     "metadata": {},
     "output_type": "display_data"
    }
   ],
   "source": [
    "from pyNastran.bdf.bdf import read_bdf\n",
    "bdf_filename = isat_path / 'ISat_Launch_Sm_4pt.dat'\n",
    "model = read_bdf(bdf_filename, debug=False)"
   ]
  },
  {
   "cell_type": "markdown",
   "metadata": {},
   "source": [
    "### Weight Statement\n",
    "\n",
    "Let's get the breakdown by property ID"
   ]
  },
  {
   "cell_type": "code",
   "execution_count": 19,
   "metadata": {},
   "outputs": [
    {
     "name": "stdout",
     "output_type": "stream",
     "text": [
      "pid,      mass, cg,                          [ixx, iyy, izz, ixy, ixz, iyz]\n",
      "1      0.027278 [  0.   0. -20.]             [3.699 6.553 4.384 0.    0.    0.   ]\n",
      "2      0.047993 [ -0.   0. -20.]             [18.033 18.033 12.454 -0.    -0.     0.   ]\n",
      "3      0.020998 [  0.  -0. -20.]             [5.881 3.907 5.27  0.    0.    0.   ]\n",
      "4      0.012216 [  0.043   0.438 -19.702]    [2.346 3.23  2.019 0.01  0.005 0.052]\n",
      "5      0.330158 [  0.    2.2 -20. ]          [63.317 28.366 41.752  0.     0.     0.   ]\n",
      "7      0.027813 [  0.  -0. -20.]             [ 8.141  8.141  9.438 -0.    -0.    -0.   ]\n",
      "8      0.081584 [  0.   0. -20.]             [15.087 15.087 30.174 -0.     0.     0.   ]\n",
      "9      0.077642 [  0.   0. -20.]             [17.017 17.017 18.911 -0.    -0.     0.   ]\n",
      "10     0.000236 [  0.  -0. -20.]             [ 0.035  0.035  0.057 -0.    -0.    -0.   ]\n",
      "11     0.041700 [ -1.025  23.773 -12.016]    [ 0.666  0.988  0.348 -0.037  0.263 -0.056]\n",
      "12     0.000457 [ 0.    -5.92  20.506]       [0.013 0.013 0.    0.    0.    0.001]\n",
      "13     0.003885 [ 0.    -6.949  9.892]       [ 0.002  0.     0.002  0.     0.    -0.   ]\n",
      "14     0.000353 [-0.     0.    14.391]       [ 0.003  0.012  0.009  0.    -0.     0.   ]\n",
      "15     0.003626 [0.    0.    7.867]          [ 0.     0.092  0.091  0.    -0.     0.   ]\n",
      "16     0.000000 [0. 0. 0.]                   [0. 0. 0. 0. 0. 0.]\n",
      "19     0.017749 [ -0.23    6.021 -35.642]    [ 1.77   4.395  5.817 -0.053  0.005 -0.145]\n",
      "20     0.163082 [  0.      0.    -18.545]    [ 9.01 34.77 25.76  0.    0.    0.  ]\n",
      "21     0.003625 [ -0.  -0. -20.]             [ 0.728  0.728  1.41  -0.    -0.    -0.   ]\n",
      "22     0.000000 [0. 0. 0.]                   [0. 0. 0. 0. 0. 0.]\n",
      "23     0.000000 [0. 0. 0.]                   [0. 0. 0. 0. 0. 0.]\n",
      "33     0.001346 [-0.    -2.175  0.369]       [ 0.077  0.085  0.162  0.    -0.    -0.001]\n",
      "34     0.003561 [-0.    -0.    14.833]       [ 0.271  0.271  0.067 -0.    -0.    -0.   ]\n",
      "35     0.000000 [0. 0. 0.]                   [0. 0. 0. 0. 0. 0.]\n",
      "36     0.007197 [  0.      0.    -14.783]    [ 0.835  3.605  3.02   0.     0.    -0.   ]\n",
      "37     0.094566 [ -0.      0.    -19.499]    [ 8.975 52.72  46.49   0.    -0.     0.   ]\n",
      "38     0.007602 [ 0.    -9.329 27.311]       [0.681 1.214 0.562 0.    0.    0.07 ]\n",
      "39     0.002433 [ 0.    -8.954  4.04 ]       [ 0.022  0.045  0.024  0.    -0.    -0.003]\n",
      "41     0.000735 [-0.    -0.     2.193]       [ 0.009  0.057  0.062  0.     0.    -0.   ]\n",
      "42     0.008854 [ -1.554  20.121 -19.007]    [ 1.166  1.459  0.293 -0.001  0.056  0.   ]\n",
      "43     0.012241 [  0.      0.    -19.499]    [2.228 7.588 6.32  0.    0.    0.   ]\n",
      "46     0.003671 [ 0.    0.   15.28]          [ 0.178  0.348  0.335  0.    -0.     0.   ]\n",
      "60     0.000000 [0. 0. 0.]                   [0. 0. 0. 0. 0. 0.]\n",
      "61     0.000000 [0. 0. 0.]                   [0. 0. 0. 0. 0. 0.]\n",
      "mass   0.772000 [  0.     -8.256 -18.238]              [392.813 338.699 118.704  -0.     -0.    138.698]\n"
     ]
    }
   ],
   "source": [
    "#help(model.mass_properties)\n",
    "\n",
    "pid_to_eids_map = model.get_element_ids_dict_with_pids()\n",
    "#print(pid_to_eids_map.keys())\n",
    "print('pid,      mass, cg,                          [ixx, iyy, izz, ixy, ixz, iyz]')\n",
    "for pid, eids in sorted(pid_to_eids_map.items()):\n",
    "    mass, cg, inertia = mass_properties(model, element_ids=eids, mass_ids=[], reference_point=[0., 0., 0.])\n",
    "    print('%-6s %-.6f %-28s %s' % (pid, mass, cg, inertia))\n",
    "\n",
    "mass_ids = list(model.masses.keys())\n",
    "mass, cg, inertia = mass_properties(model, element_ids=[], mass_ids=mass_ids, reference_point=[0., 0., 0.])\n",
    "print('%-6s %-.6f %-38s %s' % ('mass', mass, cg, inertia))"
   ]
  },
  {
   "cell_type": "code",
   "execution_count": null,
   "metadata": {},
   "outputs": [],
   "source": []
  }
 ],
 "metadata": {
  "kernelspec": {
   "display_name": "Python 3 (ipykernel)",
   "language": "python",
   "name": "python3"
  },
  "language_info": {
   "codemirror_mode": {
    "name": "ipython",
    "version": 3
   },
   "file_extension": ".py",
   "mimetype": "text/x-python",
   "name": "python",
   "nbconvert_exporter": "python",
   "pygments_lexer": "ipython3",
   "version": "3.12.2"
  }
 },
 "nbformat": 4,
 "nbformat_minor": 4
}
