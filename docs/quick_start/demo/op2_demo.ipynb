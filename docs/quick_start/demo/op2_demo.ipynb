{
 "cells": [
  {
   "cell_type": "markdown",
   "metadata": {},
   "source": [
    "# OP2 Introduction\n",
    "\n",
    "The Jupyter notebook for this demo can be found in:\n",
    "   - docs/quick_start/demo/op2_demo.ipynb\n",
    "   - https://github.com/SteveDoyle2/pyNastran/tree/master/docs/quick_start/demo/op2_demo.ipynb\n",
    "\n",
    "\n",
    "## Why use the OP2?  Why not use the F06/PCH file?\n",
    "Most people are comfortable with the F06.  However, it's:\n",
    " - Ironically, a lot harder to parse.  The OP2 is very structured.\n",
    " - Much, much, much slower.  We can read entire blocks of arrays with a single call.  The data is already typed.\n",
    " - Much, much more memory inefficient because we aren't appending strings onto lists and turning that into a numpy array.\n",
    "\n",
    "F06 parsers get ridiculously hard when you start do complicated results, like:\n",
    " - single subcase buckling\n",
    " - superelements\n",
    " - SOL 200 optimization with sub-optimization\n",
    " - SPOINTs\n",
    "\n",
    "The pyNastran OP2 Reader is fast, highly validated, and it supports most result types.  The data in the OP2 is also more accurate because there is no rounding.\n",
    "\n",
    "## Validating an OP2\n",
    "\n",
    "The ```test_op2``` script is created when you run ```python setup.py develop``` or ```python setup.py install``` on pyNastran.  Assuming it's on your path (it'll be in Python27\\Scripts or something similar), you can run:\n",
    "\n",
    "```\n",
    ">>> test_op2 -f solid_bending.op2\n",
    "```\n",
    "The ```-f``` tells us to print out ```solid_bending.test_op2.f06```, which can be compared to your F06 for a small file to build confidence in the reader.  It's also useful when you want an F06 of your model without rerunning Nastran just to see what's in it.\n",
    "\n",
    "If you have a large model, you can make ```test_op2``` run much, much faster.  The ```-c``` flag disables double-reading of the OP2.  By default, ```test_op2``` uses two different read methods (the old method and new method) to ensure that results are read in properly.  When running the code, this is turned off, but is turned on for ```test_op2```.\n",
    "```\n",
    ">>> test_op2 -fc solid_bending.op2\n",
    "```\n",
    "\n",
    "## Import the packages"
   ]
  },
  {
   "cell_type": "code",
   "execution_count": null,
   "metadata": {},
   "outputs": [],
   "source": [
    "import os\n",
    "import copy\n",
    "import numpy as np\n",
    "np.set_printoptions(precision=2, threshold=20, suppress=True)\n",
    "\n",
    "import pyNastran\n",
    "pkg_path = pyNastran.__path__[0]\n",
    "#pkg_path = r'C:\\Users\\sdoyle\\Desktop\\demo\\pyNastran\\pyNastran'\n",
    "\n",
    "from pyNastran.utils import print_bad_path\n",
    "from pyNastran.op2.op2 import read_op2\n",
    "from pyNastran.utils import object_methods, object_attributes\n",
    "from pyNastran.utils.nastran_utils import run_nastran\n",
    "\n",
    "import pandas as pd"
   ]
  },
  {
   "cell_type": "markdown",
   "metadata": {},
   "source": [
    "### Sets default precision of real numbers for pandas output\n"
   ]
  },
  {
   "cell_type": "code",
   "execution_count": null,
   "metadata": {},
   "outputs": [],
   "source": [
    "pd.set_option('display.precision', 3)\n",
    "np.set_printoptions(precision=3, threshold=20)"
   ]
  },
  {
   "cell_type": "markdown",
   "metadata": {},
   "source": [
    "As with the BDF, we can use the long form and the short form.  However, the long form for the ``OP2`` doesn't really add anything.  So, let's just use the short form.\n",
    "\n",
    "In addition to the default numpy support, there is also **```pandas```** dataframe support."
   ]
  },
  {
   "cell_type": "code",
   "execution_count": null,
   "metadata": {},
   "outputs": [],
   "source": [
    "#op2_filename = r'D:\\work\\pynastran_0.8.0\\models\\iSat\\ISat_Launch_Sm_Rgd.op2'\n",
    "#op2_filename = r'D:\\work\\pynastran_0.8.0\\models\\iSat\\ISat_Launch_Sm_4pt.op2'\n",
    "bdf_filename = os.path.abspath(os.path.join(pkg_path, '..', 'models', 'iSat', 'ISat_Launch_Sm_4pt.dat'))\n",
    "op2_filename = os.path.abspath(os.path.join(pkg_path, '..', 'models', 'iSat', 'ISat_Launch_Sm_4pt.op2'))\n",
    "\n",
    "if 1:\n",
    "    from pyNastran.bdf.bdf import read_bdf\n",
    "    op2_filename = os.path.abspath(os.path.join(pkg_path, '..', 'models', 'iSat', 'ISat_Launch_Sm_4pt2.op2'))\n",
    "    model = read_bdf(bdf_filename, debug=None)\n",
    "    model.set_param('POSTEXT', 'YES')\n",
    "    model.set_param('POST', -2)\n",
    "    bdf_filename = os.path.abspath(os.path.join(pkg_path, '..', 'models', 'iSat', 'ISat_Launch_Sm_4pt2.bdf'))\n",
    "    model.write_bdf(bdf_filename)\n",
    "\n",
    "#if not os.path.exists(op2_filename):\n",
    "#    run_nastran(bdf_filename)\n",
    "assert os.path.exists(op2_filename), print_bad_path(op2_filename)\n",
    "\n",
    "# define the input file with a file path\n",
    "op2 = read_op2(op2_filename, build_dataframe=True, debug=False)"
   ]
  },
  {
   "cell_type": "markdown",
   "metadata": {},
   "source": [
    "## OP2 Introspection\n",
    "The ```get_op2_stats()``` function lets you quickly understand what in an op2."
   ]
  },
  {
   "cell_type": "code",
   "execution_count": null,
   "metadata": {},
   "outputs": [],
   "source": [
    "print(op2.get_op2_stats())"
   ]
  },
  {
   "cell_type": "markdown",
   "metadata": {},
   "source": [
    "### If that's too long..."
   ]
  },
  {
   "cell_type": "code",
   "execution_count": null,
   "metadata": {},
   "outputs": [],
   "source": [
    "print(op2.get_op2_stats(short=True))"
   ]
  },
  {
   "cell_type": "markdown",
   "metadata": {},
   "source": [
    "## Accessing the Eigenvectors object\n",
    "\n",
    "Eigenvectors are the simplest object.  They use the same class as for displacements, velocity, acceleration, SPC Forces, MPC Forces, Applied Loads, etc.  These are all node-based tables with TX, TY, TZ, RX, RY, RZ.  Results are in the analysis coordinate frame (CD), which is defined by the GRID card.\n",
    "\n",
    "### Numpy-based Approach\n",
    "We'll first show off the standard ```numpy``` based results on a transient case.  Static results are the same, except that you'll always use the 0th index for the \"time\" index.\n",
    "\n",
    "The tutorial is intetionally just accessing the objects in a very clear, though inefficient way.  The OP2 objects can take full advantage of the numpy operations."
   ]
  },
  {
   "cell_type": "code",
   "execution_count": null,
   "metadata": {},
   "outputs": [],
   "source": [
    "# what modes did we analyze:  1 to 167\n",
    "eigenvector_keys = list(op2.eigenvectors.keys())\n",
    "print(\"loadcases = %s\" % eigenvector_keys)\n",
    "\n",
    "# get subcase 1\n",
    "eig1 = op2.eigenvectors[1]\n",
    "\n",
    "modes = eig1.modes\n",
    "times = eig1._times #  the generic version of modes\n",
    "print(\"modes = %s\\n\" % modes)\n",
    "print(\"times = %s\\n\" % times)\n",
    "\n",
    "imode2 = 1 # corresponds to mode 2\n",
    "mode2 = eig1.data[imode2, :, :]\n",
    "\n",
    "print('first 10 nodes and grid types\\nNid Gridtype\\n%s' % eig1.node_gridtype[:10, :])\n",
    "node_ids = eig1.node_gridtype[:, 0]\n",
    "\n",
    "index_node10 = np.where(node_ids == 10)[0]  # we add the [0] because it's 1d\n",
    "mode2_node10 = mode2[index_node10]\n",
    "print(\"translation mode2_node10 = %s\" % eig1.data[imode2, index_node10, :3].ravel())\n",
    "print(\"rotations mode2_node10 = %s\" % eig1.data[imode2, index_node10, 3:].ravel())"
   ]
  },
  {
   "cell_type": "markdown",
   "metadata": {},
   "source": [
    "### Pandas-based Approach\n",
    "\n",
    "If you like pandas, you can access all the OP2 objects, which is very useful within the Jupyter Notebook.  Different objects will look differently, but you can change the layout.\n",
    "\n",
    "If you're trying to learn pandas, there are many tutorials online, such as:\n",
    "http://pandas.pydata.org/pandas-docs/stable/10min.html\n",
    "\n",
    "or a very long, but good video:"
   ]
  },
  {
   "cell_type": "code",
   "execution_count": null,
   "metadata": {},
   "outputs": [],
   "source": [
    "# get subcase 1\n",
    "eig1 = op2.eigenvectors[1]\n",
    "\n",
    "eig1.data_frame"
   ]
  },
  {
   "cell_type": "code",
   "execution_count": null,
   "metadata": {},
   "outputs": [],
   "source": [
    "phi = eig1.get_phi()\n",
    "print(f'phi.shape = {phi.shape}')\n",
    "print(phi)"
   ]
  },
  {
   "cell_type": "markdown",
   "metadata": {},
   "source": [
    "## Accessing the plate stress/strain\n",
    "Results are stored on a per element type basis.\n",
    "\n",
    "The OP2 is the same as an F06, so CQUAD4 elements have centroidal-based results or centroidal-based as well as the results at the 4 corner nodes.\n",
    "\n",
    "Be careful about what you're accessing."
   ]
  },
  {
   "cell_type": "code",
   "execution_count": null,
   "metadata": {},
   "outputs": [],
   "source": [
    "stress = op2.op2_results.stress\n",
    "\n",
    "# element forces/stresses/strains are by element type consistent with the F06, so...\n",
    "plate_stress = stress.cquad4_stress[1]\n",
    "#print(\"plate_stress_obj = %s\" % type(plate_stress))\n",
    "print(''.join(plate_stress.get_stats()))\n",
    "\n",
    "# the set of variables in the RealPlateStressArray\n",
    "print(\"plate_stress = %s\\n\" % plate_stress.__dict__.keys())\n",
    "\n",
    "# list of parameters that define the object (e.g. what is the nonlinear variable name\n",
    "print(\"data_code_keys = %s\\n\" % plate_stress.data_code.keys())\n",
    "\n",
    "# nonlinear variable name\n",
    "name = plate_stress.data_code['name']\n",
    "print(\"name = %r\" % plate_stress.data_code['name'])\n",
    "\n",
    "print(\"list-type variables = %s\" % plate_stress.data_code['data_names'])\n",
    "\n",
    "# the special loop parameter\n",
    "# for modal analysis, it's \"modes\"\n",
    "# for transient, it's \"times\"\n",
    "# or be lazy and use \"_times\"\n",
    "print(\"modes = %s\" % plate_stress.modes) # name + 's'\n",
    "\n",
    "\n",
    "# extra list-type parameter for modal analysis; see data_names\n",
    "#print(\"mode_cycles =\", plate_stress.mode_cycles)"
   ]
  },
  {
   "cell_type": "markdown",
   "metadata": {},
   "source": [
    "### Similar to the BDF, we can use object_attributes/methods"
   ]
  },
  {
   "cell_type": "code",
   "execution_count": null,
   "metadata": {},
   "outputs": [],
   "source": [
    "#print \"attributes =\", object_attributes(plate_stress)\n",
    "print(\"methods = %s\\n\" % object_methods(plate_stress))\n",
    "print('methods2= %s\\n' % plate_stress.object_methods())\n",
    "print(\"headers = %s\\n\" % plate_stress.get_headers())"
   ]
  },
  {
   "cell_type": "markdown",
   "metadata": {},
   "source": [
    "### Number of Nodes on a CQUAD4\n",
    " - For CENT, there is 1 centroidal stress at two locations \n",
    " - For BILIN, there are 5 stresses at two locations (4 nodes + centroidal)\n",
    " - node_id=0 indicates a centroidal quantity\n",
    " - CTRIA3s are always centroidal\n",
    "\n",
    "#### What sets this?\n",
    "    STRESS(real, sort1, BILIN) = ALL   # centroid + 4 corner nodes\n",
    "    STRESS(real, sort1, CENT) = ALL    # centroid\n",
    "\n",
    "    STRAIN(real, sort1, BILIN) = ALL   # centroid + 4 corner nodes\n",
    "    STRAIN(real, sort1, CENT) = ALL    # centroid\n",
    "\n",
    "#### How do we know if we're bilinear?\n",
    "```\n",
    "print(\"is_bilinear = %s\\n\" % plate_stress.is_bilinear())\n",
    "```\n",
    "\n",
    "#### What locations are chosen?\n",
    " That depends on fiber distance/fiber curvature...\n",
    " - fiber_curvature - mean stress ($\\sigma_{alt}$) & slope ($\\sigma_{mean}$)\n",
    " \n",
    "    $$ \\sigma_{top} = \\sigma_{alt} + \\frac{t}{2} \\sigma_{mean}$$\n",
    "    \n",
    "    $$ \\sigma_{btm} = \\sigma_{alt} + \\frac{t}{2} \\sigma_{mean}$$\n",
    " \n",
    " - fiber_distance - upper and lower surface stress (o_top; o_btm)\n",
    " - If you have stress, fiber_distance is always returned regardless of your option.\n",
    "\n",
    "#### What sets this?\n",
    "    STRAIN(real, sort1, FIBER) = ALL   # fiber distance/default\n",
    "    STRAIN(real, sort1, STRCUR) = ALL  # strain curvature\n",
    "\n",
    "\n",
    "#### How do we know if we're using fiber_distance?\n",
    "```\n",
    "print(\"is_fiber_distance = %s\" % plate_stress.is_fiber_distance)\n",
    "```\n",
    "\n",
    "## Accessing results\n",
    "\n",
    "#### Note that this is intentionally done iinefficiently to access specific entries in order to explain the data structure."
   ]
  },
  {
   "cell_type": "code",
   "execution_count": null,
   "metadata": {},
   "outputs": [],
   "source": [
    "# element forces/stresses/strains are by element type consistent\n",
    "# with the F06, so...\n",
    "\n",
    "def abs_max_min(vals):\n",
    "    absvals = list(abs(vals))\n",
    "    maxval = max(absvals)\n",
    "    i = absvals.index(maxval)\n",
    "    return vals[i]\n",
    "\n",
    "#-----------------------------\n",
    "# again, we have linear quads, so two locations per element\n",
    "print(\"element_node[:10, :] =\\n%s...\" % plate_stress.element_node[:10, :])\n",
    "\n",
    "# lets get the stress for the first 3 CQUAD4 elements\n",
    "eids = plate_stress.element_node[:, 0]\n",
    "ueids = np.unique(eids)\n",
    "print('ueids = %s' % ueids[:3])\n",
    "\n",
    "# get the first index of the first 5 elements\n",
    "ieids = np.searchsorted(eids, ueids[:3])\n",
    "print('ieids = %s' % ieids)\n",
    "\n",
    "# the easy way to slice data for linear plates\n",
    "ieids5 = np.vstack([ieids, ieids + 1]).ravel()\n",
    "ieids5.sort()\n",
    "\n",
    "print('verify5:\\n%s' % ieids5)\n",
    "\n",
    "#-----------------------------\n",
    "itime = 0 # static analysis / mode 1\n",
    "if plate_stress.is_von_mises:  # True\n",
    "    ovm = plate_stress.data[itime, :, 7]\n",
    "    print('we have von mises data; ovm=%s\\n' % ovm)\n",
    "else:\n",
    "    omax_shear = plate_stress.data[itime, :, 7]\n",
    "    print('we have max shear data; omax_shear=%s\\n' % omax_shear)\n",
    "\n",
    "\n",
    "print(\"[layer1, layer2, ...] = %s\" % ovm[ieids5])\n",
    "\n",
    "ieid1000 = np.where(eids == 1000)[0]\n",
    "print('ieid1000 = %s' % ieid1000)\n",
    "ovm_mode6_eid1000 = ovm[ieid1000]\n",
    "print(\"ovm_mode6_eid1000 = %s -> %s\" % (ovm_mode6_eid1000, abs_max_min(ovm_mode6_eid1000)))"
   ]
  },
  {
   "cell_type": "code",
   "execution_count": null,
   "metadata": {},
   "outputs": [],
   "source": [
    "# see the difference between \"transient\"/\"modal\"/\"frequency\"-style results\n",
    "# and \"nodal\"/\"elemental\"-style results\n",
    "# just change imode\n",
    "\n",
    "imode = 5  # mode 6; could just as easily be dt\n",
    "iele = 10  # element 10\n",
    "ilayer = 1\n",
    "\n",
    "ieid10 = np.where(eids == iele)[0][ilayer]\n",
    "print('ieid10 = %s' % ieid10)\n",
    "print(plate_stress.element_node[ieid10, :])\n",
    "\n",
    "\n",
    "# headers = [u'fiber_distance', u'oxx', u'oyy', u'txy', u'angle', u'omax', u'omin', u'von_mises']\n",
    "print(\"ps.modes = %s\" % plate_stress.modes[imode])\n",
    "print(\"ps.cycles = %s\" % plate_stress.cycles[imode])\n",
    "print(\"oxx = %s\" % plate_stress.data[imode, ieid10, 1])\n",
    "print(\"oyy = %s\" % plate_stress.data[imode, ieid10, 2])\n",
    "print(\"txy = %s\" % plate_stress.data[imode, ieid10, 3])\n",
    "print(\"omax = %s\" % plate_stress.data[imode, ieid10, 5])\n",
    "print(\"omin = %s\" % plate_stress.data[imode, ieid10, 6])\n",
    "print(\"ovm/max_shear = %s\" % plate_stress.data[imode, ieid10, 7])\n",
    "\n",
    "if plate_stress.is_fiber_distance:\n",
    "    print(\"fiber_distance = %s\" % plate_stress.data[imode, ieid10, 0])\n",
    "else:\n",
    "    print(\"curvature = %s\" % plate_stress.data[imode, ieid10, 0])"
   ]
  },
  {
   "cell_type": "code",
   "execution_count": null,
   "metadata": {},
   "outputs": [],
   "source": [
    "from pyNastran.bdf.bdf import read_bdf\n",
    "from pyNastran.bdf.mesh_utils.mass_properties import mass_properties\n",
    "bdf_filename = os.path.abspath(os.path.join(pkg_path, '..', 'models', 'iSat', 'ISat_Launch_Sm_4pt.dat'))\n",
    "model = read_bdf(bdf_filename, debug=False)\n",
    "mass, cg, I = mass_properties(model)"
   ]
  },
  {
   "cell_type": "markdown",
   "metadata": {},
   "source": [
    "### Let's print out the actual mass properties from the OP2 and get the same result as the F06\n",
    "\n",
    "We need ``PARAM,POSTEXT,YES`` in out BDF to get the Grid Point Weight Table"
   ]
  },
  {
   "cell_type": "code",
   "execution_count": null,
   "metadata": {},
   "outputs": [],
   "source": [
    "gpw = op2.grid_point_weight\n",
    "#print(gpw)\n",
    "if gpw:\n",
    "    gpwi = gpw['']\n",
    "    #print(gpw.object_attributes())\n",
    "    #print(gpwi)\n",
    "    gpwi.object_methods()\n",
    "    #print(gpwi.object_attributes())\n",
    "    #gpw.write_f06?\n",
    "    print(gpwi.get_stats())\n",
    "    print('M0:\\n', gpwi.MO)\n",
    "    print('S:\\n', gpwi.S)\n",
    "    print('mass = ', gpwi.mass)\n",
    "    print('cg:\\n', gpwi.cg)\n",
    "    print('IS:\\n', gpwi.IS)\n",
    "    print('IQ:\\n', gpwi.IQ)\n",
    "    print('Q:\\n', gpwi.Q)"
   ]
  },
  {
   "cell_type": "markdown",
   "metadata": {},
   "source": [
    "#### We can also write the full ``F06``"
   ]
  },
  {
   "cell_type": "code",
   "execution_count": null,
   "metadata": {},
   "outputs": [],
   "source": [
    "import getpass\n",
    "name = getpass.getuser()\n",
    "os.chdir(os.path.join(r'C:\\Users', name, 'Desktop'))\n",
    "\n",
    "# write the F06 with Real/Imaginary or Magnitude/Phase\n",
    "# only matters for complex results\n",
    "op2.write_f06('isat.f06', is_mag_phase=False)\n",
    "\n",
    "!head -n 40 isat.f06"
   ]
  },
  {
   "cell_type": "code",
   "execution_count": null,
   "metadata": {},
   "outputs": [],
   "source": [
    "#from IPython.display import display, Math, Latex"
   ]
  },
  {
   "cell_type": "markdown",
   "metadata": {},
   "source": [
    "The mass results are different as pyNastran's mass assumes point masses\n",
    "   $$m_{plates} = A (\\rho t + nsm)$$\n",
    "   $$m_{solid} = V \\rho$$\n",
    "   $$m_{bars} = L (\\rho A + nsm)$$\n",
    "   $$I = m r^2$$\n",
    "\n",
    "The larger your model is and the further from the origin, the more accurate the result.\n",
    "For some applications (e.g. a weight breakdown), this is probably be fine."
   ]
  },
  {
   "cell_type": "code",
   "execution_count": null,
   "metadata": {},
   "outputs": [],
   "source": [
    "print('cg =\\n%s' % gpw[''].cg)\n",
    "print('cg = %s' % cg)"
   ]
  },
  {
   "cell_type": "markdown",
   "metadata": {},
   "source": [
    "## It's not like Nastran is perfect either.\n",
    "\n",
    "### Limitations\n",
    "\n",
    "1.  You cannot do weight statements in Nastran by component/property/material.\n",
    "\n",
    "2.  Everything is always summmed up (e.g. you can have different geometry in Subcase 2 and MPCs connecting physical geometry, with other parts flying off into space).\n",
    "\n",
    "These are things that pyNastran ``can`` do."
   ]
  },
  {
   "cell_type": "code",
   "execution_count": null,
   "metadata": {},
   "outputs": [],
   "source": [
    "from pyNastran.bdf.bdf import read_bdf\n",
    "bdf_filename = os.path.abspath(os.path.join(pkg_path, '..', 'models', 'iSat', 'ISat_Launch_Sm_4pt.dat'))\n",
    "model = read_bdf(bdf_filename, debug=False)"
   ]
  },
  {
   "cell_type": "markdown",
   "metadata": {},
   "source": [
    "### Weight Statement\n",
    "\n",
    "Let's get the breakdown by property ID"
   ]
  },
  {
   "cell_type": "code",
   "execution_count": null,
   "metadata": {},
   "outputs": [],
   "source": [
    "#help(model.mass_properties)\n",
    "\n",
    "pid_to_eids_map = model.get_element_ids_dict_with_pids()\n",
    "#print(pid_to_eids_map.keys())\n",
    "print('pid,      mass, cg,                          [ixx, iyy, izz, ixy, ixz, iyz]')\n",
    "for pid, eids in sorted(pid_to_eids_map.items()):\n",
    "    mass, cg, inertia = mass_properties(model, element_ids=eids, mass_ids=[], reference_point=[0., 0., 0.])\n",
    "    print('%-6s %-.6f %-28s %s' % (pid, mass, cg, inertia))\n",
    "\n",
    "mass_ids = list(model.masses.keys())\n",
    "mass, cg, inertia = mass_properties(model, element_ids=[], mass_ids=mass_ids, reference_point=[0., 0., 0.])\n",
    "print('%-6s %-.6f %-38s %s' % ('mass', mass, cg, inertia))"
   ]
  },
  {
   "cell_type": "code",
   "execution_count": null,
   "metadata": {},
   "outputs": [],
   "source": []
  }
 ],
 "metadata": {
  "kernelspec": {
   "display_name": "Python 3 (ipykernel)",
   "language": "python",
   "name": "python3"
  },
  "language_info": {
   "codemirror_mode": {
    "name": "ipython",
    "version": 3
   },
   "file_extension": ".py",
   "mimetype": "text/x-python",
   "name": "python",
   "nbconvert_exporter": "python",
   "pygments_lexer": "ipython3",
   "version": "3.12.3"
  }
 },
 "nbformat": 4,
 "nbformat_minor": 4
}
