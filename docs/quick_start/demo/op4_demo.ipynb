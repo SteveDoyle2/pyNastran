{
 "cells": [
  {
   "cell_type": "markdown",
   "metadata": {},
   "source": [
    "## OP4 Demo\n",
    "\n",
    "The Jupyter notebook for this demo can be found in:\n",
    "   - docs/quick_start/demo/op4_demo.ipynb\n",
    "   - https://github.com/SteveDoyle2/pyNastran/tree/master/docs/quick_start/demo/op4_demo.ipynb\n",
    "\n",
    "The OP4 is a Nastran input/output format that can store matrices.\n",
    "\n",
    "The OP2 can as well, but is less validated in regards to matrices.\n",
    "\n",
    "#### Import pyNastran"
   ]
  },
  {
   "cell_type": "code",
   "execution_count": 1,
   "metadata": {},
   "outputs": [],
   "source": [
    "from pathlib import Path\n",
    "import pyNastran\n",
    "pkg_path = Path(pyNastran.__path__[0])\n",
    "#pkg_path = r'C:\\Users\\sdoyle\\Desktop\\demo\\pyNastran\\pyNastran'\n",
    "\n",
    "from pyNastran.utils import print_bad_path\n",
    "from pyNastran.op4.op4 import read_op4\n",
    "import numpy as np\n",
    "#from numpy import float32, float64, int32, int64, product\n",
    "\n",
    "# decrease output precision\n",
    "np.set_printoptions(precision=3, threshold=20)"
   ]
  },
  {
   "cell_type": "markdown",
   "metadata": {},
   "source": [
    "#### Print the docstring\n"
   ]
  },
  {
   "cell_type": "code",
   "execution_count": 2,
   "metadata": {},
   "outputs": [
    {
     "name": "stdout",
     "output_type": "stream",
     "text": [
      "Help on function read_op4 in module pyNastran.op4.op4:\n",
      "\n",
      "read_op4(op4_filename: Union[str, pathlib.PurePath, NoneType] = None, matrix_names: Optional[list[str]] = None, precision: str = 'default', debug: bool = False, log=None) -> dict[str, pyNastran.op2.result_objects.matrix.Matrix]\n",
      "    Reads a NASTRAN OUTPUT4 file, and stores the\n",
      "    matrices as the output arguments.  The number of\n",
      "    matrices read is defined by the list matrix_names.  By default, all\n",
      "    matrices will be read.  The resulting output is a dictionary of\n",
      "    matrices that are accessed by their name.\n",
      "\n",
      "    .. code-block:: python\n",
      "\n",
      "       >>> from pyNastran.op4.op4 import OP4\n",
      "       >>> op4 = OP4()\n",
      "\n",
      "       # get all the matrices\n",
      "       >>> matrices = op4.read_op4(op4_filename)\n",
      "       >>> MatrixA = matrices['A']\n",
      "       >>> MatrixB = matrices['B']\n",
      "       >>> MatrixC = matrices['C']\n",
      "\n",
      "       # or to reduce memory usage\n",
      "       >>> matrices = op4.read_op4(op4_filename, matrix_names=['A', 'B'])\n",
      "       >>> MatrixA = matrices['A']\n",
      "       >>> MatrixB = matrices['B']\n",
      "\n",
      "       # or because you only want A\n",
      "       >>> matrices = op4.read_op4(op4_filename, matrix_names='A')\n",
      "       >>> MatrixA = matrices['A']\n",
      "\n",
      "       # get all the matrices, but select the file using a file dialog\n",
      "       >>> matrices = op4.read_op4()\n",
      "       >>>\n",
      "\n",
      "    Parameters\n",
      "    ----------\n",
      "    op4_filename : str / None\n",
      "        an OP4 filename.  Type=STRING.\n",
      "    matrix_names : list[str], str / None\n",
      "        matrix name(s) (None -> all)\n",
      "    precision : str; {'default', 'single', 'double'}\n",
      "        specifies if the matrices are in single or double precsion\n",
      "        which means the format will be whatever the file is in\n",
      "\n",
      "    Returns\n",
      "    -------\n",
      "    matricies : dict[str] = (int, Matrix)\n",
      "        dictionary of matrices where the key is the name and the value is a matrix.\n",
      "        To get the form: matrix.form\n",
      "        To get the data: matrix.data\n",
      "\n",
      "        +------+----------------+\n",
      "        | Form |   Definition   |\n",
      "        +======+================+\n",
      "        |  1   | Square         |\n",
      "        +------+----------------+\n",
      "        |  2   | Rectangular    |\n",
      "        +------+----------------+\n",
      "        |  3   | Diagonal       |\n",
      "        +------+----------------+\n",
      "        |  6   | Symmetric      |\n",
      "        +------+----------------+\n",
      "        |  8   | Id entity      |\n",
      "        +------+----------------+\n",
      "        |  9   | Pseudoidentity |\n",
      "        +------+----------------+\n",
      "\n",
      "        +--------+-------------------------+\n",
      "        |  Type  | Object                  |\n",
      "        +========+=========================+\n",
      "        | Dense  | NUMPY.NDARRAY           |\n",
      "        +--------+-------------------------+\n",
      "        | Sparse | SCIPY.SPARSE.COO_MATRIX |\n",
      "        +--------+-------------------------+\n",
      "\n",
      "    .. note:: based off the MATLAB code SAVEOP4 developed by ATA-E and\n",
      "              later UCSD.\n",
      "    .. note:: it's strongly recommended that you convert sparse matrices to\n",
      "              another format before doing math on them.  This is standard\n",
      "              with sparse matrices.\n",
      "\n"
     ]
    }
   ],
   "source": [
    "help(read_op4)"
   ]
  },
  {
   "cell_type": "markdown",
   "metadata": {},
   "source": [
    "### So as you can see, Nastran has many matrix formats."
   ]
  },
  {
   "cell_type": "code",
   "execution_count": 3,
   "metadata": {},
   "outputs": [],
   "source": [
    "# read the op4, will pop open a dialog box\n",
    "#matrices = read_op4()"
   ]
  },
  {
   "cell_type": "code",
   "execution_count": 4,
   "metadata": {},
   "outputs": [],
   "source": [
    "op4_filename = pkg_path / '..' / 'models' / 'iSat' / 'ISat_Launch_Sm_4pt.op4'\n",
    "assert op4_filename.exists(), print_bad_path(op4_filename)\n",
    "\n",
    "#specify the file\n",
    "matrices = read_op4(op4_filename)"
   ]
  },
  {
   "cell_type": "markdown",
   "metadata": {},
   "source": [
    "### There are more ways to read an OP4"
   ]
  },
  {
   "cell_type": "code",
   "execution_count": 5,
   "metadata": {},
   "outputs": [],
   "source": [
    "# only 1 matrix\n",
    "matrices = read_op4(op4_filename, matrix_names='FLAMA', debug=False)\n",
    "\n",
    "# 1 or more matrices\n",
    "matrices = read_op4(op4_filename, matrix_names=['FLAMA','UGEXT'])"
   ]
  },
  {
   "cell_type": "code",
   "execution_count": 6,
   "metadata": {},
   "outputs": [
    {
     "name": "stdout",
     "output_type": "stream",
     "text": [
      "Matrix['FLAMA'];    shape=(3, 167);   type=numpy.ndarray;                    dtype=float32;   desc=rectangular\n",
      "\n",
      "Matrix:\n",
      "  Complex : array([0., 0., 0., ..., 0., 0., 0.], shape=(334,), dtype=float32)\n",
      "  GCi    : array([0, 0, 0, ..., 2, 2, 2], shape=(334,))\n",
      "  GCi_GCj : (array([0, 0, 0, ..., 2, 2, 2], shape=(334,)), array([  0,   1,   2, ..., 164, 165, 166], shape=(334,)))\n",
      "  GCj    : array([  0,   1,   2, ..., 164, 165, 166], shape=(334,))\n",
      "  Real   : array([ 8.358,  9.507, 15.664, ...,  1.   ,  1.   ,  1.   ],\n",
      "      shape=(334,), dtype=float32)\n",
      "  col_dof : None\n",
      "  col_nid : None\n",
      "  data   : array([[  8.358,   9.507,  15.664, ..., 395.101, 395.329, 397.237],\n",
      "       [  0.   ,   0.   ,   0.   , ...,   0.   ,   0.   ,   0.   ],\n",
      "       [  1.   ,   1.   ,   1.   , ...,   1.   ,   1.   ,   1.   ]],\n",
      "      shape=(3, 167), dtype=float32)\n",
      "  dtype_str : 'float32'\n",
      "  form   : 2\n",
      "  is_complex : False\n",
      "  is_dense : True\n",
      "  is_matpool : False\n",
      "  is_real : True\n",
      "  is_sparse : False\n",
      "  name   : 'FLAMA'\n",
      "  row_dof : None\n",
      "  row_nid : None\n",
      "  shape  : (3, 167)\n",
      "  shape_str : 'rectangular'\n",
      "  tin    : 1\n",
      "\n"
     ]
    }
   ],
   "source": [
    "# extract a matrix\n",
    "from pyNastran.utils import object_stats\n",
    "flama = matrices['FLAMA']\n",
    "print(f'{flama}\\n')\n",
    "print(object_stats(flama))\n"
   ]
  },
  {
   "cell_type": "code",
   "execution_count": 7,
   "metadata": {},
   "outputs": [
    {
     "name": "stdout",
     "output_type": "stream",
     "text": [
      "keys = dict_keys(['FLAMA', 'UGEXT'])\n"
     ]
    }
   ],
   "source": [
    "print(\"keys = %s\" % matrices.keys())"
   ]
  },
  {
   "cell_type": "code",
   "execution_count": 8,
   "metadata": {},
   "outputs": [
    {
     "name": "stdout",
     "output_type": "stream",
     "text": [
      "['FLAMA', 'UGEXT']\n",
      "flama:\n",
      "  form = 2\n",
      "  type = <class 'numpy.float32'>\n",
      "  nvals = 501\n",
      "\n",
      "ugext:\n",
      "  form = 2\n",
      "  type = <class 'numpy.float64'>\n",
      "  shape = (32274, 167)\n",
      "  nvals = 5389758\n"
     ]
    }
   ],
   "source": [
    "print(list(matrices.keys()))\n",
    "flama = matrices['FLAMA']\n",
    "print('flama:')\n",
    "print(\"  form = %s\" % (flama.form))\n",
    "print(\"  type = %s\" % type(flama.data[0,0]))\n",
    "print(\"  nvals = %s\\n\" % flama.data.size)\n",
    "\n",
    "ugext = matrices['UGEXT']\n",
    "print('ugext:')\n",
    "print(\"  form = %s\" % (ugext.form))\n",
    "print(\"  type = %s\" % type(ugext.data[0,0]))\n",
    "print(\"  shape = %s\" % str(ugext.data.shape))\n",
    "print(\"  nvals = %s\" % ugext.data.size)"
   ]
  },
  {
   "cell_type": "code",
   "execution_count": 9,
   "metadata": {},
   "outputs": [
    {
     "name": "stdout",
     "output_type": "stream",
     "text": [
      "[[ 5.548e-03  4.669e-06  1.816e-04 ...  1.038e-01  6.898e-02  1.901e-02]\n",
      " [-2.133e-04  5.699e-03 -2.393e-02 ...  1.038e-02 -5.254e-02 -1.187e-01]\n",
      " [ 8.469e-04  1.512e-03 -7.038e-03 ... -2.629e-01 -2.135e-01  1.474e-01]\n",
      " ...\n",
      " [-3.006e-07  5.476e-05 -6.343e-04 ...  8.170e-03 -2.790e-02  2.645e-02]\n",
      " [-1.723e-06  1.278e-06  1.805e-06 ... -4.877e-03 -4.630e-03 -6.870e-03]\n",
      " [ 7.271e-06  3.394e-06  2.716e-06 ... -7.789e-03 -7.146e-03 -8.940e-03]]\n",
      "(32274, 167)\n"
     ]
    }
   ],
   "source": [
    "print(ugext.data[:,:])\n",
    "print(ugext.data.shape)\n",
    "#print(flama)"
   ]
  }
 ],
 "metadata": {
  "kernelspec": {
   "display_name": "Python 3 (ipykernel)",
   "language": "python",
   "name": "python3"
  },
  "language_info": {
   "codemirror_mode": {
    "name": "ipython",
    "version": 3
   },
   "file_extension": ".py",
   "mimetype": "text/x-python",
   "name": "python",
   "nbconvert_exporter": "python",
   "pygments_lexer": "ipython3",
   "version": "3.12.2"
  }
 },
 "nbformat": 4,
 "nbformat_minor": 4
}
