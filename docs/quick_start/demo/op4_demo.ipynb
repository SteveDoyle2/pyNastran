{
 "cells": [
  {
   "cell_type": "markdown",
   "metadata": {},
   "source": [
    "## OP4 Demo\n",
    "\n",
    "The Jupyter notebook for this demo can be found in:\n",
    "   - docs/quick_start/demo/op4_demo.ipynb\n",
    "   - https://github.com/SteveDoyle2/pyNastran/tree/master/docs/quick_start/demo/op4_demo.ipynb\n",
    "\n",
    "The OP4 is a Nastran input/output format that can store matrices.\n",
    "\n",
    "The OP2 can as well, but is less validated in regards to matrices.\n",
    "\n",
    "#### Import pyNastran"
   ]
  },
  {
   "cell_type": "code",
   "execution_count": 4,
   "metadata": {},
   "outputs": [],
   "source": [
    "import os\n",
    "\n",
    "import pyNastran\n",
    "pkg_path = pyNastran.__path__[0]\n",
    "#pkg_path = r'C:\\Users\\sdoyle\\Desktop\\demo\\pyNastran\\pyNastran'\n",
    "\n",
    "from pyNastran.utils import print_bad_path\n",
    "from pyNastran.op4.op4 import read_op4\n",
    "import numpy as np\n",
    "#from numpy import float32, float64, int32, int64, product\n",
    "\n",
    "# decrease output precision\n",
    "np.set_printoptions(precision=3, threshold=20)"
   ]
  },
  {
   "cell_type": "markdown",
   "metadata": {},
   "source": [
    "#### Print the docstring\n"
   ]
  },
  {
   "cell_type": "code",
   "execution_count": 5,
   "metadata": {},
   "outputs": [
    {
     "name": "stdout",
     "output_type": "stream",
     "text": [
      "Help on function read_op4 in module pyNastran.op4.op4:\n",
      "\n",
      "read_op4(op4_filename: Union[str, pathlib.PurePath, NoneType] = None, matrix_names: Optional[list[str]] = None, precision: str = 'default', debug: bool = False, log=None) -> dict[str, pyNastran.op2.result_objects.matrix.Matrix]\n",
      "    Reads a NASTRAN OUTPUT4 file, and stores the\n",
      "    matrices as the output arguments.  The number of\n",
      "    matrices read is defined by the list matrix_names.  By default, all\n",
      "    matrices will be read.  The resulting output is a dictionary of\n",
      "    matrices that are accessed by their name.\n",
      "\n",
      "    .. code-block:: python\n",
      "\n",
      "       >>> from pyNastran.op4.op4 import OP4\n",
      "       >>> op4 = OP4()\n",
      "\n",
      "       # get all the matrices\n",
      "       >>> matrices = op4.read_op4(op4_filename)\n",
      "       >>> MatrixA = matrices['A']\n",
      "       >>> MatrixB = matrices['B']\n",
      "       >>> MatrixC = matrices['C']\n",
      "\n",
      "       # or to reduce memory usage\n",
      "       >>> matrices = op4.read_op4(op4_filename, matrix_names=['A', 'B'])\n",
      "       >>> MatrixA = matrices['A']\n",
      "       >>> MatrixB = matrices['B']\n",
      "\n",
      "       # or because you only want A\n",
      "       >>> matrices = op4.read_op4(op4_filename, matrix_names='A')\n",
      "       >>> MatrixA = matrices['A']\n",
      "\n",
      "       # get all the matrices, but select the file using a file dialog\n",
      "       >>> matrices = op4.read_op4()\n",
      "       >>>\n",
      "\n",
      "    Parameters\n",
      "    ----------\n",
      "    op4_filename : str / None\n",
      "        an OP4 filename.  Type=STRING.\n",
      "    matrix_names : list[str], str / None\n",
      "        matrix name(s) (None -> all)\n",
      "    precision : str; {'default', 'single', 'double'}\n",
      "        specifies if the matrices are in single or double precsion\n",
      "        which means the format will be whatever the file is in\n",
      "\n",
      "    Returns\n",
      "    -------\n",
      "    matricies : dict[str] = (int, Matrix)\n",
      "        dictionary of matrices where the key is the name and the value is a matrix.\n",
      "        To get the form: matrix.form\n",
      "        To get the data: matrix.data\n",
      "\n",
      "        +------+----------------+\n",
      "        | Form |   Definition   |\n",
      "        +======+================+\n",
      "        |  1   | Square         |\n",
      "        +------+----------------+\n",
      "        |  2   | Rectangular    |\n",
      "        +------+----------------+\n",
      "        |  3   | Diagonal       |\n",
      "        +------+----------------+\n",
      "        |  6   | Symmetric      |\n",
      "        +------+----------------+\n",
      "        |  8   | Id entity      |\n",
      "        +------+----------------+\n",
      "        |  9   | Pseudoidentity |\n",
      "        +------+----------------+\n",
      "\n",
      "        +--------+-------------------------+\n",
      "        |  Type  | Object                  |\n",
      "        +========+=========================+\n",
      "        | Dense  | NUMPY.NDARRAY           |\n",
      "        +--------+-------------------------+\n",
      "        | Sparse | SCIPY.SPARSE.COO_MATRIX |\n",
      "        +--------+-------------------------+\n",
      "\n",
      "    .. note:: based off the MATLAB code SAVEOP4 developed by ATA-E and\n",
      "              later UCSD.\n",
      "    .. note:: it's strongly recommended that you convert sparse matrices to\n",
      "              another format before doing math on them.  This is standard\n",
      "              with sparse matrices.\n",
      "\n"
     ]
    }
   ],
   "source": [
    "help(read_op4)"
   ]
  },
  {
   "cell_type": "markdown",
   "metadata": {},
   "source": [
    "### So as you can see, Nastran has many matrix formats."
   ]
  },
  {
   "cell_type": "code",
   "execution_count": 6,
   "metadata": {},
   "outputs": [],
   "source": [
    "# read the op4, will pop open a dialog box\n",
    "#matrices = read_op4()"
   ]
  },
  {
   "cell_type": "code",
   "execution_count": 7,
   "metadata": {},
   "outputs": [
    {
     "ename": "AssertionError",
     "evalue": "Missing File:\nfailed: C:\\work\\pyNastran\\models\\iSat\\ISat_Launch_Sm_4pt.op4\npassed: C:\\work\\pyNastran\\models\\iSat\npassed: C:\\work\\pyNastran\\models\npassed: C:\\work\\pyNastran\npassed: C:\\work\npassed: C:\\",
     "output_type": "error",
     "traceback": [
      "\u001b[1;31m---------------------------------------------------------------------------\u001b[0m",
      "\u001b[1;31mAssertionError\u001b[0m                            Traceback (most recent call last)",
      "Cell \u001b[1;32mIn[7], line 2\u001b[0m\n\u001b[0;32m      1\u001b[0m op4_filename \u001b[38;5;241m=\u001b[39m os\u001b[38;5;241m.\u001b[39mpath\u001b[38;5;241m.\u001b[39mjoin(pkg_path, \u001b[38;5;124m'\u001b[39m\u001b[38;5;124m..\u001b[39m\u001b[38;5;124m'\u001b[39m, \u001b[38;5;124m'\u001b[39m\u001b[38;5;124mmodels\u001b[39m\u001b[38;5;124m'\u001b[39m, \u001b[38;5;124m'\u001b[39m\u001b[38;5;124miSat\u001b[39m\u001b[38;5;124m'\u001b[39m, \u001b[38;5;124m'\u001b[39m\u001b[38;5;124mISat_Launch_Sm_4pt.op4\u001b[39m\u001b[38;5;124m'\u001b[39m)\n\u001b[1;32m----> 2\u001b[0m \u001b[38;5;28;01massert\u001b[39;00m os\u001b[38;5;241m.\u001b[39mpath\u001b[38;5;241m.\u001b[39mexists(op4_filename), print_bad_path(op4_filename)\n\u001b[0;32m      4\u001b[0m \u001b[38;5;66;03m#specify the file\u001b[39;00m\n\u001b[0;32m      5\u001b[0m matrices \u001b[38;5;241m=\u001b[39m read_op4(op4_filename)\n",
      "\u001b[1;31mAssertionError\u001b[0m: Missing File:\nfailed: C:\\work\\pyNastran\\models\\iSat\\ISat_Launch_Sm_4pt.op4\npassed: C:\\work\\pyNastran\\models\\iSat\npassed: C:\\work\\pyNastran\\models\npassed: C:\\work\\pyNastran\npassed: C:\\work\npassed: C:\\"
     ]
    }
   ],
   "source": [
    "op4_filename = os.path.join(pkg_path, '..', 'models', 'iSat', 'ISat_Launch_Sm_4pt.op4')\n",
    "assert os.path.exists(op4_filename), print_bad_path(op4_filename)\n",
    "\n",
    "#specify the file\n",
    "matrices = read_op4(op4_filename)"
   ]
  },
  {
   "cell_type": "markdown",
   "metadata": {},
   "source": [
    "### There are more ways to read an OP4"
   ]
  },
  {
   "cell_type": "code",
   "execution_count": null,
   "metadata": {},
   "outputs": [],
   "source": [
    "# only 1 matrix\n",
    "matrices = read_op4(op4_filename, matrix_names='FLAMA', debug=False)\n",
    "\n",
    "# 1 or more matrices\n",
    "matrices = read_op4(op4_filename, matrix_names=['FLAMA','UGEXT'])"
   ]
  },
  {
   "cell_type": "code",
   "execution_count": null,
   "metadata": {},
   "outputs": [],
   "source": [
    "# extract a matrix\n",
    "from pyNastran.utils import print_bad_path, object_stats\n",
    "flama = matrices['FLAMA']\n",
    "print(f'{flama}\\n')\n",
    "print(object_stats(flama))\n"
   ]
  },
  {
   "cell_type": "code",
   "execution_count": null,
   "metadata": {},
   "outputs": [],
   "source": [
    "print(\"keys = %s\" % matrices.keys())"
   ]
  },
  {
   "cell_type": "code",
   "execution_count": null,
   "metadata": {},
   "outputs": [],
   "source": [
    "print(list(matrices.keys()))\n",
    "flama = matrices['FLAMA']\n",
    "print('flama:')\n",
    "print(\"  form = %s\" % (flama.form))\n",
    "print(\"  type = %s\" % type(flama.data[0,0]))\n",
    "print(\"  nvals = %s\\n\" % flama.data.size)\n",
    "\n",
    "ugext = matrices['UGEXT']\n",
    "print('ugext:')\n",
    "print(\"  form = %s\" % (ugext.form))\n",
    "print(\"  type = %s\" % type(ugext.data[0,0]))\n",
    "print(\"  shape = %s\" % str(ugext.data.shape))\n",
    "print(\"  nvals = %s\" % ugext.data.size)"
   ]
  },
  {
   "cell_type": "code",
   "execution_count": null,
   "metadata": {},
   "outputs": [],
   "source": [
    "print(ugext.data[:,:])\n",
    "print(ugext.data.shape)\n",
    "#print(flama)"
   ]
  }
 ],
 "metadata": {
  "kernelspec": {
   "display_name": "Python 3 (ipykernel)",
   "language": "python",
   "name": "python3"
  },
  "language_info": {
   "codemirror_mode": {
    "name": "ipython",
    "version": 3
   },
   "file_extension": ".py",
   "mimetype": "text/x-python",
   "name": "python",
   "nbconvert_exporter": "python",
   "pygments_lexer": "ipython3",
   "version": "3.12.3"
  }
 },
 "nbformat": 4,
 "nbformat_minor": 4
}
