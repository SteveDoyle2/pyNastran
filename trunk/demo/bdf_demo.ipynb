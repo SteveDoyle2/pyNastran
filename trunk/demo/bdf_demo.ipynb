{
 "metadata": {
  "name": "",
  "signature": "sha256:bd80627375b723e7dcb33e7a486992883057e89b4e88b2a396fae6bcb8f148be"
 },
 "nbformat": 3,
 "nbformat_minor": 0,
 "worksheets": [
  {
   "cells": [
    {
     "cell_type": "code",
     "collapsed": false,
     "input": [
      "import os\n",
      "import pyNastran\n",
      "print pyNastran.__file__\n",
      "print pyNastran.__version__\n",
      "pkg_path = pyNastran.__path__[0]\n",
      "\n",
      "from pyNastran.bdf.bdf import BDF\n",
      "from pyNastran.utils import object_attributes, object_methods\n",
      "\n",
      "print \"pkg_path =\", pkg_path"
     ],
     "language": "python",
     "metadata": {},
     "outputs": [
      {
       "output_type": "stream",
       "stream": "stdout",
       "text": [
        " c:\\nasa\\m4\\formats\\pynastran_v0.7\\pyNastran\\__init__.pyc\n",
        "0.7.0_dev\n",
        "pkg_path ="
       ]
      },
      {
       "output_type": "stream",
       "stream": "stdout",
       "text": [
        " c:\\nasa\\m4\\formats\\pynastran_v0.7\\pyNastran\n"
       ]
      }
     ],
     "prompt_number": 19
    },
    {
     "cell_type": "code",
     "collapsed": false,
     "input": [
      "bdf_filename = os.path.abspath(os.path.join(pkg_path, '..', 'models', 'iSat', 'ISat_Launch_Sm_Rgd.dat'))\n",
      "print bdf_filename\n",
      "\n",
      "# look at the model\n",
      "!pyNastranGUI_qt -f nastran -i {bdf_filename} > junk.out"
     ],
     "language": "python",
     "metadata": {},
     "outputs": [
      {
       "output_type": "stream",
       "stream": "stdout",
       "text": [
        "c:\\nasa\\m4\\formats\\pynastran_v0.7\\models\\iSat\\ISat_Launch_Sm_Rgd.dat\n"
       ]
      },
      {
       "output_type": "stream",
       "stream": "stdout",
       "text": [
        "Using PyQt4\n",
        "is_centroidal = True\n",
        "formats = [u'cart3d', u'lawgs', u'nastran', u'panair', u'plot3d', u'shabp', u'stl', u'usm3d']\n",
        "key =  t\n",
        "geometry_format = 'nastran'\n",
        "ncases = 2\n",
        "caseKeys = [(0, 'Element_ID', 1, 'centroid', '%.0f'), (0, 'Pid', 1, 'centroid', '%.0f')]\n",
        "finish_io case A\n",
        "is_nodal=False is_centroidal=True\n",
        "key = (0, 'Element_ID', 1, 'centroid', '%.0f')\n",
        "subcaseID=0 resultType='Element_ID' subtitle='case=NA' label='label=NA'\n",
        "max_value=5673 min_value=1 norm_value=5672.0\n",
        "UpdateScalarBar min=1 max=5673 norm=5672.0\n",
        "key =  r\n",
        "key =  w\n",
        "key =  s\n",
        "key =  w\n",
        "is_nodal=False is_centroidal=True\n",
        "key = (0, 'Pid', 1, 'centroid', '%.0f')\n",
        "subcaseID=0 resultType='Pid' subtitle='case=NA' label='label=NA'\n",
        "max_value=61 min_value=1 norm_value=60.0\n",
        "UpdateScalarBar min=1 max=61 norm=60.0\n",
        "is_nodal=False is_centroidal=True\n",
        "key = (0, 'Element_ID', 1, 'centroid', '%.0f')\n",
        "subcaseID=0 resultType='Element_ID' subtitle='case=NA' label='label=NA'\n",
        "max_value=5673 min_value=1 norm_value=5672.0\n",
        "UpdateScalarBar min=1 max=5673 norm=5672.0\n",
        "is_nodal=False is_centroidal=True\n",
        "key = (0, 'Pid', 1, 'centroid', '%.0f')\n",
        "subcaseID=0 resultType='Pid' subtitle='case=NA' label='label=NA'\n",
        "max_value=61 min_value=1 norm_value=60.0\n",
        "UpdateScalarBar min=1 max=61 norm=60.0\n",
        "is_nodal=False is_centroidal=True\n",
        "key = (0, 'Element_ID', 1, 'centroid', '%.0f')\n",
        "subcaseID=0 resultType='Element_ID' subtitle='case=NA' label='label=NA'\n",
        "max_value=5673 min_value=1 norm_value=5672.0\n",
        "UpdateScalarBar min=1 max=5673 norm=5672.0\n",
        "is_nodal=False is_centroidal=True\n",
        "key = (0, 'Pid', 1, 'centroid', '%.0f')\n",
        "subcaseID=0 resultType='Pid' subtitle='case=NA' label='label=NA'\n",
        "max_value=61 min_value=1 norm_value=60.0\n",
        "UpdateScalarBar min=1 max=61 norm=60.0\n"
       ]
      }
     ],
     "prompt_number": 57
    },
    {
     "cell_type": "code",
     "collapsed": false,
     "input": [
      "print bdf_filename\n",
      "\n",
      "# create the BDF object\n",
      "bdf = BDF()\n",
      "\n",
      "# read the file from the GUI\n",
      "# don't cross-reference\n",
      "#bdf.read_bdf(xref=False)\n",
      "bdf.read_bdf(bdf_filename, xref=False)"
     ],
     "language": "python",
     "metadata": {},
     "outputs": []
    },
    {
     "cell_type": "code",
     "collapsed": false,
     "input": [
      "#bdf_filename = r'D:\\work\\pynastran_0.7.0_py27\\models\\iSat\\ISat_Launch_Sm_Rgd.dat'\n",
      "#bdf_filename = r'C:\\Users\\Steve\\Dropbox\\pyNastran_examples\\iSat\\ISat_Launch_Sm_Rgd.dat'\n",
      "bdf_filename = os.path.abspath(os.path.join(pkg_path, '..', 'models', 'iSat', 'ISat_Launch_Sm_Rgd.dat'))\n",
      "\n",
      "# read the file as a path\n",
      "bdf2 = BDF()\n",
      "bdf2.read_bdf(bdf_filename, xref=True)"
     ],
     "language": "python",
     "metadata": {},
     "outputs": [
      {
       "output_type": "stream",
       "stream": "stdout",
       "text": [
        "INFO:      fname=bdf.pyc                   lineNo=1002   opening 'c:\\\\nasa\\\\m4\\\\formats\\\\pynastran_v0.7\\\\models\\\\iSat\\\\ISat_Launch_Sm_Rgd.dat'\n"
       ]
      },
      {
       "output_type": "stream",
       "stream": "stdout",
       "text": [
        "DEBUG:     fname=bdf.pyc                   lineNo=750    ---starting BDF.read_bdf of c:\\nasa\\m4\\formats\\pynastran_v0.7\\models\\iSat\\ISat_Launch_Sm_Rgd.dat---\n"
       ]
      },
      {
       "output_type": "stream",
       "stream": "stdout",
       "text": [
        "DEBUG:     fname=bdf.pyc                   lineNo=752    ---reading executive & case control decks---\n"
       ]
      },
      {
       "output_type": "stream",
       "stream": "stdout",
       "text": [
        "DEBUG:     fname=bdf.pyc                   lineNo=954    found the end of the Case Control Deck!\n"
       ]
      },
      {
       "output_type": "stream",
       "stream": "stdout",
       "text": [
        "DEBUG:     fname=bdf.pyc                   lineNo=956    finished with Case Control Deck...\n"
       ]
      },
      {
       "output_type": "stream",
       "stream": "stdout",
       "text": [
        "DEBUG:     fname=bdf.pyc                   lineNo=1186   reading Bulk Data Deck...\n"
       ]
      },
      {
       "output_type": "stream",
       "stream": "stdout",
       "text": [
        "INFO:      fname=bdf.pyc                   lineNo=1223   reject card_name = USET\n"
       ]
      },
      {
       "output_type": "stream",
       "stream": "stdout",
       "text": [
        "INFO:      fname=bdf.pyc                   lineNo=1025   closing 'c:\\\\nasa\\\\m4\\\\formats\\\\pynastran_v0.7\\\\models\\\\iSat\\\\ISat_Launch_Sm_Rgd.dat'\n"
       ]
      },
      {
       "output_type": "stream",
       "stream": "stdout",
       "text": [
        "DEBUG:     fname=crossReference.pyc        lineNo=27     Cross Referencing...\n"
       ]
      },
      {
       "output_type": "stream",
       "stream": "stdout",
       "text": [
        "DEBUG:     fname=bdf.pyc                   lineNo=765    ---finished BDF.read_bdf of c:\\nasa\\m4\\formats\\pynastran_v0.7\\models\\iSat\\ISat_Launch_Sm_Rgd.dat---\n"
       ]
      }
     ],
     "prompt_number": 8
    },
    {
     "cell_type": "code",
     "collapsed": false,
     "input": [
      "print \"attributes =\", object_attributes(bdf)\n",
      "print \"\"\n",
      "print \"methods =\",object_methods(bdf)\n",
      "print bdf.get_bdf_stats()\n",
      "print \"card_count =\", bdf.card_count\n",
      "print \"reject_count =\", bdf.reject_count"
     ],
     "language": "python",
     "metadata": {},
     "outputs": [
      {
       "output_type": "stream",
       "stream": "stdout",
       "text": [
        "attributes = ['MATS1', 'MATS3', 'MATS8', 'MATT1', 'MATT2', 'MATT3', 'MATT4', 'MATT5', 'MATT8', 'MATT9', 'active_filename', 'active_filenames', 'aefacts', 'aelinks', 'aelists', 'aeparams', 'aero', 'aeros', 'aestats', 'aesurfs', 'asets', 'bcrparas', 'bcs', 'bctadds', 'bctparas', 'bctsets', 'bdf_filename', 'bsets', 'bsurf', 'bsurfs', 'cMethods', 'caeros', 'card_count', 'cardsToRead', 'caseControlDeck', 'case_control_lines', 'convectionProperties', 'coords', 'creepMaterials', 'csets', 'dareas', 'dconstrs', 'ddvals', 'debug', 'dequations', 'desvars', 'dlinks', 'dmigs', 'dmijis', 'dmijs', 'dmiks', 'dmis', 'doptprm', 'dresps', 'dscreen', 'dvmrels', 'dvprels', 'echo', 'elements', 'executive_control_lines', 'flfacts', 'flutters', 'frequencies', 'gridSet', 'gusts', 'has_case_control_deck', 'hyperelasticMaterials', 'iSolLine', 'include_dir', 'loads', 'log', 'masses', 'materials', 'methods', 'mkaeros', 'modelType', 'mpcObject', 'mpcadds', 'mpcs', 'nlparms', 'nlpcis', 'nodes', 'paeros', 'params', 'pbusht', 'pdampt', 'pelast', 'phbdys', 'points', 'properties', 'properties_mass', 'qsets', 'randomTables', 'reject_cards', 'reject_count', 'rejects', 'rigidElements', 'rsolmap_toStr', 'sets', 'setsSuper', 'sol', 'solMethod', 'spcObject', 'spcadds', 'spcs', 'specialCards', 'splines', 'spoints', 'suports', 'tables', 'thermalMaterials', 'trims', 'tstepnls', 'tsteps', 'uniqueBulkDataCards']\n",
        "\n",
        "methods = ['AEFact', 'AELink', 'AEList', 'AEParam', 'AEStat', 'Aero', 'Aeros', 'CAero', 'CMethod', 'Coord', 'DConstr', 'DDVal', 'DMIG', 'Desvar', 'Element', 'Elements', 'FLFACT', 'Flfact', 'Flutter', 'Gust', 'HyperelasticMaterial', 'Load', 'Mass', 'MassProperties', 'Material', 'Materials', 'Method', 'NLParm', 'Node', 'Nodes', 'PAero', 'Phbdy', 'Properties', 'Property', 'PropertyMass', 'RandomTable', 'RigidElement', 'SPC', 'Set', 'SetSuper', 'Spline', 'StructuralMaterial', 'Table', 'ThermalMaterial', 'add_AEFACT', 'add_AELINK', 'add_AELIST', 'add_AEPARM', 'add_AERO', 'add_AEROS', 'add_AESTAT', 'add_AESURF', 'add_ASET', 'add_BCRPARA', 'add_BCTADD', 'add_BCTPARA', 'add_BCTSET', 'add_BSET', 'add_BSURF', 'add_BSURFS', 'add_CAERO', 'add_CSET', 'add_DAREA', 'add_DCONSTR', 'add_DDVAL', 'add_DEQATN', 'add_DESVAR', 'add_DLINK', 'add_DMI', 'add_DMIG', 'add_DMIJ', 'add_DMIJI', 'add_DMIK', 'add_DRESP', 'add_DVMREL', 'add_DVPREL', 'add_FLFACT', 'add_FLUTTER', 'add_FREQ', 'add_GUST', 'add_LSEQ', 'add_MKAERO', 'add_NLPARM', 'add_NLPCI', 'add_PAERO', 'add_PARAM', 'add_PBUSHT', 'add_PDAMPT', 'add_PELAST', 'add_PHBDY', 'add_QSET', 'add_SESET', 'add_SET', 'add_SPLINE', 'add_SPOINT', 'add_TRIM', 'add_TSTEP', 'add_TSTEPNL', 'add_card', 'add_cmethod', 'add_constraint', 'add_constraint_MPC', 'add_constraint_MPCADD', 'add_constraint_SPC', 'add_constraint_SPCADD', 'add_convection_property', 'add_coord', 'add_creep_material', 'add_damper', 'add_element', 'add_hyperelastic_material', 'add_load', 'add_mass', 'add_material_dependence', 'add_method', 'add_node', 'add_property', 'add_property_mass', 'add_random_table', 'add_rigid_element', 'add_structural_material', 'add_suport', 'add_table', 'add_thermal_BC', 'add_thermal_element', 'add_thermal_load', 'add_thermal_material', 'auto_reject_bdf', 'coordIDs', 'cross_reference', 'disable_cards', 'echo_bdf', 'elementIDs', 'getElementIDsWithPID', 'getElementIDsWithPIDs', 'getMaterialIDToPropertyIDsMap', 'getNodeIDToElementIDsMap', 'getNodeIDsWithElement', 'getNodeIDsWithElements', 'getNodes', 'getPropertyIDToElementIDsMap', 'get_bdf_stats', 'get_x_associated_with_y', 'is_reject', 'mass', 'mass_properties', 'materialIDs', 'nCAeros', 'nElements', 'nNodes', 'nodeIDs', 'process_card', 'propertyIDs', 'read_bdf', 'resolveGrids', 'resolve_grids', 'set_dynamic_syntax', 'structuralMaterialIDs', 'sum_forces_moments', 'sum_forces_moments_elements', 'test_method', 'thermalMaterialIDs', 'unresolveGrids', 'unresolve_grids', 'update_solution', 'write_bdf']\n",
        "---BDF Statistics---\n",
        "SOL 103\n",
        "\n",
        "bdf.params\n",
        "  PARAM    : 8\n",
        "\n",
        "bdf.nodes\n",
        "  GRID     : 5380\n",
        "\n",
        "bdf.elements\n",
        "  CBAR     : 827\n",
        "  CBUSH    : 104\n",
        "  CHEXA    : 25\n",
        "  CQUAD4   : 4580\n",
        "  CTRIA3   : 32\n",
        "\n",
        "bdf.rigidElements\n",
        "  RBE2     : 44\n",
        "\n",
        "bdf.properties\n",
        "  PBAR     : 1\n",
        "  PBARL    : 18\n",
        "  PBUSH    : 2\n",
        "  PSHELL   : 8\n",
        "  PSOLID   : 4\n",
        "\n",
        "bdf.materials\n",
        "  MAT1     : 14\n",
        "  MAT8     : 8\n",
        "\n",
        "bdf.coords\n",
        "  CORD2R   : 75\n",
        "\n",
        "bdf.methods\n",
        "  EIGRL    : 1\n",
        "\n",
        "Rejected Cards\n",
        "  USET:    1\n",
        "\n",
        "card_count = {u'PARAM': 8, u'CQUAD4': 4580, u'PSOLID': 4, u'PBUSH': 2, u'CBUSH': 104, u'ENDDATA': 1, u'PBARL': 18, u'MAT1': 14, u'CTRIA3': 32, u'CORD2R': 75, u'PSHELL': 8, u'USET': 1, u'GRID': 5380, u'EIGRL': 1, u'CBAR': 827, u'PBAR': 1, u'CHEXA': 25, u'SPC': 1, u'CONM2': 15, u'RBE2': 44, u'MAT8': 8}\n",
        "reject_count = {u'USET': 1}\n"
       ]
      }
     ],
     "prompt_number": 58
    },
    {
     "cell_type": "code",
     "collapsed": false,
     "input": [
      "# explanation of cross-referencing\n",
      "\n",
      "# no cross referencing (xref=False)\n",
      "cquad = bdf.elements[1]\n",
      "nid1 = cquad.nodes[0]\n",
      "print \"nid1 =\", nid1\n",
      "n1 = bdf.nodes[nid1]\n",
      "cd4 = n1.cd\n",
      "c4 = bdf.coords[cd4]\n",
      "print \"i xref=False\", c4.i\n",
      "#print object_attributes(c4)\n",
      "\n",
      "# cross referenced (xref=True)\n",
      "print \"i xref=True\", bdf2.elements[1].nodes[0].cd.i\n",
      "\n",
      "# how is it done?\n",
      "cquad.nodes[0] = n1\n",
      "print cquad.nodes[0]"
     ],
     "language": "python",
     "metadata": {},
     "outputs": [
      {
       "output_type": "stream",
       "stream": "stdout",
       "text": [
        "nid1 = 1\n",
        "i xref=False [ 1.  0.  0.]\n",
        "i xref=True [ 1.  0.  0.]\n",
        "$*\n",
        "$*  GRID CARDS\n",
        "$*\n",
        "GRID           1       4    -4.5    -7.5    -14.       4\n",
        "\n"
       ]
      }
     ],
     "prompt_number": 20
    },
    {
     "cell_type": "code",
     "collapsed": false,
     "input": [
      "# some Grid methods\n",
      "n1 = bdf2.nodes[1]\n",
      "print n1\n",
      "\n",
      "# the comment\n",
      "c1 = bdf2.nodes[1].comment()\n",
      "c2 = bdf2.nodes[2].comment()\n",
      "print \"c1=%r\" % c1\n",
      "print \"c2=%r\" % c2\n",
      "\n",
      "\n",
      "# get the position of a node\n",
      "# in the local cooordinate system\n",
      "print \"xyz =\", n1.xyz\n",
      "\n",
      "# in the global frame\n",
      "print \"position =\", n1.Position()\n",
      "\n",
      "# in an arbitrary frame\n",
      "print \"wrt5 =\", n1.PositionWRT(bdf2, 5)\n",
      "print \"wrt4 =\", n1.PositionWRT(bdf2, 4)"
     ],
     "language": "python",
     "metadata": {},
     "outputs": [
      {
       "output_type": "stream",
       "stream": "stdout",
       "text": [
        "$*\n",
        "$*  GRID CARDS\n",
        "$*\n",
        "GRID           1       4    -4.5    -7.5    -14.       4\n",
        "\n",
        "c1=u'$*\\n$*  GRID CARDS\\n$*\\n'\n",
        "c2=u''\n",
        "xyz = [ -4.5  -7.5 -14. ]\n",
        "position = [ -4.5  -7.5 -14. ]\n",
        "wrt5 = [  2.12132034  14.         -26.59188309]\n",
        "wrt4 = [ -4.5  -7.5 -14. ]\n"
       ]
      }
     ],
     "prompt_number": 23
    },
    {
     "cell_type": "code",
     "collapsed": false,
     "input": [
      "n1 = bdf2.nodes[1]\n",
      "n1.xyz[1] = -7.5\n",
      "print \"repr  =\", n1.reprFields()\n",
      "print \"raw   =\", n1.rawFields()\n",
      "\n",
      "#n1.xyz[1] = 100000000000.\n",
      "print \"repr2 =\", n1.reprFields()\n",
      "print n1\n",
      "print n1.write_bdf2(size=8)\n",
      "print n1.write_bdf2(size=16, double=False)\n",
      "print n1.write_bdf2(size=16, double=True)"
     ],
     "language": "python",
     "metadata": {},
     "outputs": [
      {
       "output_type": "stream",
       "stream": "stdout",
       "text": [
        "repr  = [u'GRID', 1, 4, -4.5, -7.5, -14.0, 4, '', None]\n",
        "raw   = [u'GRID', 1, 4, -4.5, -7.5, -14.0, 4, '', 0]\n",
        "repr2 = [u'GRID', 1, 4, -4.5, -7.5, -14.0, 4, '', None]\n",
        "$*\n",
        "$*  GRID CARDS\n",
        "$*\n",
        "GRID           1       4    -4.5    -7.5    -14.       4\n",
        "\n",
        "$*\n",
        "$*  GRID CARDS\n",
        "$*\n",
        "GRID           1       4    -4.5    -7.5    -14.       4\n",
        "\n",
        "$*\n",
        "$*  GRID CARDS\n",
        "$*\n",
        "GRID*                  1               4            -4.5            -7.5\n",
        "*                   -14.               4\n",
        "\n",
        "$*\n",
        "$*  GRID CARDS\n",
        "$*\n",
        "GRID*                  1               4-4.500000000D+00-7.500000000D+00\n",
        "*       -1.400000000D+01               4\n",
        "\n"
       ]
      }
     ],
     "prompt_number": 33
    },
    {
     "cell_type": "code",
     "collapsed": false,
     "input": [
      "print \"mass = \", bdf2.Mass()"
     ],
     "language": "python",
     "metadata": {},
     "outputs": [
      {
       "output_type": "stream",
       "stream": "stdout",
       "text": [
        "mass =  "
       ]
      },
      {
       "output_type": "stream",
       "stream": "stdout",
       "text": [
        "1.77460115784\n"
       ]
      }
     ],
     "prompt_number": 8
    },
    {
     "cell_type": "code",
     "collapsed": false,
     "input": [
      "eid100 = bdf2.elements[100]\n",
      "print eid100\n",
      "print \"nodes =\", eid100.nodes\n",
      "print \"--node0--\\n\", eid100.nodes[0]\n",
      "print \"--cd--\\n\", eid100.nodes[0].cd\n",
      "print \"cd.cid\", eid100.nodes[0].cd.cid\n",
      "\n",
      "print \"area =\", eid100.Area()\n",
      "print \"mass =\", eid100.Mass()\n",
      "print \"--pid--\\n\", eid100.pid\n",
      "print \"pid.pid =\", eid100.pid.pid\n",
      "print \"pid.Pid() =\", eid100.Pid()\n",
      "\n",
      "print eid100.pid.mid1\n",
      "print \"type =\", eid100.pid.mid1.type\n",
      "print \"nu12 =\", eid100.pid.mid1.nu12\n",
      "print \"mass =\", eid100.Mass()"
     ],
     "language": "python",
     "metadata": {},
     "outputs": [
      {
       "output_type": "stream",
       "stream": "stdout",
       "text": [
        "CQUAD4       100       1     149     152     161     160\n",
        "\n",
        "nodes = [GRID         149       4      3.     7.5   -16.5       4\n",
        ", GRID         152       4     1.5     7.5   -16.5       4\n",
        ", GRID         161       4     1.5     7.5    -14.       4\n",
        ", GRID         160       4      3.     7.5    -14.       4\n",
        "]\n",
        "--node0--\n",
        "GRID         149       4      3.     7.5   -16.5       4\n",
        "\n",
        "--cd--\n",
        "CORD2R         4              0.      0.      0.      0.      0.      1.\n",
        "              1.      0.      0.\n",
        "\n",
        "cd.cid 4\n",
        "area = 3.75\n",
        "mass = 3.6428803074e-05\n",
        "--pid--\n",
        "$*\n",
        "$*  PROPERTY CARDS\n",
        "$*\n",
        "$*\n",
        "$*  I-DEAS property: 1  name: BUS PNL HCMB 2PLY\n",
        "PSHELL         1       6    .036       61415.815       7  22.234 3.551-6\n",
        "              .4     -.4\n",
        "\n",
        "pid.pid = 1\n",
        "pid.Pid() = 1\n",
        "$*\n",
        "$*  I-DEAS Material: 6  name: BUS_CFRP_PW_ORTHO\n",
        "$* M46J PW ETW\n",
        "MAT8           6   1.7+7   1.7+7     .98 340000. 180000. 180000..0001712\n",
        "                           71.33\n",
        "\n",
        "type = MAT8\n",
        "nu12 = 0.98\n",
        "mass = 3.6428803074e-05\n"
       ]
      }
     ],
     "prompt_number": 34
    },
    {
     "cell_type": "code",
     "collapsed": false,
     "input": [
      "import getpass\n",
      "name = getpass.getuser()\n",
      "os.chdir(os.path.join(r'C:\\Users', name, 'Desktop'))"
     ],
     "language": "python",
     "metadata": {},
     "outputs": [],
     "prompt_number": 36
    },
    {
     "cell_type": "code",
     "collapsed": false,
     "input": [
      "pwd"
     ],
     "language": "python",
     "metadata": {},
     "outputs": [
      {
       "metadata": {},
       "output_type": "pyout",
       "prompt_number": 37,
       "text": [
        "u'C:\\\\Users\\\\sdoyle\\\\Desktop'"
       ]
      }
     ],
     "prompt_number": 37
    },
    {
     "cell_type": "code",
     "collapsed": false,
     "input": [
      "# write the bdf\n",
      "bdf2.write_bdf('fem.bdf', interspersed=True, size=8, precision='single')\n",
      "!tail -n 5 \"fem.bdf\"\n",
      "\n",
      "bdf2.write_bdf('fem.bdf', interspersed=True, size=16, precision='single')\n",
      "!tail \"fem.bdf\"\n",
      "\n",
      "bdf2.write_bdf('fem.bdf', interspersed=True, size=16, precision='double')\n",
      "!tail \"fem.bdf\"\n",
      "\n"
     ],
     "language": "python",
     "metadata": {},
     "outputs": [
      {
       "output_type": "stream",
       "stream": "stdout",
       "text": [
        "DEBUG:     fname=bdf_writeMesh.pyc         lineNo=96     ***writing fem.bdf\n"
       ]
      },
      {
       "output_type": "stream",
       "stream": "stdout",
       "text": [
        "CORD2R        75        1.355-13-2.19-15    -40.1.355-13-2.19-15      0.\n",
        "             40.-2.19-15    -40.\n",
        "CORD2R        76        1.355-13-2.19-15    -40.1.355-13-2.19-15      0.\n",
        "             40.-2.19-15    -40.\n",
        "ENDDATA\n",
        "DEBUG:     fname=bdf_writeMesh.pyc         lineNo=96     ***writing fem.bdf\n"
       ]
      },
      {
       "output_type": "stream",
       "stream": "stdout",
       "text": [
        "*\n",
        "CORD2R*               75                 1.3549966049-13-2.1854783949-15\n",
        "*                   -40. 1.3549966049-13-2.1854783949-15              0.\n",
        "*                    40.-2.1854783949-15            -40.\n",
        "*\n",
        "CORD2R*               76                 1.3549966049-13-2.1854783949-15\n",
        "*                   -40. 1.3549966049-13-2.1854783949-15              0.\n",
        "*                    40.-2.1854783949-15            -40.\n",
        "*\n",
        "ENDDATA\n",
        "DEBUG:     fname=bdf_writeMesh.pyc         lineNo=96     ***writing fem.bdf\n"
       ]
      },
      {
       "output_type": "stream",
       "stream": "stdout",
       "text": [
        "*\n",
        "CORD2R*               75                1.3549966049D-13-2.185478395D-15\n",
        "*       -4.000000000D+011.3549966049D-13-2.185478395D-150.0000000000D+00\n",
        "*       4.0000000000D+01-2.185478395D-15-4.000000000D+01\n",
        "*\n",
        "CORD2R*               76                1.3549966049D-13-2.185478395D-15\n",
        "*       -4.000000000D+011.3549966049D-13-2.185478395D-150.0000000000D+00\n",
        "*       4.0000000000D+01-2.185478395D-15-4.000000000D+01\n",
        "*\n",
        "ENDDATA\n"
       ]
      }
     ],
     "prompt_number": 49
    },
    {
     "cell_type": "code",
     "collapsed": false,
     "input": [
      "bdf_filename"
     ],
     "language": "python",
     "metadata": {},
     "outputs": [
      {
       "ename": "NameError",
       "evalue": "name 'bdf_filename' is not defined",
       "output_type": "pyerr",
       "traceback": [
        "\u001b[1;31m---------------------------------------------------------------------------\u001b[0m\n\u001b[1;31mNameError\u001b[0m                                 Traceback (most recent call last)",
        "\u001b[1;32m<ipython-input-17-7c9dff55e813>\u001b[0m in \u001b[0;36m<module>\u001b[1;34m()\u001b[0m\n\u001b[1;32m----> 1\u001b[1;33m \u001b[0mbdf_filename\u001b[0m\u001b[1;33m\u001b[0m\u001b[0m\n\u001b[0m",
        "\u001b[1;31mNameError\u001b[0m: name 'bdf_filename' is not defined"
       ]
      }
     ],
     "prompt_number": 17
    },
    {
     "cell_type": "code",
     "collapsed": false,
     "input": [
      "print bdf_filename\n",
      "%echo {bdf_filename}\n",
      "#!pyNastranGUI_qt -f nastran -i {bdf_filename}\n",
      "\n",
      "solid_bending_bdf = os.path.abspath(os.path.join(pkg_path, '..', 'models', 'solid_bending', 'solid_bending.bdf'))\n",
      "solid_bending_op2 = os.path.abspath(os.path.join(pkg_path, '..', 'models', 'solid_bending', 'solid_bending.op2'))\n",
      "\n",
      "!pyNastranGUI_qt -f nastran -i {solid_bending_bdf} -o {solid_bending_op2} --centroidal > junk.out\n",
      "#!pyNastranGUI_qt -f nastran -i {solid_bending_bdf} -o {solid_bending_op2} --nodal\n",
      "print \"done\""
     ],
     "language": "python",
     "metadata": {},
     "outputs": [
      {
       "output_type": "stream",
       "stream": "stdout",
       "text": [
        "c:\\nasa\\m4\\formats\\pynastran_v0.7\\models\\iSat\\ISat_Launch_Sm_Rgd.dat\n"
       ]
      },
      {
       "output_type": "stream",
       "stream": "stdout",
       "text": [
        "c:\\nasa\\m4\\formats\\pynastran_v0.7\\models\\iSat\\ISat_Launch_Sm_Rgd.dat\n"
       ]
      },
      {
       "output_type": "stream",
       "stream": "stdout",
       "text": [
        "done\n"
       ]
      }
     ],
     "prompt_number": 34
    },
    {
     "cell_type": "code",
     "collapsed": false,
     "input": [
      "f = open('script.py', 'wb')\n",
      "f.write('self.on_wireframe()\\n')\n",
      "f.write(\"self.on_take_screenshot('C:/Users/sdoyle/notebooks/pynastran/demo/picture.png')\\n\")\n",
      "f.write('sys.exit()')\n",
      "f.close()\n",
      "\n",
      "!pyNastranGUI_qt -f nastran -i {solid_bending_bdf} -o {solid_bending_op2} --centroidal --pyscript script.py > junk.out\n",
      "\n",
      "!picture.png\n",
      "#!_solid_bending.png\n",
      "\n",
      "from IPython.display import Image\n",
      "from IPython.display import display\n",
      "assert os.path.exists('_solid_bending.png')\n",
      "i = Image(filename='_solid_bending.png')\n",
      "display(i)\n",
      "print \"asdf\""
     ],
     "language": "python",
     "metadata": {},
     "outputs": [
      {
       "metadata": {},
       "output_type": "display_data",
       "png": "[encoded data removed]",
       "text": [
        "<IPython.core.display.Image at 0x3fa2ef0>"
       ]
      },
      {
       "output_type": "stream",
       "stream": "stdout",
       "text": [
        "asdf\n"
       ]
      }
     ],
     "prompt_number": 56
    },
    {
     "cell_type": "code",
     "collapsed": false,
     "input": [],
     "language": "python",
     "metadata": {},
     "outputs": []
    },
    {
     "cell_type": "code",
     "collapsed": false,
     "input": [],
     "language": "python",
     "metadata": {},
     "outputs": []
    }
   ],
   "metadata": {}
  }
 ]
}